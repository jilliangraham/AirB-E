{
 "cells": [
  {
   "cell_type": "markdown",
   "id": "f93fe99c",
   "metadata": {},
   "source": [
    "# Adding libraries"
   ]
  },
  {
   "cell_type": "code",
   "execution_count": 1,
   "id": "011c9a65",
   "metadata": {},
   "outputs": [
    {
     "name": "stdout",
     "output_type": "stream",
     "text": [
      "Requirement already satisfied: geopy in /Users/jilliangraham/anaconda3/lib/python3.11/site-packages (2.4.1)\n",
      "Requirement already satisfied: geographiclib<3,>=1.52 in /Users/jilliangraham/anaconda3/lib/python3.11/site-packages (from geopy) (2.0)\n",
      "Note: you may need to restart the kernel to use updated packages.\n",
      "Requirement already satisfied: python-Levenshtein in /Users/jilliangraham/anaconda3/lib/python3.11/site-packages (0.24.0)\n",
      "Requirement already satisfied: Levenshtein==0.24.0 in /Users/jilliangraham/anaconda3/lib/python3.11/site-packages (from python-Levenshtein) (0.24.0)\n",
      "Requirement already satisfied: rapidfuzz<4.0.0,>=3.1.0 in /Users/jilliangraham/anaconda3/lib/python3.11/site-packages (from Levenshtein==0.24.0->python-Levenshtein) (3.6.1)\n",
      "Note: you may need to restart the kernel to use updated packages.\n"
     ]
    }
   ],
   "source": [
    "import pandas as pd\n",
    "%pip install geopy\n",
    "from geopy.geocoders import Nominatim\n",
    "from geopy.exc import GeocoderTimedOut\n",
    "import time\n",
    "import numpy as np\n",
    "from IPython.display import display, FileLink\n",
    "from math import radians, sin, cos, sqrt, atan2\n",
    "%pip install python-Levenshtein\n",
    "import Levenshtein"
   ]
  },
  {
   "cell_type": "markdown",
   "id": "f9dcf495",
   "metadata": {},
   "source": [
    "# Cleaning the data frames"
   ]
  },
  {
   "cell_type": "markdown",
   "id": "46abcbdd",
   "metadata": {},
   "source": [
    "## LA_foreclosures_2015"
   ]
  },
  {
   "cell_type": "code",
   "execution_count": 2,
   "id": "228aff6e",
   "metadata": {
    "scrolled": true
   },
   "outputs": [
    {
     "name": "stdout",
     "output_type": "stream",
     "text": [
      "<class 'pandas.core.frame.DataFrame'>\n",
      "RangeIndex: 8255 entries, 0 to 8254\n",
      "Data columns (total 15 columns):\n",
      " #   Column                       Non-Null Count  Dtype \n",
      "---  ------                       --------------  ----- \n",
      " 0   APN                          8255 non-null   int64 \n",
      " 1   Registered Date              8255 non-null   object\n",
      " 2   Property Type                8255 non-null   object\n",
      " 3   Property Address             8255 non-null   object\n",
      " 4   Property City                8255 non-null   object\n",
      " 5   Property State               8255 non-null   object\n",
      " 6   Property Zip                 8255 non-null   int64 \n",
      " 7   Council District             8255 non-null   int64 \n",
      " 8   Lender                       8255 non-null   object\n",
      " 9   Lender Contact               8255 non-null   object\n",
      " 10  Lender Contact Phone         8253 non-null   object\n",
      " 11  Property Management          7835 non-null   object\n",
      " 12  Property Management Contact  7839 non-null   object\n",
      " 13  Property Management Address  8255 non-null   object\n",
      " 14  Property Mgmt Contact Phone  7839 non-null   object\n",
      "dtypes: int64(3), object(12)\n",
      "memory usage: 967.5+ KB\n"
     ]
    }
   ],
   "source": [
    "#Importing file\n",
    "file_name_2015 = 'LA_foreclosures_2015.csv'\n",
    "\n",
    "LA_foreclosures_2015 = pd.read_csv(file_name_2015)\n",
    "\n",
    "LA_foreclosures_2015.info()"
   ]
  },
  {
   "cell_type": "code",
   "execution_count": 3,
   "id": "dbcadac0",
   "metadata": {},
   "outputs": [
    {
     "data": {
      "text/plain": [
       "Index(['apn', 'registered_date', 'property_type', 'property_address',\n",
       "       'property_city', 'property_state', 'property_zip', 'council_district',\n",
       "       'lender', 'lender_contact', 'lender_contact_phone',\n",
       "       'property_management', 'property_management_contact',\n",
       "       'property_management_address', 'property_management_contact_phone'],\n",
       "      dtype='object')"
      ]
     },
     "execution_count": 3,
     "metadata": {},
     "output_type": "execute_result"
    }
   ],
   "source": [
    "#Turning column names into lower case and replacing white spaces\n",
    "\n",
    "LA_foreclosures_2015.rename(columns={'Property Mgmt Contact Phone': 'property_management_contact_phone'}, inplace=True)\n",
    "LA_foreclosures_2015.columns = LA_foreclosures_2015.columns.str.lower()\n",
    "LA_foreclosures_2015.columns = LA_foreclosures_2015.columns.str.replace(' ', '_')\n",
    "LA_foreclosures_2015.columns"
   ]
  },
  {
   "cell_type": "code",
   "execution_count": 4,
   "id": "4cc0d3c2",
   "metadata": {},
   "outputs": [
    {
     "data": {
      "text/plain": [
       "Index(['apn', 'registered_date', 'property_type', 'property_address',\n",
       "       'property_city', 'property_state', 'property_zip', 'council_district',\n",
       "       'lender', 'lender_contact', 'property_management'],\n",
       "      dtype='object')"
      ]
     },
     "execution_count": 4,
     "metadata": {},
     "output_type": "execute_result"
    }
   ],
   "source": [
    "#Dropping some columns\n",
    "LA_foreclosures_2015.drop(columns=['lender_contact_phone', 'property_management_contact', 'property_management_address', 'property_management_contact_phone'], inplace=True)\n",
    "LA_foreclosures_2015.columns"
   ]
  },
  {
   "cell_type": "code",
   "execution_count": 5,
   "id": "dc6eff62",
   "metadata": {},
   "outputs": [
    {
     "name": "stdout",
     "output_type": "stream",
     "text": [
      "(7835, 11)\n",
      "<class 'pandas.core.frame.DataFrame'>\n",
      "Index: 7835 entries, 1 to 8254\n",
      "Data columns (total 11 columns):\n",
      " #   Column               Non-Null Count  Dtype \n",
      "---  ------               --------------  ----- \n",
      " 0   apn                  7835 non-null   int64 \n",
      " 1   registered_date      7835 non-null   object\n",
      " 2   property_type        7835 non-null   object\n",
      " 3   property_address     7835 non-null   object\n",
      " 4   property_city        7835 non-null   object\n",
      " 5   property_state       7835 non-null   object\n",
      " 6   property_zip         7835 non-null   int64 \n",
      " 7   council_district     7835 non-null   int64 \n",
      " 8   lender               7835 non-null   object\n",
      " 9   lender_contact       7835 non-null   object\n",
      " 10  property_management  7835 non-null   object\n",
      "dtypes: int64(3), object(8)\n",
      "memory usage: 734.5+ KB\n"
     ]
    }
   ],
   "source": [
    "#Dropping rows with null values\n",
    "\n",
    "LA_foreclosures_2015.dropna(inplace=True)\n",
    "print(LA_foreclosures_2015.shape)\n",
    "LA_foreclosures_2015.info()"
   ]
  },
  {
   "cell_type": "code",
   "execution_count": 6,
   "id": "69e093ff",
   "metadata": {
    "scrolled": true
   },
   "outputs": [
    {
     "name": "stdout",
     "output_type": "stream",
     "text": [
      "Index(['apn', 'registered_date', 'property_type', 'property_address',\n",
      "       'property_city', 'property_state', 'property_zip', 'council_district',\n",
      "       'lender', 'lender_contact', 'property_management', 'longitude',\n",
      "       'latitude', 'foreclosure_year'],\n",
      "      dtype='object')\n",
      "(7835, 14)\n",
      "<bound method NDFrame.head of 1                22400 W MALDEN ST\\nLOS ANGELES, CA 93063\n",
      "2                  8400 N SALE AVE\\nLOS ANGELES, CA 93063\n",
      "3                  8509 N SALE AVE\\nLOS ANGELES, CA 93063\n",
      "4               8432 N RUDNICK AVE\\nLOS ANGELES, CA 93063\n",
      "5             8909 N FARRALONE AVE\\nLOS ANGELES, CA 93063\n",
      "                              ...                        \n",
      "8250    5511 E BALTIMORE ST\\nLOS ANGELES, CA 90042\\n(3...\n",
      "8251    1325 W ROBIDOUX ST\\nLOS ANGELES, CA 90744\\n(33...\n",
      "8252    10709 N HADDON AVE\\nLOS ANGELES, CA 91331\\n(34...\n",
      "8253    3146 W LARGA AVE\\nLOS ANGELES, CA 90039\\n(34.1...\n",
      "8254    3395 1/2 N CAZADOR ST\\nLOS ANGELES, CA 90065\\n...\n",
      "Name: property_address, Length: 7835, dtype: object>\n"
     ]
    }
   ],
   "source": [
    "#Creating new columns\n",
    "LA_foreclosures_2015['longitude'] = None\n",
    "LA_foreclosures_2015['latitude'] = None\n",
    "LA_foreclosures_2015['foreclosure_year'] = 2015\n",
    "\n",
    "print(LA_foreclosures_2015.columns)\n",
    "print(LA_foreclosures_2015.shape)\n",
    "print(LA_foreclosures_2015['property_address'].head)"
   ]
  },
  {
   "cell_type": "code",
   "execution_count": 7,
   "id": "9ba28e4d",
   "metadata": {},
   "outputs": [
    {
     "name": "stdout",
     "output_type": "stream",
     "text": [
      "Number of rows with nested coordinates: 7505 out of 7835 total rows\n"
     ]
    }
   ],
   "source": [
    "#I want to see if there is nested longitudinal and latitudinal data in the 'property_address' column\n",
    "\n",
    "# Define a regular expression pattern to check for the presence of latitude and longitude\n",
    "coordinate_pattern = r'\\(\\d+\\.\\d+, -\\d+\\.\\d+\\)'\n",
    "\n",
    "# Check which rows contain the nested latitude and longitude data\n",
    "rows_with_coordinates = LA_foreclosures_2015['property_address'].str.contains(coordinate_pattern)\n",
    "\n",
    "# Get the count of rows with nested coordinates\n",
    "count_with_coordinates = rows_with_coordinates.sum()\n",
    "\n",
    "# Display the count\n",
    "print(f\"Number of rows with nested coordinates: {count_with_coordinates} out of {len(LA_foreclosures_2015)} total rows\")"
   ]
  },
  {
   "cell_type": "code",
   "execution_count": 8,
   "id": "0b55394b",
   "metadata": {},
   "outputs": [
    {
     "name": "stdout",
     "output_type": "stream",
     "text": [
      "             apn registered_date  property_type  \\\n",
      "1     2004010012      05/01/2015  Single Family   \n",
      "2     2004011022      28/01/2015  Single Family   \n",
      "3     2004012013      24/07/2015  Single Family   \n",
      "4     2004019004      13/04/2015  Single Family   \n",
      "5     2004023015      08/01/2015  Single Family   \n",
      "...          ...             ...            ...   \n",
      "8250  5478009078      06/01/2015  Single Family   \n",
      "8251  7415016021      06/01/2015  Single Family   \n",
      "8252  2618009004      24/06/2015  Single Family   \n",
      "8253  5436029018      08/01/2015   Multi-Family   \n",
      "8254  5456005028      31/01/2015  Single Family   \n",
      "\n",
      "                                       property_address property_city  \\\n",
      "1              22400 W MALDEN ST\\nLOS ANGELES, CA 93063   LOS ANGELES   \n",
      "2                8400 N SALE AVE\\nLOS ANGELES, CA 93063   LOS ANGELES   \n",
      "3                8509 N SALE AVE\\nLOS ANGELES, CA 93063   LOS ANGELES   \n",
      "4             8432 N RUDNICK AVE\\nLOS ANGELES, CA 93063   LOS ANGELES   \n",
      "5           8909 N FARRALONE AVE\\nLOS ANGELES, CA 93063   LOS ANGELES   \n",
      "...                                                 ...           ...   \n",
      "8250  5511 E BALTIMORE ST\\nLOS ANGELES, CA 90042\\n(3...   LOS ANGELES   \n",
      "8251  1325 W ROBIDOUX ST\\nLOS ANGELES, CA 90744\\n(33...   LOS ANGELES   \n",
      "8252  10709 N HADDON AVE\\nLOS ANGELES, CA 91331\\n(34...   LOS ANGELES   \n",
      "8253  3146 W LARGA AVE\\nLOS ANGELES, CA 90039\\n(34.1...   LOS ANGELES   \n",
      "8254  3395 1/2 N CAZADOR ST\\nLOS ANGELES, CA 90065\\n...   LOS ANGELES   \n",
      "\n",
      "     property_state  property_zip  council_district  \\\n",
      "1                CA         93063                12   \n",
      "2                CA         93063                12   \n",
      "3                CA         93063                12   \n",
      "4                CA         93063                12   \n",
      "5                CA         93063                12   \n",
      "...             ...           ...               ...   \n",
      "8250             CA         90042                 1   \n",
      "8251             CA         90744                15   \n",
      "8252             CA         91331                 7   \n",
      "8253             CA         90039                13   \n",
      "8254             CA         90065                 1   \n",
      "\n",
      "                                               lender  lender_contact  \\\n",
      "1                               Wells Fargo Bank N.A.    Amy Whitcomb   \n",
      "2                                          NationStar    Paula Acosta   \n",
      "3                                              Celink    Cory Daggett   \n",
      "4               Federal National Mortgage Association         N/A N/a   \n",
      "5                               Wells Fargo Bank N.A.    Amy Whitcomb   \n",
      "...                                               ...             ...   \n",
      "8250          Citibank C/O Select Portfolio Servicing           NA NA   \n",
      "8251  Wells Fargo Bank C/O Select Portfolio Servicing           NA NA   \n",
      "8252                                       Cenlar FSB   ATHENA SANTOS   \n",
      "8253                            Wells Fargo Bank N.A.    Amy Whitcomb   \n",
      "8254                               Caliber Home Loans  Kandyce Hughes   \n",
      "\n",
      "                   property_management   longitude   latitude  \\\n",
      "1           Lender Processing Services    0.000000   0.000000   \n",
      "2                              MCS/687    0.000000   0.000000   \n",
      "3     Connie Renteria /  Five Brothers    0.000000   0.000000   \n",
      "4                         EDWARD ZUBIA    0.000000   0.000000   \n",
      "5                                  LPS    0.000000   0.000000   \n",
      "...                                ...         ...        ...   \n",
      "8250              Safeguard Properties -118.198072  34.117572   \n",
      "8251              Safeguard Properties -118.279926  33.787731   \n",
      "8252                      Edward Zubia -118.432902  34.265021   \n",
      "8253        Lender Processing Services -118.252532  34.111400   \n",
      "8254                      EDWARD ZUBIA -118.230372  34.107872   \n",
      "\n",
      "      foreclosure_year  \n",
      "1                 2015  \n",
      "2                 2015  \n",
      "3                 2015  \n",
      "4                 2015  \n",
      "5                 2015  \n",
      "...                ...  \n",
      "8250              2015  \n",
      "8251              2015  \n",
      "8252              2015  \n",
      "8253              2015  \n",
      "8254              2015  \n",
      "\n",
      "[7835 rows x 14 columns]\n"
     ]
    }
   ],
   "source": [
    "# Now I want to extract that nested longitudinal and latitudinal data into my 'longitude' and 'latitude' columns\n",
    "\n",
    "# Define a regular expression pattern to extract latitude and longitude when present\n",
    "pattern = r'\\(([-\\d.]+), ([-\\d.]+)\\)'\n",
    "\n",
    "# Use str.extract to create new columns 'latitude' and 'longitude'\n",
    "coordinates = LA_foreclosures_2015['property_address'].str.extract(pattern)\n",
    "\n",
    "# Fill NaN values with appropriate defaults (0 in this case, adjust as needed)\n",
    "coordinates = coordinates.fillna(0)\n",
    "\n",
    "# Convert 'latitude' and 'longitude' columns to numeric\n",
    "LA_foreclosures_2015['latitude'] = pd.to_numeric(coordinates[0])\n",
    "LA_foreclosures_2015['longitude'] = pd.to_numeric(coordinates[1])\n",
    "\n",
    "# Display the DataFrame\n",
    "print(LA_foreclosures_2015)"
   ]
  },
  {
   "cell_type": "markdown",
   "id": "c92932f6",
   "metadata": {},
   "source": [
    "## LA_foreclosures_2016"
   ]
  },
  {
   "cell_type": "code",
   "execution_count": 9,
   "id": "973e3b87",
   "metadata": {
    "scrolled": true
   },
   "outputs": [
    {
     "name": "stdout",
     "output_type": "stream",
     "text": [
      "<class 'pandas.core.frame.DataFrame'>\n",
      "RangeIndex: 7638 entries, 0 to 7637\n",
      "Data columns (total 15 columns):\n",
      " #   Column                     Non-Null Count  Dtype \n",
      "---  ------                     --------------  ----- \n",
      " 0   APN                        7638 non-null   int64 \n",
      " 1   RegisteredDate             7638 non-null   object\n",
      " 2   PropertyType               7638 non-null   object\n",
      " 3   PropertyAddress            7638 non-null   object\n",
      " 4   PropertyCity               7635 non-null   object\n",
      " 5   PropertyState              7638 non-null   object\n",
      " 6   PropertyZip                7638 non-null   int64 \n",
      " 7   CouncilDistrict            7638 non-null   int64 \n",
      " 8   Lender                     7638 non-null   object\n",
      " 9   LenderContact              7638 non-null   object\n",
      " 10  LenderContactPhone         7638 non-null   object\n",
      " 11  PropertyManagement         7134 non-null   object\n",
      " 12  PropertyManagementContact  7317 non-null   object\n",
      " 13  PropertyManagementAddress  7317 non-null   object\n",
      " 14  PropertyMgmtContactPhone   7317 non-null   object\n",
      "dtypes: int64(3), object(12)\n",
      "memory usage: 895.2+ KB\n"
     ]
    }
   ],
   "source": [
    "#Importing file\n",
    "\n",
    "file_name_2016 = 'LA_foreclosures_2016.csv'\n",
    "\n",
    "LA_foreclosures_2016 = pd.read_csv(file_name_2016)\n",
    "\n",
    "LA_foreclosures_2016.info()"
   ]
  },
  {
   "cell_type": "code",
   "execution_count": 10,
   "id": "b9c9c12e",
   "metadata": {},
   "outputs": [
    {
     "data": {
      "text/plain": [
       "Index(['apn', 'registered_date', 'property_type', 'property_address',\n",
       "       'property_city', 'property_state', 'property_zip', 'council_district',\n",
       "       'lender', 'lender_contact', 'lender_contact_phone',\n",
       "       'property_management', 'property_management_contact',\n",
       "       'property_management_address', 'property_management_contact_phone'],\n",
       "      dtype='object')"
      ]
     },
     "execution_count": 10,
     "metadata": {},
     "output_type": "execute_result"
    }
   ],
   "source": [
    "#Turning column names into lower case and replacing white spaces\n",
    "\n",
    "LA_foreclosures_2016.rename(columns={'RegisteredDate': 'Registered_Date', 'PropertyType': 'Property_Type', 'PropertyAddress': 'Property_Address', 'PropertyCity': 'Property_City', 'PropertyState': 'Property_State', 'PropertyZip': 'Property_Zip', 'CouncilDistrict': 'Council_District', 'LenderContact': 'Lender_Contact', 'LenderContactPhone': 'Lender_Contact_Phone', 'PropertyManagement': 'Property_Management', 'PropertyManagementContact': 'Property_Management_Contact', 'PropertyManagementAddress': 'Property_Management_Address', 'PropertyMgmtContactPhone': 'Property_Management_Contact_Phone'}, inplace = True)\n",
    "LA_foreclosures_2016.columns = LA_foreclosures_2016.columns.str.lower()\n",
    "LA_foreclosures_2016.columns = LA_foreclosures_2016.columns.str.replace(' ', '_')\n",
    "LA_foreclosures_2016.columns"
   ]
  },
  {
   "cell_type": "code",
   "execution_count": 11,
   "id": "4326a891",
   "metadata": {},
   "outputs": [
    {
     "data": {
      "text/plain": [
       "Index(['apn', 'registered_date', 'property_type', 'property_address',\n",
       "       'property_city', 'property_state', 'property_zip', 'council_district',\n",
       "       'lender', 'lender_contact', 'property_management'],\n",
       "      dtype='object')"
      ]
     },
     "execution_count": 11,
     "metadata": {},
     "output_type": "execute_result"
    }
   ],
   "source": [
    "#Dropping some columns\n",
    "\n",
    "LA_foreclosures_2016.drop(columns=['lender_contact_phone', 'property_management_contact', 'property_management_address', 'property_management_contact_phone'], inplace=True)\n",
    "LA_foreclosures_2016.columns"
   ]
  },
  {
   "cell_type": "code",
   "execution_count": 12,
   "id": "9725eda4",
   "metadata": {},
   "outputs": [
    {
     "name": "stdout",
     "output_type": "stream",
     "text": [
      "(7132, 11)\n",
      "<class 'pandas.core.frame.DataFrame'>\n",
      "Index: 7132 entries, 1 to 7637\n",
      "Data columns (total 11 columns):\n",
      " #   Column               Non-Null Count  Dtype \n",
      "---  ------               --------------  ----- \n",
      " 0   apn                  7132 non-null   int64 \n",
      " 1   registered_date      7132 non-null   object\n",
      " 2   property_type        7132 non-null   object\n",
      " 3   property_address     7132 non-null   object\n",
      " 4   property_city        7132 non-null   object\n",
      " 5   property_state       7132 non-null   object\n",
      " 6   property_zip         7132 non-null   int64 \n",
      " 7   council_district     7132 non-null   int64 \n",
      " 8   lender               7132 non-null   object\n",
      " 9   lender_contact       7132 non-null   object\n",
      " 10  property_management  7132 non-null   object\n",
      "dtypes: int64(3), object(8)\n",
      "memory usage: 668.6+ KB\n"
     ]
    }
   ],
   "source": [
    "#Dropping rows with null values\n",
    "\n",
    "LA_foreclosures_2016.dropna(inplace=True)\n",
    "print(LA_foreclosures_2016.shape)\n",
    "LA_foreclosures_2016.info()"
   ]
  },
  {
   "cell_type": "code",
   "execution_count": 13,
   "id": "8f9d408a",
   "metadata": {},
   "outputs": [
    {
     "name": "stdout",
     "output_type": "stream",
     "text": [
      "Index(['apn', 'registered_date', 'property_type', 'property_address',\n",
      "       'property_city', 'property_state', 'property_zip', 'council_district',\n",
      "       'lender', 'lender_contact', 'property_management', 'longitude',\n",
      "       'latitude', 'foreclosure_year'],\n",
      "      dtype='object')\n",
      "(7132, 14)\n"
     ]
    }
   ],
   "source": [
    "#Creating new columns\n",
    "LA_foreclosures_2016['longitude'] = None\n",
    "LA_foreclosures_2016['latitude'] = None\n",
    "LA_foreclosures_2016['foreclosure_year'] = 2016\n",
    "\n",
    "print(LA_foreclosures_2016.columns)\n",
    "print(LA_foreclosures_2016.shape)"
   ]
  },
  {
   "cell_type": "code",
   "execution_count": 14,
   "id": "10a9237e",
   "metadata": {},
   "outputs": [
    {
     "name": "stdout",
     "output_type": "stream",
     "text": [
      "Number of rows with nested coordinates: 6658 out of 7132 total rows\n"
     ]
    }
   ],
   "source": [
    "#I want to see if there is nested longitudinal and latitudinal data in the 'property_address' column\n",
    "\n",
    "# Define a regular expression pattern to check for the presence of latitude and longitude\n",
    "pattern = r'\\(\\d+\\.\\d+, -\\d+\\.\\d+\\)'\n",
    "\n",
    "# Check which rows contain the nested latitude and longitude data\n",
    "rows_with_coordinates = LA_foreclosures_2016['property_address'].str.contains(pattern)\n",
    "\n",
    "# Get the count of rows with nested coordinates\n",
    "count_with_coordinates = rows_with_coordinates.sum()\n",
    "\n",
    "# Display the count\n",
    "print(f\"Number of rows with nested coordinates: {count_with_coordinates} out of {len(LA_foreclosures_2016)} total rows\")"
   ]
  },
  {
   "cell_type": "code",
   "execution_count": 15,
   "id": "481fb97e",
   "metadata": {},
   "outputs": [
    {
     "name": "stdout",
     "output_type": "stream",
     "text": [
      "             apn registered_date  property_type  \\\n",
      "1     5570001008      01/07/2016  Single Family   \n",
      "2     6119024008      11/07/2016  Single Family   \n",
      "3     2631026015      12/14/2016  Single Family   \n",
      "5     5180020022      11/21/2016  Single Family   \n",
      "6     5043022038      11/30/2016  Single Family   \n",
      "...          ...             ...            ...   \n",
      "7633  2414028031      02/09/2016  Single Family   \n",
      "7634  5037003006      01/04/2016  Single Family   \n",
      "7635  2348008053      01/06/2016   Multi-Family   \n",
      "7636  2226021019      03/28/2016  Single Family   \n",
      "7637  7415012040      01/15/2016   Multi-Family   \n",
      "\n",
      "                                       property_address    property_city  \\\n",
      "1     2695 N LA CUESTA DR\\nLOS ANGELES, CA 90046\\n(3...      LOS ANGELES   \n",
      "2     841 W 148TH ST\\nLOS ANGELES, CA 90247\\n(33.898...      LOS ANGELES   \n",
      "3     11826 W SNELLING ST\\nLOS ANGELES, CA 91352\\n(3...      LOS ANGELES   \n",
      "5     2912 E PENNSYLVANIA AVE\\nLOS ANGELES, CA 90033...      LOS ANGELES   \n",
      "6     2906 S HAUSER BLVD\\nLOS ANGELES, CA 90016\\n(34...      LOS ANGELES   \n",
      "...                                                 ...              ...   \n",
      "7633  6525 N CLEON AVE\\nLOS ANGELES, CA 91606\\n(34.1...      LOS ANGELES   \n",
      "7634  1256 W LEIGHTON AVE\\nLOS ANGELES, CA 90037\\n(3...      LOS ANGELES   \n",
      "7635  5235 1/2 N BEN AVE\\nNORTH HOLLYWOOD, CA 91607\\...  NORTH HOLLYWOOD   \n",
      "7636  16755 W VALERIO ST\\nLOS ANGELES, CA 91406\\n(34...      LOS ANGELES   \n",
      "7637  1242 N WILMINGTON BLVD\\nWILMINGTON, CA 90744\\n...       WILMINGTON   \n",
      "\n",
      "     property_state  property_zip  council_district  \\\n",
      "1                CA         90046                 4   \n",
      "2                CA         90247                15   \n",
      "3                CA         91352                 6   \n",
      "5                CA         90033                14   \n",
      "6                CA         90016                10   \n",
      "...             ...           ...               ...   \n",
      "7633             CA         91606                 2   \n",
      "7634             CA         90037                 8   \n",
      "7635             CA         91607                 2   \n",
      "7636             CA         91406                 6   \n",
      "7637             CA         90744                15   \n",
      "\n",
      "                            lender         lender_contact  \\\n",
      "1               JP Morgan Chase NA               Amy Lott   \n",
      "2             Ditech Financial LLC    Property Department   \n",
      "3            Wells Fargo Bank N.A.          Jonathon Holt   \n",
      "5                 Freedom Mortgage          Jared Huffman   \n",
      "6        Ocwen Loan Servicing, LLC            Judy Credit   \n",
      "...                            ...                    ...   \n",
      "7633   OCWEN FINANCIAL CORPORATION  PROPERTY REGISTRATION   \n",
      "7634   Solutionstar Field Services           Paula Acosta   \n",
      "7635   Solutionstar Field Services           Paula Acosta   \n",
      "7636  Shellpoint Mortgage Services           Johan Correa   \n",
      "7637     Ocwen Loan Servicing, LLC            Judy Credit   \n",
      "\n",
      "                                    property_management   longitude  \\\n",
      "1                                  Safeguard Properties -118.354897   \n",
      "2     AFS c/o PRIORITY 1 PROPERTY PRESERVATION INC -... -118.290730   \n",
      "3                                                   LPS -118.391078   \n",
      "5                                               MCS/687 -118.202705   \n",
      "6                        National Real Estate Solutions -118.364514   \n",
      "...                                                 ...         ...   \n",
      "7633                                       Edward Zubia -118.368122   \n",
      "7634                            Assurant Field Services -118.299049   \n",
      "7635                Mortgage Contracting Services, Inc. -118.394314   \n",
      "7636                                                MCS -118.498239   \n",
      "7637                     National Real Estate Solutions -118.274842   \n",
      "\n",
      "       latitude  foreclosure_year  \n",
      "1     34.120434              2016  \n",
      "2     33.898269              2016  \n",
      "3     34.232634              2016  \n",
      "5     34.041590              2016  \n",
      "6     34.027705              2016  \n",
      "...         ...               ...  \n",
      "7633  34.189405              2016  \n",
      "7634  34.013218              2016  \n",
      "7635  34.165642              2016  \n",
      "7636  34.204779              2016  \n",
      "7637  33.787729              2016  \n",
      "\n",
      "[7132 rows x 14 columns]\n"
     ]
    }
   ],
   "source": [
    "#Extracting the longitude and latitude values from the 'property_on_map' column\n",
    "\n",
    "# Define a regular expression pattern to extract latitude and longitude when present\n",
    "pattern = r'\\(([-\\d.]+), ([-\\d.]+)\\)'\n",
    "\n",
    "# Use str.extract to create new columns 'latitude' and 'longitude'\n",
    "coordinates = LA_foreclosures_2016['property_address'].str.extract(pattern)\n",
    "\n",
    "# Fill NaN values with appropriate defaults (0 in this case, adjust as needed)\n",
    "coordinates = coordinates.fillna(0)\n",
    "\n",
    "# Convert 'latitude' and 'longitude' columns to numeric\n",
    "LA_foreclosures_2016['latitude'] = pd.to_numeric(coordinates[0])\n",
    "LA_foreclosures_2016['longitude'] = pd.to_numeric(coordinates[1])\n",
    "\n",
    "# Display the DataFrame\n",
    "print(LA_foreclosures_2016)"
   ]
  },
  {
   "cell_type": "markdown",
   "id": "655e5c64",
   "metadata": {},
   "source": [
    "## LA_foreclosures_2017"
   ]
  },
  {
   "cell_type": "code",
   "execution_count": 16,
   "id": "f7ca1b79",
   "metadata": {},
   "outputs": [
    {
     "name": "stdout",
     "output_type": "stream",
     "text": [
      "<class 'pandas.core.frame.DataFrame'>\n",
      "RangeIndex: 1754 entries, 0 to 1753\n",
      "Data columns (total 16 columns):\n",
      " #   Column                       Non-Null Count  Dtype \n",
      "---  ------                       --------------  ----- \n",
      " 0   APN                          1754 non-null   int64 \n",
      " 1   Registered Date              1754 non-null   object\n",
      " 2   Property Type                1754 non-null   object\n",
      " 3   Property Address             1754 non-null   object\n",
      " 4   Property City                1754 non-null   object\n",
      " 5   Property State               1754 non-null   object\n",
      " 6   Property Zip                 1754 non-null   int64 \n",
      " 7   Council District             1754 non-null   int64 \n",
      " 8   Lender                       1754 non-null   object\n",
      " 9   Lender Contact               1754 non-null   object\n",
      " 10  Lender Contact Phone         1754 non-null   object\n",
      " 11  Property Management          1679 non-null   object\n",
      " 12  Property Management Contact  1680 non-null   object\n",
      " 13  Property Management Address  1680 non-null   object\n",
      " 14  Property Mgmt Contact Phone  1680 non-null   object\n",
      " 15  Property on Map              1754 non-null   object\n",
      "dtypes: int64(3), object(13)\n",
      "memory usage: 219.4+ KB\n"
     ]
    }
   ],
   "source": [
    "file_name_2017 = 'LA_foreclosures_2017.csv'\n",
    "\n",
    "LA_foreclosures_2017 = pd.read_csv(file_name_2017)\n",
    "\n",
    "LA_foreclosures_2017.info()"
   ]
  },
  {
   "cell_type": "code",
   "execution_count": 17,
   "id": "6cd985e5",
   "metadata": {},
   "outputs": [
    {
     "data": {
      "text/plain": [
       "Index(['apn', 'registered_date', 'property_type', 'property_address',\n",
       "       'property_city', 'property_state', 'property_zip', 'council_district',\n",
       "       'lender', 'lender_contact', 'lender_contact_phone',\n",
       "       'property_management', 'property_management_contact',\n",
       "       'property_management_address', 'property_management_contact_phone',\n",
       "       'property_on_map'],\n",
       "      dtype='object')"
      ]
     },
     "execution_count": 17,
     "metadata": {},
     "output_type": "execute_result"
    }
   ],
   "source": [
    "#Turning column names into lower case and replacing white spaces\n",
    "\n",
    "LA_foreclosures_2017.rename(columns={'Property Mgmt Contact Phone': 'property_management_contact_phone'}, inplace=True)\n",
    "LA_foreclosures_2017.columns = LA_foreclosures_2017.columns.str.lower()\n",
    "LA_foreclosures_2017.columns = LA_foreclosures_2017.columns.str.replace(' ', '_')\n",
    "LA_foreclosures_2017.columns"
   ]
  },
  {
   "cell_type": "code",
   "execution_count": 18,
   "id": "17e128c0",
   "metadata": {},
   "outputs": [
    {
     "data": {
      "text/plain": [
       "Index(['apn', 'registered_date', 'property_type', 'property_address',\n",
       "       'property_city', 'property_state', 'property_zip', 'council_district',\n",
       "       'lender', 'lender_contact', 'property_management', 'property_on_map'],\n",
       "      dtype='object')"
      ]
     },
     "execution_count": 18,
     "metadata": {},
     "output_type": "execute_result"
    }
   ],
   "source": [
    "#dropping some columns \n",
    "\n",
    "LA_foreclosures_2017.drop(columns=['lender_contact_phone', 'property_management_contact', 'property_management_address', 'property_management_contact_phone'], inplace=True)\n",
    "LA_foreclosures_2017.columns"
   ]
  },
  {
   "cell_type": "code",
   "execution_count": 19,
   "id": "75bb87d7",
   "metadata": {},
   "outputs": [
    {
     "name": "stdout",
     "output_type": "stream",
     "text": [
      "(1679, 12)\n",
      "<class 'pandas.core.frame.DataFrame'>\n",
      "Index: 1679 entries, 0 to 1753\n",
      "Data columns (total 12 columns):\n",
      " #   Column               Non-Null Count  Dtype \n",
      "---  ------               --------------  ----- \n",
      " 0   apn                  1679 non-null   int64 \n",
      " 1   registered_date      1679 non-null   object\n",
      " 2   property_type        1679 non-null   object\n",
      " 3   property_address     1679 non-null   object\n",
      " 4   property_city        1679 non-null   object\n",
      " 5   property_state       1679 non-null   object\n",
      " 6   property_zip         1679 non-null   int64 \n",
      " 7   council_district     1679 non-null   int64 \n",
      " 8   lender               1679 non-null   object\n",
      " 9   lender_contact       1679 non-null   object\n",
      " 10  property_management  1679 non-null   object\n",
      " 11  property_on_map      1679 non-null   object\n",
      "dtypes: int64(3), object(9)\n",
      "memory usage: 170.5+ KB\n"
     ]
    }
   ],
   "source": [
    "#Dropping rows with null values\n",
    "\n",
    "LA_foreclosures_2017.dropna(inplace=True)\n",
    "print(LA_foreclosures_2017.shape)\n",
    "LA_foreclosures_2017.info()"
   ]
  },
  {
   "cell_type": "code",
   "execution_count": 20,
   "id": "f8e9f4eb",
   "metadata": {},
   "outputs": [
    {
     "name": "stdout",
     "output_type": "stream",
     "text": [
      "Index(['apn', 'registered_date', 'property_type', 'property_address',\n",
      "       'property_city', 'property_state', 'property_zip', 'council_district',\n",
      "       'lender', 'lender_contact', 'property_management', 'property_on_map',\n",
      "       'longitude', 'latitude', 'foreclosure_year'],\n",
      "      dtype='object')\n",
      "(1679, 15)\n"
     ]
    }
   ],
   "source": [
    "#Creating new columns\n",
    "LA_foreclosures_2017['longitude'] = None\n",
    "LA_foreclosures_2017['latitude'] = None\n",
    "LA_foreclosures_2017['foreclosure_year'] = 2017\n",
    "\n",
    "print(LA_foreclosures_2017.columns)\n",
    "print(LA_foreclosures_2017.shape)"
   ]
  },
  {
   "cell_type": "code",
   "execution_count": 21,
   "id": "80ecbe4c",
   "metadata": {
    "scrolled": true
   },
   "outputs": [
    {
     "name": "stdout",
     "output_type": "stream",
     "text": [
      "             apn registered_date  property_type           property_address  \\\n",
      "0     5003028023      01/25/2017  Single Family             1710 W 56TH ST   \n",
      "10    5512009019      01/04/2017  Single Family           116 S GARDNER ST   \n",
      "11    6018013002      01/03/2017  Single Family        7406 S LA SALLE AVE   \n",
      "12    6004007020      06/28/2017   Multi-Family              950 W 59TH DR   \n",
      "13    5143029070      03/18/2017  Single Family       1100 W WILSHIRE BLVD   \n",
      "...          ...             ...            ...                        ...   \n",
      "1748  5032013045      06/20/2017  Single Family          4007 S ABOURNE RD   \n",
      "1749  2656017016      03/29/2017  Single Family          15507 W TUPPER ST   \n",
      "1751  7416023018      01/18/2017  Single Family          931 N NEPTUNE AVE   \n",
      "1752  5094023021      01/10/2017   Multi-Family  3078 W JAMES M. WOOD BLVD   \n",
      "1753  7445002012      10/24/2017  Single Family           1300 N MEYLER ST   \n",
      "\n",
      "     property_city property_state  property_zip  council_district  \\\n",
      "0      LOS ANGELES             CA         90062                 8   \n",
      "10     LOS ANGELES             CA         90036                 5   \n",
      "11     LOS ANGELES             CA         90047                 8   \n",
      "12     LOS ANGELES             CA         90044                 9   \n",
      "13     LOS ANGELES             CA         90017                 1   \n",
      "...            ...            ...           ...               ...   \n",
      "1748   LOS ANGELES             CA         90008                10   \n",
      "1749   LOS ANGELES             CA         91343                 7   \n",
      "1751   LOS ANGELES             CA         90744                15   \n",
      "1752   LOS ANGELES             CA         90006                10   \n",
      "1753     SAN PEDRO             CA         90731                15   \n",
      "\n",
      "                                                 lender   lender_contact  \\\n",
      "0                                 Wells Fargo Bank N.A.    Jonathon Holt   \n",
      "10                              Nationstar Mortgage LLC     Paula Acosta   \n",
      "11                                    Selene Finance LP     Grace Wesson   \n",
      "12       U.S. Bank, N.A. C/O Select Portfolio Servicing          N/A N/A   \n",
      "13                                    Fay Servicing LLC     Grace Wesson   \n",
      "...                                                 ...              ...   \n",
      "1748  Wells Fargo Bank NA c/o Select Portfolio Servi...            NA NA   \n",
      "1749  Specialized Loan Servicing as Servicing Agent ...  Hunter Robinson   \n",
      "1751                              Wells Fargo Bank N.A.    Jonathon Holt   \n",
      "1752                           Ocwen Loan Servicing LLC      Judy Credit   \n",
      "1753         Financial Freedom, a division of CIT bank.        Dan Stack   \n",
      "\n",
      "                                    property_management  \\\n",
      "0                                                   MCS   \n",
      "10    Xome Field Services C/O New Beginning Properti...   \n",
      "11                                      M&M Mortgage Co   \n",
      "12                                         Edward Zubia   \n",
      "13                                             MCS-Bron   \n",
      "...                                                 ...   \n",
      "1748                                       Edward Zubia   \n",
      "1749                   Coldwell Banker Coastal Alliance   \n",
      "1751                                    M&M Mortgage Co   \n",
      "1752                Property Preservation Servicing LLC   \n",
      "1753                                        Red A Ranch   \n",
      "\n",
      "                           property_on_map  longitude  latitude  \\\n",
      "0              POINT (-118.30723 33.99136) -118.30723  33.99136   \n",
      "10             POINT (-118.35306 34.07302) -118.35306  34.07302   \n",
      "11              POINT (-118.3056 33.97247) -118.30560  33.97247   \n",
      "12     POINT (-118.29094999999998 33.9861) -118.29095  33.98610   \n",
      "13    POINT (-118.26384000000002 34.05228) -118.26384  34.05228   \n",
      "...                                    ...        ...       ...   \n",
      "1748  POINT (-118.34396999999998 34.01207) -118.34397  34.01207   \n",
      "1749  POINT (-118.47033000000002 34.23928) -118.47033  34.23928   \n",
      "1751  POINT (-118.26901999999998 33.78197) -118.26902  33.78197   \n",
      "1752           POINT (-118.29697 34.05574) -118.29697  34.05574   \n",
      "1753           POINT (-118.29656 33.75565) -118.29656  33.75565   \n",
      "\n",
      "      foreclosure_year  \n",
      "0                 2017  \n",
      "10                2017  \n",
      "11                2017  \n",
      "12                2017  \n",
      "13                2017  \n",
      "...                ...  \n",
      "1748              2017  \n",
      "1749              2017  \n",
      "1751              2017  \n",
      "1752              2017  \n",
      "1753              2017  \n",
      "\n",
      "[1679 rows x 15 columns]\n"
     ]
    }
   ],
   "source": [
    "#Extracting the longitude and latitude values from the 'property_on_map' column\n",
    "\n",
    "LA_foreclosures_2017_coordinates = LA_foreclosures_2017['property_on_map'].str.extract(r'POINT \\(([-\\d.]+) ([-\\d.]+)\\)')\n",
    "LA_foreclosures_2017['longitude'] = pd.to_numeric(LA_foreclosures_2017_coordinates[0])\n",
    "LA_foreclosures_2017['latitude'] = pd.to_numeric(LA_foreclosures_2017_coordinates[1])\n",
    "print(LA_foreclosures_2017)"
   ]
  },
  {
   "cell_type": "code",
   "execution_count": 22,
   "id": "b5d27aaf",
   "metadata": {},
   "outputs": [],
   "source": [
    "#drop 'property_on_map' column\n",
    "\n",
    "LA_foreclosures_2017.drop(columns='property_on_map', inplace=True)\n"
   ]
  },
  {
   "cell_type": "markdown",
   "id": "b18cd318",
   "metadata": {},
   "source": [
    "## LA_foreclosures_2018"
   ]
  },
  {
   "cell_type": "code",
   "execution_count": 23,
   "id": "2790c49d",
   "metadata": {},
   "outputs": [
    {
     "name": "stdout",
     "output_type": "stream",
     "text": [
      "<class 'pandas.core.frame.DataFrame'>\n",
      "RangeIndex: 3112 entries, 0 to 3111\n",
      "Data columns (total 16 columns):\n",
      " #   Column                             Non-Null Count  Dtype  \n",
      "---  ------                             --------------  -----  \n",
      " 0   APN                                3112 non-null   int64  \n",
      " 1   Registered Date                    3112 non-null   object \n",
      " 2   Property Type                      3112 non-null   object \n",
      " 3   Property Address                   3112 non-null   object \n",
      " 4   Property City                      3055 non-null   object \n",
      " 5   Property State                     3112 non-null   object \n",
      " 6   Property Zip                       3055 non-null   float64\n",
      " 7   Council District                   3112 non-null   int64  \n",
      " 8   Lender                             3110 non-null   object \n",
      " 9   Lender Contact                     3112 non-null   object \n",
      " 10  Lender Contact Phone               3112 non-null   object \n",
      " 11  Property Management                2999 non-null   object \n",
      " 12  Property Management Contact        3000 non-null   object \n",
      " 13  Property Management Address        3001 non-null   object \n",
      " 14  Property Management Contact Phone  3001 non-null   object \n",
      " 15  Property on Map                    3112 non-null   object \n",
      "dtypes: float64(1), int64(2), object(13)\n",
      "memory usage: 389.1+ KB\n"
     ]
    }
   ],
   "source": [
    "file_name_2018 = 'LA_foreclosures_2018.csv'\n",
    "\n",
    "LA_foreclosures_2018 = pd.read_csv(file_name_2018)\n",
    "\n",
    "LA_foreclosures_2018.info()"
   ]
  },
  {
   "cell_type": "code",
   "execution_count": 24,
   "id": "1966eb80",
   "metadata": {},
   "outputs": [
    {
     "data": {
      "text/plain": [
       "Index(['apn', 'registered_date', 'property_type', 'property_address',\n",
       "       'property_city', 'property_state', 'property_zip', 'council_district',\n",
       "       'lender', 'lender_contact', 'lender_contact_phone',\n",
       "       'property_management', 'property_management_contact',\n",
       "       'property_management_address', 'property_management_contact_phone',\n",
       "       'property_on_map'],\n",
       "      dtype='object')"
      ]
     },
     "execution_count": 24,
     "metadata": {},
     "output_type": "execute_result"
    }
   ],
   "source": [
    "#Turning column names into lower case and replacing white spaces\n",
    "\n",
    "LA_foreclosures_2018.columns = LA_foreclosures_2018.columns.str.lower()\n",
    "LA_foreclosures_2018.columns = LA_foreclosures_2018.columns.str.replace(' ', '_')\n",
    "LA_foreclosures_2018.columns"
   ]
  },
  {
   "cell_type": "code",
   "execution_count": 25,
   "id": "2fb7a0c2",
   "metadata": {},
   "outputs": [
    {
     "data": {
      "text/plain": [
       "Index(['apn', 'registered_date', 'property_type', 'property_address',\n",
       "       'property_city', 'property_state', 'property_zip', 'council_district',\n",
       "       'lender', 'lender_contact', 'property_management', 'property_on_map'],\n",
       "      dtype='object')"
      ]
     },
     "execution_count": 25,
     "metadata": {},
     "output_type": "execute_result"
    }
   ],
   "source": [
    "#dropping some columns \n",
    "\n",
    "LA_foreclosures_2018.drop(columns=['lender_contact_phone', 'property_management_contact', 'property_management_address', 'property_management_contact_phone'], inplace=True)\n",
    "LA_foreclosures_2018.columns"
   ]
  },
  {
   "cell_type": "code",
   "execution_count": 26,
   "id": "59cd3865",
   "metadata": {},
   "outputs": [
    {
     "name": "stdout",
     "output_type": "stream",
     "text": [
      "(2943, 12)\n",
      "<class 'pandas.core.frame.DataFrame'>\n",
      "Index: 2943 entries, 3 to 3111\n",
      "Data columns (total 12 columns):\n",
      " #   Column               Non-Null Count  Dtype  \n",
      "---  ------               --------------  -----  \n",
      " 0   apn                  2943 non-null   int64  \n",
      " 1   registered_date      2943 non-null   object \n",
      " 2   property_type        2943 non-null   object \n",
      " 3   property_address     2943 non-null   object \n",
      " 4   property_city        2943 non-null   object \n",
      " 5   property_state       2943 non-null   object \n",
      " 6   property_zip         2943 non-null   float64\n",
      " 7   council_district     2943 non-null   int64  \n",
      " 8   lender               2943 non-null   object \n",
      " 9   lender_contact       2943 non-null   object \n",
      " 10  property_management  2943 non-null   object \n",
      " 11  property_on_map      2943 non-null   object \n",
      "dtypes: float64(1), int64(2), object(9)\n",
      "memory usage: 298.9+ KB\n"
     ]
    }
   ],
   "source": [
    "#Dropping rows with null values\n",
    "\n",
    "LA_foreclosures_2018.dropna(inplace=True)\n",
    "print(LA_foreclosures_2018.shape)\n",
    "LA_foreclosures_2018.info()"
   ]
  },
  {
   "cell_type": "code",
   "execution_count": 27,
   "id": "f6edfd30",
   "metadata": {},
   "outputs": [
    {
     "name": "stdout",
     "output_type": "stream",
     "text": [
      "Index(['apn', 'registered_date', 'property_type', 'property_address',\n",
      "       'property_city', 'property_state', 'property_zip', 'council_district',\n",
      "       'lender', 'lender_contact', 'property_management', 'property_on_map',\n",
      "       'longitude', 'latitude', 'foreclosure_year'],\n",
      "      dtype='object')\n",
      "(2943, 15)\n"
     ]
    }
   ],
   "source": [
    "#Creating new columns\n",
    "LA_foreclosures_2018['longitude'] = None\n",
    "LA_foreclosures_2018['latitude'] = None\n",
    "LA_foreclosures_2018['foreclosure_year'] = 2018\n",
    "\n",
    "print(LA_foreclosures_2018.columns)\n",
    "print(LA_foreclosures_2018.shape)"
   ]
  },
  {
   "cell_type": "code",
   "execution_count": 28,
   "id": "476283e7",
   "metadata": {},
   "outputs": [
    {
     "name": "stdout",
     "output_type": "stream",
     "text": [
      "             apn registered_date  property_type       property_address  \\\n",
      "3     5015020012      01/17/2018   Multi-Family         2071 W 52ND ST   \n",
      "6     6006027004      11/06/2018  Single Family          500 E 59TH PL   \n",
      "8     2524021020      01/04/2018  Single Family      13279 W VAUGHN ST   \n",
      "9     2125007008      06/07/2018  Single Family    6951 N ETIWANDA AVE   \n",
      "10    2261035019      12/14/2018  Single Family    15468 W MORRISON ST   \n",
      "...          ...             ...            ...                    ...   \n",
      "3107  2624006027      01/12/2018  Single Family    9945 N TAMARACK AVE   \n",
      "3108  4383006022      01/25/2018  Single Family      9847 W PORTOLA DR   \n",
      "3109  2761013009      01/31/2018  Single Family  9749 N QUAKERTOWN AVE   \n",
      "3110  2542019010      01/03/2018  Single Family      9651 N SUNLAND PL   \n",
      "3111  4384018005      08/10/2018  Single Family       9736 W YOAKUM DR   \n",
      "\n",
      "     property_city property_state  property_zip  council_district  \\\n",
      "3      LOS ANGELES             CA       90062.0                 8   \n",
      "6      LOS ANGELES             CA       90003.0                 9   \n",
      "8      LOS ANGELES             CA       91340.0                 7   \n",
      "9      LOS ANGELES             CA       91335.0                 3   \n",
      "10     LOS ANGELES             CA       91403.0                 5   \n",
      "...            ...            ...           ...               ...   \n",
      "3107   LOS ANGELES             CA       91331.0                 7   \n",
      "3108   LOS ANGELES             CA       90210.0                 5   \n",
      "3109   LOS ANGELES             CA       91311.0                12   \n",
      "3110   LOS ANGELES             CA       91040.0                 7   \n",
      "3111   LOS ANGELES             CA       90210.0                 5   \n",
      "\n",
      "                                                 lender   lender_contact  \\\n",
      "3                                    JP Morgan Chase NA         Amy Lott   \n",
      "6                                                Celink     Daniel Stack   \n",
      "8                                 Wells Fargo Bank N.A.    Jenna Douglas   \n",
      "9                          US-BANK National Association  Jessica Vanella   \n",
      "10                                           Mr. Cooper     Paula Acosta   \n",
      "...                                                 ...              ...   \n",
      "3107        Trojan Capital c/o Ocwen Loan Servicing LLC      Judy Credit   \n",
      "3108                           Lantzman Investments Inc   March Lantzman   \n",
      "3109  Specialized Loan Servicing LLC on behalf of be...  Douglas Randall   \n",
      "3110                          Ocwen Loan Servicing, LLC      Judy Credit   \n",
      "3111                            SUPERIOR LOAN SERVICING     BARRY HARARI   \n",
      "\n",
      "                 property_management  \\\n",
      "3               Safeguard Properties   \n",
      "6                        Red A Ranch   \n",
      "8                                LPS   \n",
      "9               Advantage Conveyance   \n",
      "10                                B2   \n",
      "...                              ...   \n",
      "3107              OGIWA INCORPORATED   \n",
      "3108                            LRES   \n",
      "3109                       Eddy Leon   \n",
      "3110  National Real Estate Solutions   \n",
      "3111                             LPS   \n",
      "\n",
      "                                        property_on_map   longitude  \\\n",
      "3     2071 W 52ND ST\\nLOS ANGELES, CA 90062\\n(33.995... -118.316025   \n",
      "6     500 E 59TH PL\\nLOS ANGELES, CA 90003\\n(33.9860... -118.266182   \n",
      "8     13279 W VAUGHN ST\\nLOS ANGELES, CA 91340\\n(34.... -118.422398   \n",
      "9     6951 N ETIWANDA AVE\\nLOS ANGELES, CA 91335\\n(3... -118.531672   \n",
      "10    15468 W MORRISON ST\\nLOS ANGELES, CA 91403\\n(3... -118.471627   \n",
      "...                                                 ...         ...   \n",
      "3107  9945 N TAMARACK AVE\\nLOS ANGELES, CA 91331\\n(3... -118.410328   \n",
      "3108  9847 W PORTOLA DR\\nLOS ANGELES, CA 90210\\n(34.... -118.433459   \n",
      "3109  9749 N QUAKERTOWN AVE\\nLOS ANGELES, CA 91311\\n... -118.570484   \n",
      "3110  9651 N SUNLAND PL\\nLOS ANGELES, CA 91040\\n(34.... -118.359306   \n",
      "3111  9736 W YOAKUM DR\\nLOS ANGELES, CA 90210\\n(34.1... -118.430800   \n",
      "\n",
      "       latitude  foreclosure_year  \n",
      "3     33.995044              2018  \n",
      "6     33.986083              2018  \n",
      "8     34.281704              2018  \n",
      "9     34.197043              2018  \n",
      "10    34.160296              2018  \n",
      "...         ...               ...  \n",
      "3107  34.250795              2018  \n",
      "3108  34.110322              2018  \n",
      "3109  34.247511              2018  \n",
      "3110  34.246636              2018  \n",
      "3111  34.112471              2018  \n",
      "\n",
      "[2943 rows x 15 columns]\n"
     ]
    }
   ],
   "source": [
    "#Extracting the longitude and latitude values from the 'property_on_map' column\n",
    "\n",
    "LA_foreclosures_2018_coordinates = LA_foreclosures_2018['property_on_map'].str.extract(r'\\((-?\\d+\\.\\d+), (-?\\d+\\.\\d+)\\)')\n",
    "LA_foreclosures_2018['longitude'] = pd.to_numeric(LA_foreclosures_2018_coordinates[1])\n",
    "LA_foreclosures_2018['latitude'] = pd.to_numeric(LA_foreclosures_2018_coordinates[0])\n",
    "print(LA_foreclosures_2018)"
   ]
  },
  {
   "cell_type": "code",
   "execution_count": 29,
   "id": "8ba89fde",
   "metadata": {},
   "outputs": [],
   "source": [
    "#dropping 'property_on_map'\n",
    "LA_foreclosures_2018.drop(columns=['property_on_map'], inplace=True)"
   ]
  },
  {
   "cell_type": "markdown",
   "id": "64237d71",
   "metadata": {},
   "source": [
    "## LA_foreclosures_2019"
   ]
  },
  {
   "cell_type": "code",
   "execution_count": 30,
   "id": "709077db",
   "metadata": {},
   "outputs": [
    {
     "name": "stdout",
     "output_type": "stream",
     "text": [
      "<class 'pandas.core.frame.DataFrame'>\n",
      "RangeIndex: 3317 entries, 0 to 3316\n",
      "Data columns (total 18 columns):\n",
      " #   Column                             Non-Null Count  Dtype  \n",
      "---  ------                             --------------  -----  \n",
      " 0   APN                                3317 non-null   int64  \n",
      " 1   Registered Date                    3317 non-null   object \n",
      " 2   Property Type                      3317 non-null   object \n",
      " 3   Property Address                   3317 non-null   object \n",
      " 4   Property City                      3313 non-null   object \n",
      " 5   Property State                     3317 non-null   object \n",
      " 6   Property Zip                       3317 non-null   int64  \n",
      " 7   Council District                   3317 non-null   int64  \n",
      " 8   Lender                             3311 non-null   object \n",
      " 9   Lender Contact                     3317 non-null   object \n",
      " 10  Lender Contact Phone               3317 non-null   object \n",
      " 11  Property Management                3113 non-null   object \n",
      " 12  Property Management Contact        3118 non-null   object \n",
      " 13  Property Management Address        3118 non-null   object \n",
      " 14  Property Management Contact Phone  3118 non-null   object \n",
      " 15  Longitude                          3313 non-null   float64\n",
      " 16  Latitude                           3313 non-null   float64\n",
      " 17  Property on Map                    3313 non-null   object \n",
      "dtypes: float64(2), int64(3), object(13)\n",
      "memory usage: 466.6+ KB\n"
     ]
    }
   ],
   "source": [
    "file_name_2019 = 'LA_foreclosures_2019.csv'\n",
    "\n",
    "LA_foreclosures_2019 = pd.read_csv(file_name_2019)\n",
    "\n",
    "LA_foreclosures_2019.info()"
   ]
  },
  {
   "cell_type": "code",
   "execution_count": 31,
   "id": "27440585",
   "metadata": {},
   "outputs": [
    {
     "data": {
      "text/plain": [
       "Index(['apn', 'registered_date', 'property_type', 'property_address',\n",
       "       'property_city', 'property_state', 'property_zip', 'council_district',\n",
       "       'lender', 'lender_contact', 'lender_contact_phone',\n",
       "       'property_management', 'property_management_contact',\n",
       "       'property_management_address', 'property_management_contact_phone',\n",
       "       'longitude', 'latitude', 'property_on_map'],\n",
       "      dtype='object')"
      ]
     },
     "execution_count": 31,
     "metadata": {},
     "output_type": "execute_result"
    }
   ],
   "source": [
    "#Turning column names into lower case and replacing white spaces\n",
    "\n",
    "LA_foreclosures_2019.columns = LA_foreclosures_2019.columns.str.lower()\n",
    "LA_foreclosures_2019.columns = LA_foreclosures_2019.columns.str.replace(' ', '_')\n",
    "LA_foreclosures_2019.columns"
   ]
  },
  {
   "cell_type": "code",
   "execution_count": 32,
   "id": "00691bbf",
   "metadata": {
    "scrolled": true
   },
   "outputs": [
    {
     "data": {
      "text/plain": [
       "Index(['apn', 'registered_date', 'property_type', 'property_address',\n",
       "       'property_city', 'property_state', 'property_zip', 'council_district',\n",
       "       'lender', 'lender_contact', 'property_management', 'longitude',\n",
       "       'latitude'],\n",
       "      dtype='object')"
      ]
     },
     "execution_count": 32,
     "metadata": {},
     "output_type": "execute_result"
    }
   ],
   "source": [
    "#dropping some columns \n",
    "\n",
    "LA_foreclosures_2019.drop(columns=['lender_contact_phone', 'property_management_contact', 'property_management_address', 'property_management_contact_phone', 'property_on_map'], inplace=True)\n",
    "LA_foreclosures_2019.columns"
   ]
  },
  {
   "cell_type": "code",
   "execution_count": 33,
   "id": "b0ca3445",
   "metadata": {},
   "outputs": [
    {
     "name": "stdout",
     "output_type": "stream",
     "text": [
      "(3107, 13)\n",
      "<class 'pandas.core.frame.DataFrame'>\n",
      "Index: 3107 entries, 0 to 3316\n",
      "Data columns (total 13 columns):\n",
      " #   Column               Non-Null Count  Dtype  \n",
      "---  ------               --------------  -----  \n",
      " 0   apn                  3107 non-null   int64  \n",
      " 1   registered_date      3107 non-null   object \n",
      " 2   property_type        3107 non-null   object \n",
      " 3   property_address     3107 non-null   object \n",
      " 4   property_city        3107 non-null   object \n",
      " 5   property_state       3107 non-null   object \n",
      " 6   property_zip         3107 non-null   int64  \n",
      " 7   council_district     3107 non-null   int64  \n",
      " 8   lender               3107 non-null   object \n",
      " 9   lender_contact       3107 non-null   object \n",
      " 10  property_management  3107 non-null   object \n",
      " 11  longitude            3107 non-null   float64\n",
      " 12  latitude             3107 non-null   float64\n",
      "dtypes: float64(2), int64(3), object(8)\n",
      "memory usage: 339.8+ KB\n"
     ]
    }
   ],
   "source": [
    "#Dropping rows with null values\n",
    "\n",
    "LA_foreclosures_2019.dropna(inplace=True)\n",
    "print(LA_foreclosures_2019.shape)\n",
    "LA_foreclosures_2019.info()"
   ]
  },
  {
   "cell_type": "code",
   "execution_count": 34,
   "id": "8ddbdaec",
   "metadata": {
    "scrolled": true
   },
   "outputs": [
    {
     "name": "stdout",
     "output_type": "stream",
     "text": [
      "Index(['apn', 'registered_date', 'property_type', 'property_address',\n",
      "       'property_city', 'property_state', 'property_zip', 'council_district',\n",
      "       'lender', 'lender_contact', 'property_management', 'longitude',\n",
      "       'latitude', 'foreclosure_year'],\n",
      "      dtype='object')\n",
      "(3107, 14)\n"
     ]
    }
   ],
   "source": [
    "#Creating new column\n",
    "LA_foreclosures_2019['foreclosure_year'] = 2019\n",
    "\n",
    "print(LA_foreclosures_2019.columns)\n",
    "print(LA_foreclosures_2019.shape)"
   ]
  },
  {
   "cell_type": "markdown",
   "id": "1f72a167",
   "metadata": {},
   "source": [
    "## LA_foreclosures_2020"
   ]
  },
  {
   "cell_type": "code",
   "execution_count": 35,
   "id": "37fc04d3",
   "metadata": {},
   "outputs": [
    {
     "name": "stdout",
     "output_type": "stream",
     "text": [
      "<class 'pandas.core.frame.DataFrame'>\n",
      "RangeIndex: 3005 entries, 0 to 3004\n",
      "Data columns (total 18 columns):\n",
      " #   Column                             Non-Null Count  Dtype  \n",
      "---  ------                             --------------  -----  \n",
      " 0   APN                                3005 non-null   int64  \n",
      " 1   Registered Date                    3005 non-null   object \n",
      " 2   Property Type                      3005 non-null   object \n",
      " 3   Property Address                   3005 non-null   object \n",
      " 4   Property City                      3005 non-null   object \n",
      " 5   Property State                     3005 non-null   object \n",
      " 6   Property Zip                       3005 non-null   int64  \n",
      " 7   Council District                   3005 non-null   int64  \n",
      " 8   Lender                             3005 non-null   object \n",
      " 9   Lender Contact                     3005 non-null   object \n",
      " 10  Lender Contact Phone               3005 non-null   object \n",
      " 11  Property Management                2797 non-null   object \n",
      " 12  Property Management Contact        2811 non-null   object \n",
      " 13  Property Management Address        2811 non-null   object \n",
      " 14  Property Management Contact Phone  2811 non-null   object \n",
      " 15  lon                                3005 non-null   float64\n",
      " 16  lat                                3005 non-null   float64\n",
      " 17  Property on Map                    3005 non-null   object \n",
      "dtypes: float64(2), int64(3), object(13)\n",
      "memory usage: 422.7+ KB\n"
     ]
    }
   ],
   "source": [
    "file_name_2020 = 'LA_foreclosures_2020.csv'\n",
    "\n",
    "LA_foreclosures_2020 = pd.read_csv(file_name_2020)\n",
    "\n",
    "LA_foreclosures_2020.info()"
   ]
  },
  {
   "cell_type": "code",
   "execution_count": 36,
   "id": "c4aadc67",
   "metadata": {},
   "outputs": [
    {
     "data": {
      "text/plain": [
       "Index(['apn', 'registered_date', 'property_type', 'property_address',\n",
       "       'property_city', 'property_state', 'property_zip', 'council_district',\n",
       "       'lender', 'lender_contact', 'lender_contact_phone',\n",
       "       'property_management', 'property_management_contact',\n",
       "       'property_management_address', 'property_management_contact_phone',\n",
       "       'longitude', 'latitude', 'property_on_map'],\n",
       "      dtype='object')"
      ]
     },
     "execution_count": 36,
     "metadata": {},
     "output_type": "execute_result"
    }
   ],
   "source": [
    "#Turning column names into lower case and replacing white spaces\n",
    "\n",
    "LA_foreclosures_2020.rename(columns={'lon': 'longitude', 'lat': 'latitude'}, inplace = True)\n",
    "LA_foreclosures_2020.columns = LA_foreclosures_2020.columns.str.lower()\n",
    "LA_foreclosures_2020.columns = LA_foreclosures_2020.columns.str.replace(' ', '_')\n",
    "LA_foreclosures_2020.columns"
   ]
  },
  {
   "cell_type": "code",
   "execution_count": 37,
   "id": "00e27e2c",
   "metadata": {},
   "outputs": [
    {
     "data": {
      "text/plain": [
       "Index(['apn', 'registered_date', 'property_type', 'property_address',\n",
       "       'property_city', 'property_state', 'property_zip', 'council_district',\n",
       "       'lender', 'lender_contact', 'property_management', 'longitude',\n",
       "       'latitude'],\n",
       "      dtype='object')"
      ]
     },
     "execution_count": 37,
     "metadata": {},
     "output_type": "execute_result"
    }
   ],
   "source": [
    "#dropping some columns \n",
    "\n",
    "LA_foreclosures_2020.drop(columns=['lender_contact_phone', 'property_management_contact', 'property_management_address', 'property_management_contact_phone', 'property_on_map'], inplace=True)\n",
    "LA_foreclosures_2020.columns"
   ]
  },
  {
   "cell_type": "code",
   "execution_count": 38,
   "id": "73f84b43",
   "metadata": {},
   "outputs": [
    {
     "name": "stdout",
     "output_type": "stream",
     "text": [
      "(2797, 13)\n",
      "<class 'pandas.core.frame.DataFrame'>\n",
      "Index: 2797 entries, 1 to 3004\n",
      "Data columns (total 13 columns):\n",
      " #   Column               Non-Null Count  Dtype  \n",
      "---  ------               --------------  -----  \n",
      " 0   apn                  2797 non-null   int64  \n",
      " 1   registered_date      2797 non-null   object \n",
      " 2   property_type        2797 non-null   object \n",
      " 3   property_address     2797 non-null   object \n",
      " 4   property_city        2797 non-null   object \n",
      " 5   property_state       2797 non-null   object \n",
      " 6   property_zip         2797 non-null   int64  \n",
      " 7   council_district     2797 non-null   int64  \n",
      " 8   lender               2797 non-null   object \n",
      " 9   lender_contact       2797 non-null   object \n",
      " 10  property_management  2797 non-null   object \n",
      " 11  longitude            2797 non-null   float64\n",
      " 12  latitude             2797 non-null   float64\n",
      "dtypes: float64(2), int64(3), object(8)\n",
      "memory usage: 305.9+ KB\n"
     ]
    }
   ],
   "source": [
    "#Dropping rows with null values\n",
    "\n",
    "LA_foreclosures_2020.dropna(inplace=True)\n",
    "print(LA_foreclosures_2020.shape)\n",
    "LA_foreclosures_2020.info()"
   ]
  },
  {
   "cell_type": "code",
   "execution_count": 39,
   "id": "28bd4080",
   "metadata": {},
   "outputs": [
    {
     "name": "stdout",
     "output_type": "stream",
     "text": [
      "Index(['apn', 'registered_date', 'property_type', 'property_address',\n",
      "       'property_city', 'property_state', 'property_zip', 'council_district',\n",
      "       'lender', 'lender_contact', 'property_management', 'longitude',\n",
      "       'latitude', 'foreclosure_year'],\n",
      "      dtype='object')\n",
      "(2797, 14)\n"
     ]
    }
   ],
   "source": [
    "#Creating new column\n",
    "LA_foreclosures_2020['foreclosure_year'] = 2020\n",
    "\n",
    "print(LA_foreclosures_2020.columns)\n",
    "print(LA_foreclosures_2020.shape)"
   ]
  },
  {
   "cell_type": "markdown",
   "id": "a810adcc",
   "metadata": {},
   "source": [
    "## LA_foreclosures_2021"
   ]
  },
  {
   "cell_type": "code",
   "execution_count": 40,
   "id": "208b94c9",
   "metadata": {},
   "outputs": [
    {
     "name": "stdout",
     "output_type": "stream",
     "text": [
      "<class 'pandas.core.frame.DataFrame'>\n",
      "RangeIndex: 2134 entries, 0 to 2133\n",
      "Data columns (total 18 columns):\n",
      " #   Column                     Non-Null Count  Dtype  \n",
      "---  ------                     --------------  -----  \n",
      " 0   APN                        2134 non-null   int64  \n",
      " 1   Registered Date            2134 non-null   object \n",
      " 2   Property Type              2134 non-null   object \n",
      " 3   PropertyAddress            2134 non-null   object \n",
      " 4   PropertyCity               2134 non-null   object \n",
      " 5   PropertyState              2134 non-null   object \n",
      " 6   PropertyZip                2134 non-null   int64  \n",
      " 7   CouncilDistrict            2134 non-null   int64  \n",
      " 8   Lender                     2134 non-null   object \n",
      " 9   LenderContact              2134 non-null   object \n",
      " 10  LenderContactPhone         2134 non-null   object \n",
      " 11  PropertyManagement         1993 non-null   object \n",
      " 12  PropertyManagementContact  1997 non-null   object \n",
      " 13  PropertyManagementAddress  1998 non-null   object \n",
      " 14  PropertyMgmtContactPhone   1998 non-null   object \n",
      " 15  lon                        2134 non-null   float64\n",
      " 16  lat                        2134 non-null   float64\n",
      " 17  Property on map            2134 non-null   object \n",
      "dtypes: float64(2), int64(3), object(13)\n",
      "memory usage: 300.2+ KB\n"
     ]
    }
   ],
   "source": [
    "file_name_2021 = 'LA_foreclosures_2021.csv'\n",
    "\n",
    "LA_foreclosures_2021 = pd.read_csv(file_name_2021)\n",
    "\n",
    "LA_foreclosures_2021.info()"
   ]
  },
  {
   "cell_type": "code",
   "execution_count": 41,
   "id": "0f2bcdf6",
   "metadata": {},
   "outputs": [
    {
     "data": {
      "text/plain": [
       "Index(['apn', 'registered_date', 'property_type', 'property_address',\n",
       "       'property_city', 'property_state', 'property_zip', 'council_district',\n",
       "       'lender', 'lender_contact', 'lender_contact_phone',\n",
       "       'property_management', 'property_management_contact',\n",
       "       'property_management_address', 'property_management_contact_phone',\n",
       "       'longitude', 'latitude', 'property_on_map'],\n",
       "      dtype='object')"
      ]
     },
     "execution_count": 41,
     "metadata": {},
     "output_type": "execute_result"
    }
   ],
   "source": [
    "#Turning column names into lower case and replacing white spaces\n",
    "\n",
    "LA_foreclosures_2021.rename(columns={'PropertyAddress': 'Property_Address', 'PropertyCity': 'Property_City', 'PropertyState': 'Property_State', 'PropertyZip': 'Property_Zip', 'CouncilDistrict': 'Council_District', 'LenderContact': 'Lender_Contact', 'LenderContactPhone': 'Lender_Contact_Phone', 'PropertyManagement': 'Property_Management', 'PropertyManagementContact': 'Property_Management_Contact', 'PropertyManagementAddress': 'Property_Management_Address', 'PropertyMgmtContactPhone': 'Property_Management_Contact_Phone', 'lon': 'longitude', 'lat': 'latitude'}, inplace = True)\n",
    "LA_foreclosures_2021.columns = LA_foreclosures_2021.columns.str.lower()\n",
    "LA_foreclosures_2021.columns = LA_foreclosures_2021.columns.str.replace(' ', '_')\n",
    "LA_foreclosures_2021.columns"
   ]
  },
  {
   "cell_type": "code",
   "execution_count": 42,
   "id": "83d6b41c",
   "metadata": {},
   "outputs": [
    {
     "data": {
      "text/plain": [
       "Index(['apn', 'registered_date', 'property_type', 'property_address',\n",
       "       'property_city', 'property_state', 'property_zip', 'council_district',\n",
       "       'lender', 'lender_contact', 'property_management', 'longitude',\n",
       "       'latitude'],\n",
       "      dtype='object')"
      ]
     },
     "execution_count": 42,
     "metadata": {},
     "output_type": "execute_result"
    }
   ],
   "source": [
    "#dropping some columns \n",
    "\n",
    "LA_foreclosures_2021.drop(columns=['lender_contact_phone', 'property_management_contact', 'property_management_address', 'property_management_contact_phone', 'property_on_map'], inplace=True)\n",
    "LA_foreclosures_2021.columns"
   ]
  },
  {
   "cell_type": "code",
   "execution_count": 43,
   "id": "d02f30c5",
   "metadata": {},
   "outputs": [
    {
     "name": "stdout",
     "output_type": "stream",
     "text": [
      "(1993, 13)\n",
      "<class 'pandas.core.frame.DataFrame'>\n",
      "Index: 1993 entries, 1 to 2133\n",
      "Data columns (total 13 columns):\n",
      " #   Column               Non-Null Count  Dtype  \n",
      "---  ------               --------------  -----  \n",
      " 0   apn                  1993 non-null   int64  \n",
      " 1   registered_date      1993 non-null   object \n",
      " 2   property_type        1993 non-null   object \n",
      " 3   property_address     1993 non-null   object \n",
      " 4   property_city        1993 non-null   object \n",
      " 5   property_state       1993 non-null   object \n",
      " 6   property_zip         1993 non-null   int64  \n",
      " 7   council_district     1993 non-null   int64  \n",
      " 8   lender               1993 non-null   object \n",
      " 9   lender_contact       1993 non-null   object \n",
      " 10  property_management  1993 non-null   object \n",
      " 11  longitude            1993 non-null   float64\n",
      " 12  latitude             1993 non-null   float64\n",
      "dtypes: float64(2), int64(3), object(8)\n",
      "memory usage: 218.0+ KB\n"
     ]
    }
   ],
   "source": [
    "#Dropping rows with null values\n",
    "\n",
    "LA_foreclosures_2021.dropna(inplace=True)\n",
    "print(LA_foreclosures_2021.shape)\n",
    "LA_foreclosures_2021.info()"
   ]
  },
  {
   "cell_type": "code",
   "execution_count": 44,
   "id": "2f5ca0e2",
   "metadata": {},
   "outputs": [
    {
     "name": "stdout",
     "output_type": "stream",
     "text": [
      "Index(['apn', 'registered_date', 'property_type', 'property_address',\n",
      "       'property_city', 'property_state', 'property_zip', 'council_district',\n",
      "       'lender', 'lender_contact', 'property_management', 'longitude',\n",
      "       'latitude', 'foreclosure_year'],\n",
      "      dtype='object')\n",
      "(1993, 14)\n"
     ]
    }
   ],
   "source": [
    "#Creating new column\n",
    "LA_foreclosures_2021['foreclosure_year'] = 2021\n",
    "\n",
    "print(LA_foreclosures_2021.columns)\n",
    "print(LA_foreclosures_2021.shape)"
   ]
  },
  {
   "cell_type": "markdown",
   "id": "0aede7d9",
   "metadata": {},
   "source": [
    "## LA_foreclosures_2022"
   ]
  },
  {
   "cell_type": "code",
   "execution_count": 45,
   "id": "885c7b94",
   "metadata": {},
   "outputs": [
    {
     "name": "stdout",
     "output_type": "stream",
     "text": [
      "<class 'pandas.core.frame.DataFrame'>\n",
      "RangeIndex: 2437 entries, 0 to 2436\n",
      "Data columns (total 18 columns):\n",
      " #   Column                       Non-Null Count  Dtype  \n",
      "---  ------                       --------------  -----  \n",
      " 0   APN                          2437 non-null   int64  \n",
      " 1   Registered Date              2437 non-null   object \n",
      " 2   Property Type                2437 non-null   object \n",
      " 3   Property Address             2437 non-null   object \n",
      " 4   Property City                2437 non-null   object \n",
      " 5   Property State               2437 non-null   object \n",
      " 6   Property Zip                 2437 non-null   int64  \n",
      " 7   Council District             2437 non-null   int64  \n",
      " 8   Lender                       2437 non-null   object \n",
      " 9   Lender Contact               2437 non-null   object \n",
      " 10  Lender Contact Phone         2437 non-null   object \n",
      " 11  Property Management          2272 non-null   object \n",
      " 12  Property Management Contact  2275 non-null   object \n",
      " 13  Property Management Address  2275 non-null   object \n",
      " 14  Property Mgmt Contact Phone  2275 non-null   object \n",
      " 15  lon                          2437 non-null   float64\n",
      " 16  lat                          2437 non-null   float64\n",
      " 17  Property on map              2437 non-null   object \n",
      "dtypes: float64(2), int64(3), object(13)\n",
      "memory usage: 342.8+ KB\n"
     ]
    }
   ],
   "source": [
    "file_name_2022 = 'LA_foreclosures_2022.csv'\n",
    "\n",
    "LA_foreclosures_2022 = pd.read_csv(file_name_2022)\n",
    "\n",
    "LA_foreclosures_2022.info()"
   ]
  },
  {
   "cell_type": "code",
   "execution_count": 46,
   "id": "78027501",
   "metadata": {},
   "outputs": [
    {
     "data": {
      "text/plain": [
       "Index(['apn', 'registered_date', 'property_type', 'property_address',\n",
       "       'property_city', 'property_state', 'property_zip', 'council_district',\n",
       "       'lender', 'lender_contact', 'lender_contact_phone',\n",
       "       'property_management', 'property_management_contact',\n",
       "       'property_management_address', 'property_management_contact_phone',\n",
       "       'longitude', 'latitude', 'property_on_map'],\n",
       "      dtype='object')"
      ]
     },
     "execution_count": 46,
     "metadata": {},
     "output_type": "execute_result"
    }
   ],
   "source": [
    "#Turning column names into lower case and replacing white spaces\n",
    "\n",
    "LA_foreclosures_2022.rename(columns={'Property Mgmt Contact Phone': 'property_management_contact_phone', 'lon': 'longitude', 'lat': 'latitude'}, inplace=True)\n",
    "LA_foreclosures_2022.columns = LA_foreclosures_2022.columns.str.lower()\n",
    "LA_foreclosures_2022.columns = LA_foreclosures_2022.columns.str.replace(' ', '_')\n",
    "LA_foreclosures_2022.columns"
   ]
  },
  {
   "cell_type": "code",
   "execution_count": 47,
   "id": "d2b32455",
   "metadata": {},
   "outputs": [
    {
     "data": {
      "text/plain": [
       "Index(['apn', 'registered_date', 'property_type', 'property_address',\n",
       "       'property_city', 'property_state', 'property_zip', 'council_district',\n",
       "       'lender', 'lender_contact', 'property_management', 'longitude',\n",
       "       'latitude'],\n",
       "      dtype='object')"
      ]
     },
     "execution_count": 47,
     "metadata": {},
     "output_type": "execute_result"
    }
   ],
   "source": [
    "#dropping some columns \n",
    "\n",
    "LA_foreclosures_2022.drop(columns=['lender_contact_phone', 'property_management_contact', 'property_management_address', 'property_management_contact_phone', 'property_on_map'], inplace=True)\n",
    "LA_foreclosures_2022.columns"
   ]
  },
  {
   "cell_type": "code",
   "execution_count": 48,
   "id": "58f5300f",
   "metadata": {},
   "outputs": [
    {
     "name": "stdout",
     "output_type": "stream",
     "text": [
      "(2272, 13)\n",
      "<class 'pandas.core.frame.DataFrame'>\n",
      "Index: 2272 entries, 9 to 2436\n",
      "Data columns (total 13 columns):\n",
      " #   Column               Non-Null Count  Dtype  \n",
      "---  ------               --------------  -----  \n",
      " 0   apn                  2272 non-null   int64  \n",
      " 1   registered_date      2272 non-null   object \n",
      " 2   property_type        2272 non-null   object \n",
      " 3   property_address     2272 non-null   object \n",
      " 4   property_city        2272 non-null   object \n",
      " 5   property_state       2272 non-null   object \n",
      " 6   property_zip         2272 non-null   int64  \n",
      " 7   council_district     2272 non-null   int64  \n",
      " 8   lender               2272 non-null   object \n",
      " 9   lender_contact       2272 non-null   object \n",
      " 10  property_management  2272 non-null   object \n",
      " 11  longitude            2272 non-null   float64\n",
      " 12  latitude             2272 non-null   float64\n",
      "dtypes: float64(2), int64(3), object(8)\n",
      "memory usage: 248.5+ KB\n"
     ]
    }
   ],
   "source": [
    "#Dropping rows with null values\n",
    "\n",
    "LA_foreclosures_2022.dropna(inplace=True)\n",
    "print(LA_foreclosures_2022.shape)\n",
    "LA_foreclosures_2022.info()"
   ]
  },
  {
   "cell_type": "code",
   "execution_count": 49,
   "id": "61f007b6",
   "metadata": {},
   "outputs": [
    {
     "name": "stdout",
     "output_type": "stream",
     "text": [
      "Index(['apn', 'registered_date', 'property_type', 'property_address',\n",
      "       'property_city', 'property_state', 'property_zip', 'council_district',\n",
      "       'lender', 'lender_contact', 'property_management', 'longitude',\n",
      "       'latitude', 'foreclosure_year'],\n",
      "      dtype='object')\n",
      "(2272, 14)\n"
     ]
    }
   ],
   "source": [
    "#Creating new column\n",
    "LA_foreclosures_2022['foreclosure_year'] = 2022\n",
    "\n",
    "print(LA_foreclosures_2022.columns)\n",
    "print(LA_foreclosures_2022.shape)"
   ]
  },
  {
   "cell_type": "markdown",
   "id": "66154f41",
   "metadata": {},
   "source": [
    "# Merging the data frames and more cleaning"
   ]
  },
  {
   "cell_type": "code",
   "execution_count": 50,
   "id": "e6c7b889",
   "metadata": {},
   "outputs": [
    {
     "name": "stdout",
     "output_type": "stream",
     "text": [
      "              apn         registered_date  property_type  \\\n",
      "0      2004010012              05/01/2015  Single Family   \n",
      "1      2004011022              28/01/2015  Single Family   \n",
      "2      2004012013              24/07/2015  Single Family   \n",
      "3      2004019004              13/04/2015  Single Family   \n",
      "4      2004023015              08/01/2015  Single Family   \n",
      "...           ...                     ...            ...   \n",
      "29753  2116008035  12/21/2022 12:00:00 AM  Single Family   \n",
      "29754  2733011004  09/27/2022 12:00:00 AM  Single Family   \n",
      "29755  4119020006  06/07/2022 12:00:00 AM  Single Family   \n",
      "29756  7351025018  08/05/2022 12:00:00 AM  Single Family   \n",
      "29757  2620020002  11/03/2022 12:00:00 AM  Single Family   \n",
      "\n",
      "                                  property_address property_city  \\\n",
      "0         22400 W MALDEN ST\\nLOS ANGELES, CA 93063   LOS ANGELES   \n",
      "1           8400 N SALE AVE\\nLOS ANGELES, CA 93063   LOS ANGELES   \n",
      "2           8509 N SALE AVE\\nLOS ANGELES, CA 93063   LOS ANGELES   \n",
      "3        8432 N RUDNICK AVE\\nLOS ANGELES, CA 93063   LOS ANGELES   \n",
      "4      8909 N FARRALONE AVE\\nLOS ANGELES, CA 93063   LOS ANGELES   \n",
      "...                                            ...           ...   \n",
      "29753                         7753 N BOTHWELL ROAD   LOS ANGELES   \n",
      "29754                         10513 N SHOSHONE AVE   LOS ANGELES   \n",
      "29755                               7436 W 88TH PL   LOS ANGELES   \n",
      "29756                           20836 S DENKER AVE   LOS ANGELES   \n",
      "29757                           10339 N CAYUGA AVE   LOS ANGELES   \n",
      "\n",
      "      property_state  property_zip  council_district  \\\n",
      "0                 CA       93063.0                12   \n",
      "1                 CA       93063.0                12   \n",
      "2                 CA       93063.0                12   \n",
      "3                 CA       93063.0                12   \n",
      "4                 CA       93063.0                12   \n",
      "...              ...           ...               ...   \n",
      "29753             CA       91335.0                 3   \n",
      "29754             CA       91344.0                12   \n",
      "29755             CA       90045.0                11   \n",
      "29756             CA       90501.0                15   \n",
      "29757             CA       91331.0                 7   \n",
      "\n",
      "                                      lender  lender_contact  \\\n",
      "0                      Wells Fargo Bank N.A.    Amy Whitcomb   \n",
      "1                                 NationStar    Paula Acosta   \n",
      "2                                     Celink    Cory Daggett   \n",
      "3      Federal National Mortgage Association         N/A N/a   \n",
      "4                      Wells Fargo Bank N.A.    Amy Whitcomb   \n",
      "...                                      ...             ...   \n",
      "29753                           LoanCare LLC      Eric MOORE   \n",
      "29754                           LoanCare LLC      Eric MOORE   \n",
      "29755                             Cenlar FSB      Eric Moore   \n",
      "29756               Planet Home Lending, LLC   Alyssa Guzman   \n",
      "29757                    WELL FARGO BANK N.A  Brock Nekvinda   \n",
      "\n",
      "                    property_management  longitude  latitude  foreclosure_year  \n",
      "0            Lender Processing Services    0.00000   0.00000              2015  \n",
      "1                               MCS/687    0.00000   0.00000              2015  \n",
      "2      Connie Renteria /  Five Brothers    0.00000   0.00000              2015  \n",
      "3                          EDWARD ZUBIA    0.00000   0.00000              2015  \n",
      "4                                   LPS    0.00000   0.00000              2015  \n",
      "...                                 ...        ...       ...               ...  \n",
      "29753                         Safeguard -118.56137  34.21172              2022  \n",
      "29754                         Safeguard -118.51780  34.26157              2022  \n",
      "29755       Safeguard - Code Compliance -118.42537  33.95649              2022  \n",
      "29756   Gary's Field Inspection Service -118.30377  33.84082              2022  \n",
      "29757                WELL FARGO BANK NA -118.42157  34.25821              2022  \n",
      "\n",
      "[29758 rows x 14 columns]\n"
     ]
    }
   ],
   "source": [
    "#Merging data frames\n",
    "\n",
    "all_LA_foreclosure_dfs = [LA_foreclosures_2015, LA_foreclosures_2016, LA_foreclosures_2017, LA_foreclosures_2018, LA_foreclosures_2019, LA_foreclosures_2020, LA_foreclosures_2021, LA_foreclosures_2022]\n",
    "\n",
    "LA_foreclosures_2015_to_2022 = pd.concat(all_LA_foreclosure_dfs, ignore_index=True)\n",
    "\n",
    "print(LA_foreclosures_2015_to_2022)"
   ]
  },
  {
   "cell_type": "code",
   "execution_count": 51,
   "id": "97e81ce0",
   "metadata": {
    "scrolled": true
   },
   "outputs": [
    {
     "name": "stdout",
     "output_type": "stream",
     "text": [
      "Number of rows with latitude equal to 0.00: 804\n",
      "Number of rows with longitude equal to 0.00: 804\n",
      "DataFrame after dropping rows with latitude or longitude equal to 0.00:\n",
      "              apn         registered_date  property_type  \\\n",
      "311    6083008010              01/12/2015   Multi-Family   \n",
      "331    2164023003              22/01/2015  Single Family   \n",
      "332    5143012013              22/04/2015  Single Family   \n",
      "333    4106029005              15/07/2015  Single Family   \n",
      "334    2138005033              24/08/2015  Single Family   \n",
      "...           ...                     ...            ...   \n",
      "29753  2116008035  12/21/2022 12:00:00 AM  Single Family   \n",
      "29754  2733011004  09/27/2022 12:00:00 AM  Single Family   \n",
      "29755  4119020006  06/07/2022 12:00:00 AM  Single Family   \n",
      "29756  7351025018  08/05/2022 12:00:00 AM  Single Family   \n",
      "29757  2620020002  11/03/2022 12:00:00 AM  Single Family   \n",
      "\n",
      "                                        property_address property_city  \\\n",
      "311    346 E 116TH ST\\nLOS ANGELES, CA 90061\\n(33.929...   LOS ANGELES   \n",
      "331    19531 W COLLIER ST\\nLOS ANGELES, CA 91356\\n(34...   LOS ANGELES   \n",
      "332    1329 W LINWOOD AVE\\nLOS ANGELES, CA 90017\\n(34...   LOS ANGELES   \n",
      "333    7870 S BOEING AVE\\nLOS ANGELES, CA 90045\\n(33....   LOS ANGELES   \n",
      "334    6941 OWENSMOUTH AVE\\nCANOGA PARK, CA 91303\\n(3...   CANOGA PARK   \n",
      "...                                                  ...           ...   \n",
      "29753                               7753 N BOTHWELL ROAD   LOS ANGELES   \n",
      "29754                               10513 N SHOSHONE AVE   LOS ANGELES   \n",
      "29755                                     7436 W 88TH PL   LOS ANGELES   \n",
      "29756                                 20836 S DENKER AVE   LOS ANGELES   \n",
      "29757                                 10339 N CAYUGA AVE   LOS ANGELES   \n",
      "\n",
      "      property_state  property_zip  council_district  \\\n",
      "311               CA       90061.0                15   \n",
      "331               CA       91356.0                 3   \n",
      "332               CA       90017.0                 1   \n",
      "333               CA       90045.0                11   \n",
      "334               CA       91303.0                 3   \n",
      "...              ...           ...               ...   \n",
      "29753             CA       91335.0                 3   \n",
      "29754             CA       91344.0                12   \n",
      "29755             CA       90045.0                11   \n",
      "29756             CA       90501.0                15   \n",
      "29757             CA       91331.0                 7   \n",
      "\n",
      "                           lender   lender_contact  \\\n",
      "311         Wells Fargo Bank N.A.    Jonathon Holt   \n",
      "331            JP Morgan Chase NA         Amy Lott   \n",
      "332                 Deutsche Bank     Leon Oransky   \n",
      "333               Bank of America   VPR Department   \n",
      "334    Select Portfolio Servicing  Code Violations   \n",
      "...                           ...              ...   \n",
      "29753                LoanCare LLC       Eric MOORE   \n",
      "29754                LoanCare LLC       Eric MOORE   \n",
      "29755                  Cenlar FSB       Eric Moore   \n",
      "29756    Planet Home Lending, LLC    Alyssa Guzman   \n",
      "29757         WELL FARGO BANK N.A   Brock Nekvinda   \n",
      "\n",
      "                   property_management   longitude   latitude  \\\n",
      "311                                LPS -118.267830  33.929188   \n",
      "331                                MCS -118.558790  34.166635   \n",
      "332        US Best Repair Service, Inc -118.268789  34.051050   \n",
      "333                       EDWARD ZUBIA -118.387358  33.966885   \n",
      "334                                MCS -118.601545  34.196811   \n",
      "...                                ...         ...        ...   \n",
      "29753                        Safeguard -118.561370  34.211720   \n",
      "29754                        Safeguard -118.517800  34.261570   \n",
      "29755      Safeguard - Code Compliance -118.425370  33.956490   \n",
      "29756  Gary's Field Inspection Service -118.303770  33.840820   \n",
      "29757               WELL FARGO BANK NA -118.421570  34.258210   \n",
      "\n",
      "       foreclosure_year  \n",
      "311                2015  \n",
      "331                2015  \n",
      "332                2015  \n",
      "333                2015  \n",
      "334                2015  \n",
      "...                 ...  \n",
      "29753              2022  \n",
      "29754              2022  \n",
      "29755              2022  \n",
      "29756              2022  \n",
      "29757              2022  \n",
      "\n",
      "[28954 rows x 14 columns]\n"
     ]
    }
   ],
   "source": [
    "#dropping rows with null longitude and latitude values \n",
    "\n",
    "# Count of rows where 'latitude' contains \"0.00\"\n",
    "count_latitude_zero = LA_foreclosures_2015_to_2022[LA_foreclosures_2015_to_2022['latitude'] == 0.00000].shape[0]\n",
    "\n",
    "# Count of rows where 'longitude' contains \"0.00\"\n",
    "count_longitude_zero = LA_foreclosures_2015_to_2022[LA_foreclosures_2015_to_2022['longitude'] == 0.00000].shape[0]\n",
    "\n",
    "# Display the counts\n",
    "print(f\"Number of rows with latitude equal to 0.00: {count_latitude_zero}\")\n",
    "print(f\"Number of rows with longitude equal to 0.00: {count_longitude_zero}\")\n",
    "\n",
    "#drop the rows with the 0.0000 values\n",
    "# Create a boolean mask for rows where 'latitude' or 'longitude' contains \"0.00\"\n",
    "mask = (LA_foreclosures_2015_to_2022['latitude'] == 0.00) | (LA_foreclosures_2015_to_2022['longitude'] == 0.00)\n",
    "\n",
    "# Drop the rows based on the boolean mask in place\n",
    "LA_foreclosures_2015_to_2022.drop(LA_foreclosures_2015_to_2022[mask].index, inplace=True)\n",
    "\n",
    "# Display the DataFrame after dropping rows\n",
    "print(\"DataFrame after dropping rows with latitude or longitude equal to 0.00:\")\n",
    "print(LA_foreclosures_2015_to_2022)"
   ]
  },
  {
   "cell_type": "code",
   "execution_count": 52,
   "id": "26e374c2",
   "metadata": {
    "scrolled": true
   },
   "outputs": [
    {
     "name": "stdout",
     "output_type": "stream",
     "text": [
      "        latitude   longitude  distance_to_la_city_center\n",
      "311    33.929188 -118.267830                   13.858041\n",
      "331    34.166635 -118.558790                   31.677087\n",
      "332    34.051050 -118.268789                    2.314952\n",
      "333    33.966885 -118.387358                   16.289111\n",
      "334    34.196811 -118.601545                   36.654745\n",
      "...          ...         ...                         ...\n",
      "29753  34.211720 -118.561370                   34.198443\n",
      "29754  34.261570 -118.517800                   34.323468\n",
      "29755  33.956490 -118.425370                   19.841929\n",
      "29756  33.840820 -118.303770                   24.148683\n",
      "29757  34.258210 -118.421570                   28.153456\n",
      "\n",
      "[28954 rows x 3 columns]\n"
     ]
    }
   ],
   "source": [
    "# adding a 'distance_to_city_center' column and caluclating distance\n",
    "\n",
    "\n",
    "# Function to calculate distance using Haversine formula\n",
    "def haversine(lat1, lon1, lat2, lon2):\n",
    "    R = 6371.0  # Earth radius in kilometers\n",
    "\n",
    "    # Convert latitude and longitude from degrees to radians\n",
    "    lat1, lon1, lat2, lon2 = map(radians, [lat1, lon1, lat2, lon2])\n",
    "\n",
    "    # Calculate differences in coordinates\n",
    "    dlat = lat2 - lat1\n",
    "    dlon = lon2 - lon1\n",
    "\n",
    "    # Haversine formula\n",
    "    a = sin(dlat / 2)**2 + cos(lat1) * cos(lat2) * sin(dlon / 2)**2\n",
    "    c = 2 * atan2(sqrt(a), sqrt(1 - a))\n",
    "\n",
    "    # Distance in kilometers\n",
    "    distance = R * c\n",
    "\n",
    "    return distance\n",
    "\n",
    "# LA city center coordinates\n",
    "la_city_center = {'latitude': 34.0522, 'longitude': -118.2437}\n",
    "\n",
    "# Calculate distance for each row in the DataFrame\n",
    "LA_foreclosures_2015_to_2022['distance_to_la_city_center'] = \\\n",
    "    LA_foreclosures_2015_to_2022.apply(\n",
    "        lambda row: haversine(row['latitude'], row['longitude'], la_city_center['latitude'], la_city_center['longitude']),\n",
    "        axis=1\n",
    "    )\n",
    "\n",
    "# Display the DataFrame with the new 'distance_to_la_city_center' column\n",
    "print(LA_foreclosures_2015_to_2022[['latitude', 'longitude', 'distance_to_la_city_center']])"
   ]
  },
  {
   "cell_type": "code",
   "execution_count": 53,
   "id": "f57426c3",
   "metadata": {},
   "outputs": [
    {
     "name": "stdout",
     "output_type": "stream",
     "text": [
      "            apn registered_date  property_type  \\\n",
      "311  6083008010      01/12/2015   Multi-Family   \n",
      "331  2164023003      22/01/2015  Single Family   \n",
      "332  5143012013      22/04/2015  Single Family   \n",
      "333  4106029005      15/07/2015  Single Family   \n",
      "334  2138005033      24/08/2015  Single Family   \n",
      "\n",
      "                                      property_address property_city  \\\n",
      "311  346 E 116TH ST\\nLOS ANGELES, CA 90061\\n(33.929...   LOS ANGELES   \n",
      "331  19531 W COLLIER ST\\nLOS ANGELES, CA 91356\\n(34...   LOS ANGELES   \n",
      "332  1329 W LINWOOD AVE\\nLOS ANGELES, CA 90017\\n(34...   LOS ANGELES   \n",
      "333  7870 S BOEING AVE\\nLOS ANGELES, CA 90045\\n(33....   LOS ANGELES   \n",
      "334  6941 OWENSMOUTH AVE\\nCANOGA PARK, CA 91303\\n(3...   CANOGA PARK   \n",
      "\n",
      "    property_state  property_zip  council_district  \\\n",
      "311             CA       90061.0                15   \n",
      "331             CA       91356.0                 3   \n",
      "332             CA       90017.0                 1   \n",
      "333             CA       90045.0                11   \n",
      "334             CA       91303.0                 3   \n",
      "\n",
      "                         lender   lender_contact          property_management  \\\n",
      "311       Wells Fargo Bank N.A.    Jonathon Holt                          LPS   \n",
      "331          JP Morgan Chase NA         Amy Lott                          MCS   \n",
      "332               Deutsche Bank     Leon Oransky  US Best Repair Service, Inc   \n",
      "333             Bank of America   VPR Department                 EDWARD ZUBIA   \n",
      "334  Select Portfolio Servicing  Code Violations                          MCS   \n",
      "\n",
      "      longitude   latitude  foreclosure_year  distance_to_la_city_center  \n",
      "311 -118.267830  33.929188              2015                   13.858041  \n",
      "331 -118.558790  34.166635              2015                   31.677087  \n",
      "332 -118.268789  34.051050              2015                    2.314952  \n",
      "333 -118.387358  33.966885              2015                   16.289111  \n",
      "334 -118.601545  34.196811              2015                   36.654745  \n"
     ]
    }
   ],
   "source": [
    "#I want to remove everything in the 'lender' column that is after 'C/O' (and variations of) as well as 'as trustee'.\n",
    "def clean_lender(cell_value):\n",
    "    # Define the list of patterns to remove\n",
    "    patterns = ['c/o', '/o', 'c/', ', as trustee', 'as trustee']\n",
    "    \n",
    "    # Iterate over each pattern and remove it from the cell value\n",
    "    for pattern in patterns:\n",
    "        # Check if the pattern is present in the cell\n",
    "        if pattern in str(cell_value).lower():\n",
    "            # Remove everything after the pattern\n",
    "            cleaned_lender_value = str(cell_value).lower().split(pattern, 1)[0].strip()\n",
    "            # Update the cell value with the cleaned lender name\n",
    "            cell_value = cleaned_lender_value\n",
    "    \n",
    "    return cell_value\n",
    "\n",
    "# Apply the clean_lender function to the 'lender' column\n",
    "LA_foreclosures_2015_to_2022['lender'] = LA_foreclosures_2015_to_2022['lender'].apply(clean_lender)\n",
    "\n",
    "# Display the updated DataFrame\n",
    "print(LA_foreclosures_2015_to_2022.head())\n",
    "\n"
   ]
  },
  {
   "cell_type": "code",
   "execution_count": 54,
   "id": "434c5ed8",
   "metadata": {},
   "outputs": [
    {
     "data": {
      "text/plain": [
       "'# clean and capitlize values to ease analysis\\ncleaned_lender_values = LA_foreclosures_2015_to_2022[\\'lender\\'].apply(lambda x: x.upper())\\n\\ndef calculate_similarity(string1, string2):\\n    distance = Levenshtein.distance(string1, string2)\\n    max_length = max(len(string1), len(string2))\\n\\n    # Check if max_length is zero to avoid division by zero\\n    if max_length == 0:\\n        return 0.0\\n\\n    similarity = 1 - distance / max_length\\n    return similarity\\n\\ndef find_similar_lenders_for_all(all_lenders, threshold=0.6):\\n    all_similar_lenders = {}\\n\\n    for i, target_lender in enumerate(all_lenders):\\n        unique_similar_lenders = set()\\n\\n        for j, other_lender in enumerate(all_lenders):\\n            if i != j:  # Exclude comparing the lender to itself\\n                similarity = calculate_similarity(target_lender, other_lender)\\n                if similarity >= threshold:\\n                    unique_similar_lenders.add(other_lender)\\n\\n        all_similar_lenders[target_lender] = list(unique_similar_lenders)\\n\\n    return all_similar_lenders\\n\\n# Find similar lenders for all lenders in the cleaned \\'lender\\' column\\nall_similar_lenders = find_similar_lenders_for_all(cleaned_lender_values)\\n\\n# Display the results\\nfor target_lender, similar_lenders in all_similar_lenders.items():\\n    print(f\"Target Lender: {target_lender}\")\\n    print(\"Similar Lenders:\")\\n    for lender in similar_lenders:\\n        print(lender)\\n    print()'"
      ]
     },
     "execution_count": 54,
     "metadata": {},
     "output_type": "execute_result"
    }
   ],
   "source": [
    "#I only want the unique values of lenders that have a 60% higher string match\n",
    "\n",
    "\"\"\"# clean and capitlize values to ease analysis\n",
    "cleaned_lender_values = LA_foreclosures_2015_to_2022['lender'].apply(lambda x: x.upper())\n",
    "\n",
    "def calculate_similarity(string1, string2):\n",
    "    distance = Levenshtein.distance(string1, string2)\n",
    "    max_length = max(len(string1), len(string2))\n",
    "\n",
    "    # Check if max_length is zero to avoid division by zero\n",
    "    if max_length == 0:\n",
    "        return 0.0\n",
    "\n",
    "    similarity = 1 - distance / max_length\n",
    "    return similarity\n",
    "\n",
    "def find_similar_lenders_for_all(all_lenders, threshold=0.6):\n",
    "    all_similar_lenders = {}\n",
    "\n",
    "    for i, target_lender in enumerate(all_lenders):\n",
    "        unique_similar_lenders = set()\n",
    "\n",
    "        for j, other_lender in enumerate(all_lenders):\n",
    "            if i != j:  # Exclude comparing the lender to itself\n",
    "                similarity = calculate_similarity(target_lender, other_lender)\n",
    "                if similarity >= threshold:\n",
    "                    unique_similar_lenders.add(other_lender)\n",
    "\n",
    "        all_similar_lenders[target_lender] = list(unique_similar_lenders)\n",
    "\n",
    "    return all_similar_lenders\n",
    "\n",
    "# Find similar lenders for all lenders in the cleaned 'lender' column\n",
    "all_similar_lenders = find_similar_lenders_for_all(cleaned_lender_values)\n",
    "\n",
    "# Display the results\n",
    "for target_lender, similar_lenders in all_similar_lenders.items():\n",
    "    print(f\"Target Lender: {target_lender}\")\n",
    "    print(\"Similar Lenders:\")\n",
    "    for lender in similar_lenders:\n",
    "        print(lender)\n",
    "    print()\"\"\""
   ]
  },
  {
   "cell_type": "code",
   "execution_count": 55,
   "id": "6834bf86",
   "metadata": {},
   "outputs": [
    {
     "name": "stdout",
     "output_type": "stream",
     "text": [
      "311           WELLS FARGO BANK N.A.\n",
      "331              JP MORGAN CHASE NA\n",
      "332                   DEUTSCHE BANK\n",
      "333                 BANK OF AMERICA\n",
      "334      SELECT PORTFOLIO SERVICING\n",
      "                    ...            \n",
      "29753                  LOANCARE LLC\n",
      "29754                  LOANCARE LLC\n",
      "29755                    CENLAR FSB\n",
      "29756      PLANET HOME LENDING, LLC\n",
      "29757           WELL FARGO BANK N.A\n",
      "Name: lender, Length: 28954, dtype: object\n"
     ]
    }
   ],
   "source": [
    "# Capitalize all values in the 'lender' column\n",
    "LA_foreclosures_2015_to_2022['lender'] = LA_foreclosures_2015_to_2022['lender'].str.upper()\n",
    "\n",
    "# Display the updated DataFrame\n",
    "print(LA_foreclosures_2015_to_2022['lender'])\n"
   ]
  },
  {
   "cell_type": "code",
   "execution_count": 56,
   "id": "02bea61a",
   "metadata": {},
   "outputs": [],
   "source": [
    "#renaming the lenders for uniformity\n",
    "\n",
    "lender_mapping = {\n",
    "    'WELLS FARGO BANK, N.A.': 'WELLS FARGO BANK',\n",
    "    'WELLS FARGO BANK NA': 'WELLS FARGO BANK',\n",
    "    'WELLS FARGO BANK NA,': 'WELLS FARGO BANK',\n",
    "    'WELLS FARGO BANK, N.A.,': 'WELLS FARGO BANK',\n",
    "    'WELLS FARGO BANK N.A.': 'WELLS FARGO BANK',\n",
    "    'WELLS FARGO BANK, N.A.': 'WELLS FARGO BANK',\n",
    "    'WELLS FARGO BANK, N.A': 'WELLS FARGO BANK',\n",
    "    'WELL FARGO BANK N.A': 'WELLS FARGO BANK',\n",
    "    'WELLS FARGO BANK, NA,': 'WELLS FARGO BANK',\n",
    "    'WELLS FARGO BANK N.A': 'WELLS FARGO BANK',\n",
    "    'WELLS FARGO BANK, NA': 'WELLS FARGO BANK',\n",
    "    'WELLS FARGO': 'WELLS FARGO BANK',\n",
    "    'WELLS FARGO BANK, NATIONAL ASSOCIATION': 'WELLS FARGO BANK',\n",
    "    'JP MORGAN CHASE BANK, N.A.': 'JP MORGAN CHASE',\n",
    "    'JPMORGAN CHASE BANK N.A.': 'JP MORGAN CHASE',\n",
    "    'JP MORGAN CHASE NA': 'JP MORGAN CHASE',\n",
    "    'JP MORGAN CHASE BK': 'JP MORGAN CHASE',\n",
    "    'JPMORGAN CHASE BANK, N.A.': 'JP MORGAN CHASE',\n",
    "    'JP MOGAN CHASE': 'JP MORGAN CHASE',\n",
    "    'JPMORGAN CHASE BANK': 'JP MORGAN CHASE',\n",
    "    'JPMORGAN CHASE BANK, NA': 'JP MORGAN CHASE',\n",
    "    'JP MORGAN CHASE BK': 'JP MORGAN CHASE',\n",
    "    'DEUTSCHE BANK N.T.C.': 'DEUTSCHE BANK',\n",
    "    'DEUTSCHE BANK': 'DEUTSCHE BANK',\n",
    "    'DEUTSCHE BANK N.A.': 'DEUTSCHE BANK',\n",
    "    'DEUTSCHE BANK NA': 'DEUTSCHE BANK',\n",
    "    'DEUTSCHE BANK,': 'DEUTSCHE BANK',\n",
    "    'DEUTSCHE BANK NATIONAL TRUST': 'DEUTSCHE BANK',\n",
    "    'DEUTSCHE BK NATL TRUST CO': 'DEUTSCHE BANK',\n",
    "    'DEUTSCHE BANK NATIONAL TRUST  COMPANY': 'DEUTSCHE BANK',\n",
    "    'DEUTSCHE BANK NATIONAL TRUST,': 'DEUTSCHE BANK',\n",
    "    'DEUTSCHE BANK NATIONAL TRUST': 'DEUTSCHE BANK',\n",
    "    'DEUTSH BANK NATIONAL TRUST': 'DEUTSCHE BANK',\n",
    "    'DEUTSCHE BANK NATIONAL TRUST COMPANY': 'DEUTSCHE BANK',\n",
    "    'DEUTSCHE BANK NATIONAL TRUST  COMPANY': 'DEUTSCHE BANK',\n",
    "    'DEUTSCHE BANK NATIONAL TRUST,': 'DEUTSCHE BANK',\n",
    "    'DEUTSCHE BANK NATIONAL TRUST': 'DEUTSCHE BANK',\n",
    "    'DEUTSH BANK NATIONAL TRUST': 'DEUTSCHE BANK',\n",
    "    'DEUTSCHE BANK NATIONAL TRUST COMPANY': 'DEUTSCHE BANK',\n",
    "    'DEUTSCHE BANK TRUST CO AMERICAS': 'DEUTSCHE BANK',\n",
    "    'DEUTSCHE BANK NATIONAL TRUST  CO SELECT PORTFOLIO SERVICING': 'DEUTSCHE BANK',\n",
    "    'DEUTSCHE BANK NATIONAL TRUST CO SELECT PORTFOLIO SERVICING': 'DEUTSCHE BANK',\n",
    "    'DEUTSCHE BANK NATIONAL TRUST CO SELECT PORFOLIO SERVICING': 'DEUTSCHE BANK',\n",
    "    'DEUTSCHE BANK NATIONAL TRUST  COMPANY': 'DEUTSCHE BANK',\n",
    "    'BANK OF AMERICA - PRE': 'BANK OF AMERICA',\n",
    "    'BANK OF AMERICA NA': 'BANK OF AMERICA',\n",
    "    'SELECT PORTFOLIO SERVICING LLC': 'SELECT PORTFOLIO SERVICING',\n",
    "    'SELECT PORTFOLIO SERVICING, INC.': 'SELECT PORTFOLIO SERVICING',\n",
    "    'SELECT PORTFOLIO SERVICING INC': 'SELECT PORTFOLIO SERVICING',\n",
    "    'SELECT PORTFOLIO SERVICING, INC': 'SELECT PORTFOLIO SERVICING',  \n",
    "    'SELECT PORTFOLIO SERVICING INC': 'SELECT PORTFOLIO SERVICING',\n",
    "    'SELECT PORTFOLIO SERVICING': 'SELECT PORTFOLIO SERVICING',\n",
    "    'SENECA MORTGAGE SERVICING LLC': 'SELECT PORTFOLIO SERVICING',\n",
    "    'SELECT PORTFOLIO SERVICING LLC': 'SELECT PORTFOLIO SERVICING',\n",
    "    'SELECT PORTFOLIO SERVICING, INC': 'SELECT PORTFOLIO SERVICING',\n",
    "    'SELECT PORTFOLIO SERVICING, INC.': 'SELECT PORTFOLIO SERVICING',\n",
    "    'SELECT PORTFOLIO SERVICING INC': 'SELECT PORTFOLIO SERVICING',\n",
    "    'OCWEN LOAN SERVICING, LLC':'OCWEN LOAN SERVICING',\n",
    "    'OCWEN LOAN SERVICING LLC':'OCWEN LOAN SERVICING',\n",
    "    'OCWEN LOAN SERVICING, LLC':'OCWEN LOAN SERVICING',\n",
    "    'OCWEN LOAN SERVICING,LLC':'OCWEN LOAN SERVICING',\n",
    "    'OCWEN FINANCIAL CORPORATION':'OCWEN LOAN SERVICING',\n",
    "    'M & T BANK': 'M&T BANK',\n",
    "    'M&T BANK': 'M&T BANK',\n",
    "    'CAPITAL ONE, NA': 'CAPITAL ONE',\n",
    "    'NATIONSTAR MORTGAGE LLC': 'NATIONSTAR MORTGAGE',\n",
    "    'NATIONS DIRECT MORTGAGE, LLC': 'NATIONSTAR MORTGAGE',\n",
    "    'NATIONS DIRECT MORTGAGE LLC,': 'NATIONSTAR MORTGAGE',\n",
    "    'NATIONS DIRECT MORTGAGE': 'NATIONSTAR MORTGAGE',\n",
    "    'NATIONS DIRECT MORTGAGE LLC': 'NATIONSTAR MORTGAGE',\n",
    "    'NATIONSTAR MORTGAGE. LLC': 'NATIONSTAR MORTGAGE',\n",
    "    'NATIONSTAR MORTGAGE, LLC': 'NATIONSTAR MORTGAGE',\n",
    "    'MR. COOPER/NATIONSTAR MORTGAGE, LLC.': 'NATIONSTAR MORTGAGE',\n",
    "    'BANK OF NEW YORK MELLON TRUST': 'BANK OF NEW YORK MELLON',\n",
    "    'BANK OF NEW YORK': 'BANK OF NEW YORK MELLON',\n",
    "    'THE BANK OF NEW YORK MELLO': 'BANK OF NEW YORK MELLON',\n",
    "    'THE BANK OF NEW YORK MELLON,': 'BANK OF NEW YORK MELLON',\n",
    "    'THE BANK OF NEW YORK MELLON': 'BANK OF NEW YORK MELLON',\n",
    "    'BANK OF NEW YORK MELLON,': 'BANK OF NEW YORK MELLON',\n",
    "    'THE BANK OF NEW YORK MELLON FKA THE BANK OF NEW YORK': 'BANK OF NEW YORK MELLON',\n",
    "    'THE BANK OF NEW YORK MELLON, FKA, THE BANK OF NEW YORK': 'BANK OF NEW YORK MELLON',\n",
    "    'BANK OF NY MELLON 2005-32T': 'BANK OF NEW YORK MELLON',\n",
    "    'THE BANK OF NEW YORK MELLON, DITECH FINANCIAL LLC': 'BANK OF NEW YORK MELLON',\n",
    "    'SELENE FINANCE LP': 'SELENE FINANCE',\n",
    "    'SELENE FINANCING': 'SELENE FINANCE',\n",
    "    'BSI FINANCIAL SERVICES, INC.': 'BSI FINANCIAL SERVICES',\n",
    "    'BSI FINANCIAL SERVICES, INC.': 'BSI FINANCIAL SERVICES',\n",
    "    'BSI FINANCIAL': 'BSI FINANCIAL SERVICES',\n",
    "    'BSI': 'BSI FINANCIAL SERVICES',\n",
    "    'REVERSE MORTGAGE SOLUTIONS, INC.': 'REVERSE MORTGAGE SOLUTIONS',\n",
    "    'REVERSE MORTGAGE SOLUTIONS, INC.': 'REVERSE MORTGAGE SOLUTIONS',\n",
    "    'REVERSE MORTGAGE SOLUTIONS INC.': 'REVERSE MORTGAGE SOLUTIONS',\n",
    "    'REVERSE MORTGAGE FUNDING LLC': 'REVERSE MORTGAGE SOLUTIONS',\n",
    "    'REVERSE MORGAGE SOLUTIONS': 'REVERSE MORTGAGE SOLUTIONS',\n",
    "    'REVERSE MORTGAGE FUNDING': 'REVERSE MORTGAGE SOLUTIONS',\n",
    "    'SHELLPOINT MORTGAGE SERVICES': 'SHELLPOINT MORTGAGE',\n",
    "    'SHELLPOINT MORTGAGE SERVICES': 'SHELLPOINT MORTGAGE',\n",
    "    'SHELLPOINT MORTGAGE SERVICING': 'SHELLPOINT MORTGAGE',\n",
    "    'CITIMORTGAGE': 'CITIBANK',\n",
    "    'CITIMORTGAGE, INC.': 'CITIBANK',\n",
    "    'CITIMORTGAGE': 'CITIBANK',\n",
    "    'CITI MORTGAGE': 'CITIBANK',\n",
    "    'CIT BANK, N.A.': 'CITIBANK',\n",
    "    'CITIBANK, N.A.': 'CITIBANK',\n",
    "    'CITIBANK, N.A.,': 'CITIBANK',\n",
    "    'CITIBANK, N.A': 'CITIBANK',\n",
    "    'CITIBANK, N.A.': 'CITIBANK',\n",
    "    'CIT BANK, N.A.': 'CITIBANK',\n",
    "    'CITIBANK, N.A.,': 'CITIBANK',\n",
    "    'CITIBANK NA': 'CITIBANK',\n",
    "    'CITI BANK NA': 'CITIBANK',\n",
    "    'CITIMORTAGAE, INC': 'CITIBANK',\n",
    "    'CIT': 'CITIBANK',\n",
    "    'CITIMORTGAGE, INC.': 'CITIBANK',\n",
    "    'CITIMORTAGAE, INC': 'CITIBANK',\n",
    "    'FINANCIAL FREEDOM, A DIVISION OF CIT BANK': 'CITIBANK',\n",
    "    'FINANCIAL FREEDOM, A DIVISION OF CIT BANK.': 'CITIBANK',\n",
    "    'FINANCIAL FREEDOM A DIVISION OF CIT BANK NA': 'CITIBANK',\n",
    "    'CARRINGTON REAL ESTATE SERVICES': 'CARRINGTON MORTGAGE SERVICES',\n",
    "    'CARRINGTON MORTGAGE SERVICES LLC': 'CARRINGTON MORTGAGE SERVICES',\n",
    "    'CARRINGTON MORTGAGE SERVICES, LLC': 'CARRINGTON MORTGAGE SERVICES',\n",
    "    'CARRINGTON MORTGAGE SERVICES LLC': 'CARRINGTON MORTGAGE SERVICES',\n",
    "    'HSBC CONSUMER LENDING': 'HSBC',\n",
    "    'HSBC BANK USA, N.A.,': 'HSBC',\n",
    "    'HSBC BANK USA N.A.': 'HSBC',\n",
    "    'HSBC BANK USA, N.A.': 'HSBC',\n",
    "    'HSBC BANK USA,  N.A.': 'HSBC',\n",
    "    'HSBC BANK USA CO SELECT PORTFOLIO SERVICING': 'HSBC',\n",
    "    'HSBC MORTGAGE CORPORATION': 'HSBC',\n",
    "    'HSBC MORTGAGE SERVICES': 'HSBC',\n",
    "    'HSBC BANK USA NATIONAL ASSOCIATION': 'HSBC',\n",
    "    'HSBC BANK USA, NATIONAL ASSOCIATION': 'HSBC',\n",
    "    'HSBC BANK USA': 'HSBC',\n",
    "    'HSBC BANK USA,': 'HSBC',\n",
    "    'HSBC BANK USA, N.A.,': 'HSBC',\n",
    "    'HSBC BANK USA N.A.': 'HSBC',\n",
    "    'HSBC BANK USA,  N.A.': 'HSBC',\n",
    "    'HSBC BANK USA NA': 'HSBC',\n",
    "    'HSBC BANK USA, N.A.': 'HSBC',\n",
    "    'HSBC CONSUMER LENDING MORTGAGE SERVICES': 'HSBC',\n",
    "    'HSBC BANK USA CO SELECT PORTFOLIO SERVICING'\n",
    "    'US BANK, N.A.': 'U.S. BANK',\n",
    "    'U.S BANK, N.A.': 'U.S. BANK',\n",
    "    'US BANK N.A.': 'U.S. BANK',\n",
    "    'US BANK NA': 'U.S. BANK',\n",
    "    'U.S. BANK, N.A.': 'U.S. BANK',\n",
    "    'U.S. BANK, N.A': 'U.S. BANK',\n",
    "    'U.S. BANK, N.A.,': 'U.S. BANK',\n",
    "    'U.S. BANK NA,': 'U.S. BANK',\n",
    "    'U.S BANK N.A': 'U.S. BANK',\n",
    "    'U.S. BANK, NA': 'U.S. BANK',\n",
    "    'US BANK, N.A.': 'U.S. BANK',\n",
    "    'U.S. BANK NA': 'U.S. BANK',\n",
    "    'US BANK NA,': 'U.S. BANK',\n",
    "    'U.S. BANK,  N.A.': 'U.S. BANK',\n",
    "    'U.S. BANK N.A.,': 'U.S. BANK',\n",
    "    'U.S. BANK N.A.': 'U.S. BANK',\n",
    "    'U.S. BANK/RMA': 'U.S. BANK', \n",
    "    'US BANK NA CO SELECT PORTFOLIO SERVICING': 'U.S. BANK',\n",
    "    'U.S. BANK N.A CO SELECT PORTFOLIO SERVICING': 'U.S. BANK',\n",
    "    'US BANK HOME MORTGAGES': 'U.S. BANK',\n",
    "    'US BANK HOME MORTGAGE': 'U.S. BANK',\n",
    "    'U.S. BANK HOME MORTGAGE': 'U.S. BANK',\n",
    "    'US BANK HOME MORTGAGES': 'U.S. BANK',\n",
    "    'US BANK NATIONAL ASSN': 'U.S. BANK',\n",
    "    'U.S. BANK NATIONAL ASSOCIATION': 'U.S. BANK',\n",
    "    'US-BANK NATIONAL ASSOCIATION': 'U.S. BANK',\n",
    "    'U.S. BANK NATIONAL ASSOCIATION': 'U.S. BANK',\n",
    "    'US BANK NATIONAL ASSN': 'U.S. BANK',\n",
    "    'US BANK NATIONAL ASSOCIATION': 'U.S. BANK',\n",
    "    'U.S. BANK NATIONAL ASSOCIATION / BLACKSTONE': 'U.S. BANK',\n",
    "    'U.S BANK NATIONAL ASSOCIATION': 'U.S. BANK',\n",
    "    'U.S. BANK, NATIONAL ASSOCIATION': 'U.S. BANK',\n",
    "    'U.S. BANK NATIONAL ASSOCIATION,': 'U.S. BANK',\n",
    "    'U.S. BANK  NATIONAL ASSOCIATION': 'U.S. BANK',\n",
    "    'US BANK HOME MORTGAGE': 'U.S. BANK',\n",
    "    'US BANK HOME MORTGAGE': 'U.S. BANK',\n",
    "    'U.S. BANK HOME MORTGAGE': 'U.S. BANK',\n",
    "    'US BANK HOME MORTGAGES': 'U.S. BANK',\n",
    "    'US BANK HOME MORTGAGE': 'U.S. BANK',\n",
    "    'US BANK HOME MORTGAGES': 'U.S. BANK',\n",
    "    'U.S. BANK NATIONAL ASSOCIATION, AS INDENTURE TRUSTEE, ON BEHALF OF THE HOLDERS OF THE TERWIN MORTGAG': 'U.S. BANK',\n",
    "    'U.S. BANK NATIONAL ASSOCIATION, AS INDENTURE TRUSTEE ON BEHALF OF AND WITH RESPECT TO AJAX MORTGAGE': 'U.S. BANK',\n",
    "    'US BANK NA CO SELECT PORTFOLIO SERVICING': 'U.S. BANK',\n",
    "    'U.S. BANK, N.A. CO SELECT PORTFOLIO SERVICING': 'U.S. BANK',\n",
    "    'U.S. BANK N.A CO SELECT PORTFOLIO SERVICING': 'U.S. BANK',\n",
    "    'US BANK NA SERIES 2007-AR7': 'U.S. BANK',\n",
    "    'U.S. BANK, NA AS LEGAL TITLE TRUSTEE FOR TRUMAN 2013 SC4 TITLE TRUST': 'U.S. BANK',\n",
    "    'U.S. BANK, NA AS LEGAL TITLE TRUSTEE FOR TRUMAN 2013 SC4 TITLE TRUST': 'U.S. BANK',\n",
    "    'U.S. BANK TRUSTEE - TRUMAN 2016 SC6 TITLE TRUST': 'U.S. BANK',\n",
    "    'U.S. BANK, NATIONAL ASSOCIATION AS LEGAL TITLE TRUSTEE FOR TRUMAN 2016 SC6 TITLE TRUST': 'U.S. BANK',\n",
    "    'U S BANK NA AS TR OF TRUMAN 2016 SC6 TITLE TRUST': 'U.S. BANK',\n",
    "    'U.S. BANK, NA AS LEGAL TITLE TRUSTEE': 'U.S. BANK',\n",
    "    'U.S. BANK, NA AS LEGAL TITLE TRUSTEE FOR TRUMAN 2013 SC4 TITLE TRUST': 'U.S. BANK',\n",
    "    'U.S. BANK, NATIONAL ASSOCIATION AS LEGAL TITLE TRUSTEE FOR TRUMAN 2016 SC6 TITLE TRUST': 'U.S. BANK',\n",
    "    'CALIBER HOME LOAN': 'CALIBER HOME LOANS',\n",
    "    'CALIBER HOME LOANS, INC.': 'CALIBER HOME LOANS',\n",
    "    'CALIBER HOME LOANS': 'CALIBER HOME LOANS',\n",
    "    'CALIBER HOME LOANS, INC': 'CALIBER HOME LOANS',\n",
    "    'CHAMPION HOME LOANS': 'CALIBER HOME LOANS',\n",
    "    'CALIBER HOME LOANS INC': 'CALIBER HOME LOANS',  \n",
    "    'PENNY MAC LOAN SERVICE': 'PENNY MAC',\n",
    "    'PENNYMAC LOAN SERVICES LLC': 'PENNY MAC',\n",
    "    'PENNYMAC LOAN SERVICES, LLS': 'PENNY MAC',\n",
    "    'PENNY MAC LOAN SERVICE': 'PENNY MAC',\n",
    "    'PENNYMAC LOAN SERVICES': 'PENNY MAC',\n",
    "    'PENNYMAC LOAN SERVICES, LLC': 'PENNY MAC',\n",
    "    'FEDERAL NATIONAL MORTGAGE ASSOCIATION': 'FEDERAL NATIONAL MORTGAGE',\n",
    "    'FEDERAL NATIONAL MORTGAGE ASS RECONTRUST COMPANY': 'FEDERAL NATIONAL MORTGAGE',\n",
    "    'FEDERAL NATIONAL MORTGAGE ASSOCIATION': 'FEDERAL NATIONAL MORTGAGE',\n",
    "    'FEDERAL HOME LOAN MORTGAGE CORPORATION': 'FEDERAL NATIONAL MORTGAGE',\n",
    "    'FEDERAL NATIONAL MORTGAGE FNMA': 'FEDERAL NATIONAL MORTGAGE',\n",
    "    'FEDERAL NATIONAL MORTGAGE ASSOCIATION - REVERSE  MORTGAGE SOLUTIONS INC': 'FEDERAL NATIONAL MORTGAGE',\n",
    "    'FEDERAL HOME LOAN MORTGAGE': 'FEDERAL NATIONAL MORTGAGE',\n",
    "    'FEDERAL NATIONAL MORTGAGE ASSOCIATION': 'FEDERAL NATIONAL MORTGAGE',\n",
    "    'FEDERAL NATIONAL MORTGAGE FNMA': 'FEDERAL NATIONAL MORTGAGE',\n",
    "    'FEDERAL NATIONAL MORTGAGE ASS RECONTRUST COMPANY': 'FEDERAL NATIONAL MORTGAGE',\n",
    "    'FEDERAL NATIONAL MORTGAGE ASSOCIATION': 'FEDERAL NATIONAL MORTGAGE',\n",
    "    'FEDERAL NATIONAL MORTGAGE FNMA': 'FEDERAL NATIONAL MORTGAGE',\n",
    "    'FEDERAL NATL MTG ASSN FNMA': 'FEDERAL NATIONAL MORTGAGE',\n",
    "    'SETERUS INC': 'SETERUS',\n",
    "    'SETERUS, INC': 'SETERUS',\n",
    "    'SETERUS INC': 'SETERUS',\n",
    "    'SETERUS INC,': 'SETERUS',\n",
    "    'WELLS FARGO BANK, N.A.': 'WELLS FARGO BANK',\n",
    "    'WELLS FARGO BANK, N.A.': 'WELLS FARGO BANK',\n",
    "    'WELLS FARGO BANK, N.A': 'WELLS FARGO BANK',\n",
    "    'WELL FARGO BANK N.A': 'WELLS FARGO BANK',\n",
    "    'WELLS FARGO BANK, NA,': 'WELLS FARGO BANK',\n",
    "    'WELLS FARGO BANK N.A': 'WELLS FARGO BANK',\n",
    "    'WELLS FARGO BANK, NA': 'WELLS FARGO BANK',\n",
    "    'WELLS FARGO BANK N.A.': 'WELLS FARGO BANK',\n",
    "    'WELLS FARGO BANK, N.A.,': 'WELLS FARGO BANK',\n",
    "    'WELLS FARGO BANK NA,': 'WELLS FARGO BANK',\n",
    "    'WELLS FARGO BANK NA': 'WELLS FARGO BANK',\n",
    "    'WELLS FARGO BANK CO SELECT PORTFOLIO SERVICING'\n",
    "    'DOVENMUEHLE MORTGAGE, INC.': 'DOVENMUEHLE MORTGAGE',\n",
    "    'DOVENMUEHLE MORTGAGE INC.': 'DOVENMUEHLE MORTGAGE',\n",
    "    'DOVENMUEHLE MORTGAGE, INC.': 'DOVENMUEHLE MORTGAGE',\n",
    "    'DOVENMUEHLE MORTGAGE, INC': 'DOVENMUEHLE MORTGAGE',\n",
    "    'SPECIALIZED ASSET MANAGEMENT LLC': 'SPECIALIZED ASSET MANAGEMENT',\n",
    "    'CENTER FSB,': 'CENLAR FSB',\n",
    "    'CENLAR FSB,': 'CENLAR FSB',\n",
    "    'CENLAR FSB': 'CENLAR FSB',\n",
    "    'MUFG UNION BANK, N.A.': 'MUFG UNION BANK',\n",
    "    'PENNYMAC': 'PENNY MAC',\n",
    "    'PENNYMAC LOAN SERVICES': 'PENNY MAC',\n",
    "    'PENNYMAC LOAN SERVICES LLC': 'PENNY MAC',\n",
    "    'PENNYMAC LOAN SERVICES, LLS': 'PENNY MAC',\n",
    "    'PENNY MAC LOAN SERVICE': 'PENNY MAC',\n",
    "    'PENNYMAC LOAN SERVICES': 'PENNY MAC',\n",
    "    'PENNYMAC LOAN SERVICES, LLC': 'PENNY MAC',\n",
    "    'PENNYMAC CORP': 'PENNY MAC', \n",
    "    'PENNYMAC HOLDINGS, LLC': 'PENNY MAC', \n",
    "    'PENNYMAC LOAN SERVICES, LLC': 'PENNY MAC', \n",
    "    'PNC MORTGAGE PRESALE': 'PNC',\n",
    "    'PNC MORTGAGE': 'PNC',\n",
    "    'PNC BANK, N.A.': 'PNC',\n",
    "    'PNC BANK, NATIONAL ASSOCIATION,': 'PNC',\n",
    "    'PNC BANK, NATIONAL ASSOCIATION': 'PNC',   \n",
    "    'PNC BANK': 'PNC',\n",
    "    'PNC BANK-PNCB': 'PNC',\n",
    "    'PNC BANK': 'PNC',\n",
    "    'PNC BANK,': 'PNC',\n",
    "    'PNC BANK,': 'PNC',\n",
    "    'PNC BANK-PNCB': 'PNC',\n",
    "    'PNC BANK': 'PNC',\n",
    "    'PNC BANK, N.A.': 'PNC',  \n",
    "    'SUN WEST MORTGAGE COMPANY': 'SUN WEST MORTGAGE',\n",
    "    'SUNWEST MORTGAGE': 'SUN WEST MORTGAGE',\n",
    "    'US DEPT OF HOUSING AND URBAN DEVELOPMENT': 'HUD',\n",
    "    'US DEPT OF HOUSING AND URBAN DEVELOPMENT': 'HUD',\n",
    "    'ONEWEST BANK NA': 'ONEWEST BANK',\n",
    "    'ONE WEST BANK': 'ONEWEST BANK',\n",
    "    'SPECIALIZED LOAN SERVICING AS SERVICING AGENT FOR BENEFICIARY': 'SPECIALIZED LOAN SERVICING',\n",
    "    'SPECIALIZED LOAN SERVICING LLC ON BEHALF OF BENEFICIARY'\n",
    "    'GREEN TREE SERVICING LLC': 'GREEN TREE SERVICING',\n",
    "    'GREE TREE SERVICING LLC': 'GREEN TREE SERVICING',\n",
    "    'GREEN TREE': 'GREEN TREE SERVICING',\n",
    "    'PACIFIC UNION FINANCIAL, LLC': 'PACIFIC UNION FINANCIAL',\n",
    "    'RUSHMORE LOAN MANAGEMENT SERVICES': 'RUSHMORE LOAN MANAGMENT',\n",
    "    'RUSHMORE LOAN MANAGEMENT SERVICES LLC': 'RUSHMORE LOAN MANAGMENT',\n",
    "    'RUSHMORE LOAN MGMT SERVICES': 'RUSHMORE LOAN MANAGMENT',\n",
    "    'RUSHMORE LOAN MANAGEMENT': 'RUSHMORE LOAN MANAGMENT',\n",
    "    'RESIDENTIAL CREDIT OPPORTUNITY V': 'RESIDENTIAL CREDIT SOLUTIONS',\n",
    "    'RESIDENTIAL CREDIT SOLUTION': 'RESIDENTIAL CREDIT SOLUTIONS',\n",
    "    'RESIDENTIAL CREDIT SOLUTIONS, INC.': 'RESIDENTIAL CREDIT SOLUTIONS',\n",
    "    'BAYVIEW LOAN SERVICEING, LLC': 'BAYVIEW LOAN SERVICING',\n",
    "    'BAYVIEW LOAN SERVICING JEFFERSON': 'BAYVIEW LOAN SERVICING',\n",
    "    'BAYVIEW LOAN SEVICING, LLC': 'BAYVIEW LOAN SERVICING',\n",
    "    'BAYVIEW LOAN SERVICING': 'BAYVIEW LOAN SERVICING',\n",
    "    'BAYVIEW LOAN SERVICING REO': 'BAYVIEW LOAN SERVICING',\n",
    "    'BAYVIEW LOAN SERVICING, LLC': 'BAYVIEW LOAN SERVICING',\n",
    "    'BAYVIEW LOAN SERVICING LLC': 'BAYVIEW LOAN SERVICING',\n",
    "    'BAYVIEW LOAN SERVICING LLC FOR BANK OF NEW YORK MELLON': 'BAYVIEW LOAN SERVICING',\n",
    "    'BAYVIEW LOAN SERVICING/BAYVIEW REPRESENTATIVE': 'BAYVIEW LOAN SERVICING',\n",
    "    'BAYVIEW LOAN SERVICING JEFFERSON': 'BAYVIEW LOAN SERVICING',\n",
    "    'CHAMPION MORTGAGE COMPANY': 'CHAMPION MORTGAGE',\n",
    "    'CHAMPION HOME LOANS': 'CHAMPION MORTGAGE',\n",
    "    'CHAMPION MORTGAGE COMPANY NATIONSTAR MORTGAGE LLC, DBA': 'CHAMPION MORTGAGE',  \n",
    "    'PLM LOAN MANAGEMENT SERVICES, INC': 'PLM LOAN MANAGEMENT SERVICES', \n",
    "    'PLM LOAN MANAGEMENT SERVICES, INC.':'PLM LOAN MANAGEMENT SERVICES',\n",
    "    'STATEBRIDGE CO': 'STATEBRIDGE',\n",
    "    'STATEBRIDGE COMPANY LLC': 'STATEBRIDGE',\n",
    "    'PHH MORTGAGE CORP': 'PHH MORTGAGE',\n",
    "    'PHH MORTGAGE SERVICES': 'PHH MORTGAGE',\n",
    "    'PHH MORTGAGE CORPORATION': 'PHH MORTGAGE',\n",
    "    'PHH MORGAGE CORPORATION': 'PHH MORTGAGE',\n",
    "    'PHH MORTGAGE CORPORATION': 'PHH MORTGAGE',\n",
    "    'PHH MORTGAGE CORP': 'PHH MORTGAGE',   \n",
    "    'O.K.,LLC': 'OK LLC',\n",
    "    'HUD-HOUSING/URBAN DEV': 'HUD',\n",
    "    'PHH MORTGAGE CORP F/K/A CENDANT MORTGAGE CORP': 'PHH MORTGAGE CORP',\n",
    "    'GUILD MORTGAGE COMPANY': 'GUILD MORTGAGE',\n",
    "    'CELINK/MAM': 'CELINK',\n",
    "    'WILMINGTON TRUST CO': 'WILMINGTON TRUST',\n",
    "    'WILMINGTON TRUST CO': 'WILMINGTON TRUST',\n",
    "    'WILMINGTON TRUST NA': 'WILMINGTON TRUST',\n",
    "    'WILMINGTON TRUST N.A.': 'WILMINGTON TRUST',\n",
    "    'WILMINGTON TRUST,': 'WILMINGTON TRUST',\n",
    "    'WILMINGTON TRUST, NA': 'WILMINGTON TRUST',\n",
    "    'WILMINGTON TRUST, NA,': 'WILMINGTON TRUST',\n",
    "    'WILMINGTON TRUST NA,': 'WILMINGTON TRUST',\n",
    "    'LOANCARE LLC': 'LOANCARE',\n",
    "    'LOANCARE, LLC': 'LOANCARE',\n",
    "    'LOANCARE, A DIVISION OF FNF SERVICING, INC': 'LOANCARE',\n",
    "    'DITECH FINANCIAL LLC': 'DITECH FINANCIAL',\n",
    "    'DITECH FINANCIAL, LLC': 'DITECH FINANCIAL',\n",
    "    'SUNWEST MORTGAGE': 'SUN WEST MORTGAGE',\n",
    "    'SUN WEST MORTGAGE COMPANY': 'SUN WEST MORTGAGE',\n",
    "    'FAY SERVICING, LLC': 'FAY SERVICING',\n",
    "    'FAY SERVICING LLC': 'FAY SERVICING',\n",
    "    'FREEDOM MORTGAGE CORP': 'FREEDOM MORTGAGE',\n",
    "    'FREEDOM MORTGAGE CORPORATION': 'FREEDOM MORTGAGE',\n",
    "    'CLEARSPRINGLS': 'CLEARSPRINGS LS',\n",
    "    'EAST WEST BANK': 'EAST-WEST BANK',\n",
    "    '21ST  MORTGAGE CORPORATION': '21ST MORTGAGE CORPORATION',\n",
    "    'DLJ MORTGAGE CAPITAL, INC.,': 'DLJ MORTGAGE CAPITAL',\n",
    "    'DLJ MORTGAGE CAPITAL, INC': 'DLJ MORTGAGE CAPITAL',\n",
    "    'DLJ MORTGAGE CAPITAL,': 'DLJ MORTGAGE CAPITAL',\n",
    "    'DLJ MORTGAGE CAPITAL, INC.': 'DLJ MORTGAGE CAPITAL',\n",
    "    'NATIONS DIRECT MORTGAGE, LLC': 'NATIONS DIRECT MORTGAGE',\n",
    "    'NATIONS DIRECT MORTGAGE LLC,': 'NATIONS DIRECT MORTGAGE',\n",
    "    'NATIONS DIRECT MORTGAGE LLC': 'NATIONS DIRECT MORTGAGE',\n",
    "    'NATIONSTAR MORTGAGE. LLC': 'NATIONS DIRECT MORTGAGE',\n",
    "    'NATIONSTAR MORTGAGE, LLC': 'NATIONS DIRECT MORTGAGE',\n",
    "    'THE EVERGREEN ADVANTAGE, LLC': 'EVERGREEN ADVANTAGE',\n",
    "    'EVERGREEN ADVANTAGE, LLC': 'EVERGREEN ADVANTAGE',\n",
    "    'FLAGSTAR BANK': 'FLAGSTAR',\n",
    "    'SHELLPOINT MORTGAGE SERVICING': 'SHELLPOINT MORTGAGE',\n",
    "    'SHELLPOINT MORTGAGE SERVICES': 'SHELLPOINT MORTGAGE',\n",
    "    'PMAC LENDING SERVICES, INC.': 'PMAC LENDING SERVICES',\n",
    "    'PMAC LENDING SERVICES, INC': 'PMAC LENDING SERVICES',\n",
    "    'PROVIDENT FUNDING ASSOCIATES LP': 'PROVIDENT FUNDING ASSOCIATES',\n",
    "    'PROVIDENT FUNDING ASSOCIATES L.P.': 'PROVIDENT FUNDING ASSOCIATES',\n",
    "    'PROVIDENT FUNDING ASSOCIATES, L.P.': 'PROVIDENT FUNDING ASSOCIATES',\n",
    "    'PROVIDENT FUNDING': 'PROVIDENT FUNDING ASSOCIATES',\n",
    "    'WEST COAST CAPITAL, LLC': 'WEST COAST CAPITAL',\n",
    "    'WEST COAST CAPITAL GROUP, INC.': 'WEST COAST CAPITAL',\n",
    "    'STARLIGHT CAPITAL GROUP, LLC': 'WEST COAST CAPITAL',\n",
    "    'TRINITY FINANCIAL SERVICES, LLC': 'TRINITY FINANCIAL SERVICES',\n",
    "    'TRINITY FINANCE SERVICES, LLC': 'TRINITY FINANCIAL SERVICES',\n",
    "    'TRINITY FINANCIAL SERVICES LLC': 'TRINITY FINANCIAL SERVICES',\n",
    "    'TRINITY FINANCE SERVICES, LLC': 'TRINITY FINANCIAL SERVICES',\n",
    "    'TRINITY FINANCIAL SERVICES, LLC': 'TRINITY FINANCIAL SERVICES',\n",
    "    'TRINITY FINANCE SERVICES, LLC': 'TRINITY FINANCIAL SERVICES',\n",
    "    'TRINITY FINANICAL SERVICE, LLC': 'TRINITY FINANCIAL SERVICES',\n",
    "    'TRINITY FINANCIAL SERVICES': 'TRINITY FINANCIAL SERVICES',\n",
    "    'TRINITY FINANCIAL SERVICES LLC': 'TRINITY FINANCIAL SERVICES',\n",
    "    'TRINITY': 'TRINITY FINANCIAL SERVICES',\n",
    "    'TRUSTEE CORP': 'TRUSTEE CORPS',\n",
    "    'PARK TREE INVESTMENTS 21, LLC': 'PARK TREE INVESTMENTS',\n",
    "    'QUICKEN LOANS INC': 'QUICKEN LOANS',\n",
    "    'WANG YANG ENTERPRISES, LLC': 'WANG YANG ENTERPRISES',\n",
    "    'WANG YANG ENTERPRISES LLC': 'WANG YANG ENTERPRISES',\n",
    "    'CENTER STREET LENDING CORP': 'CENTER STREET LENDING',\n",
    "    'ARAN INVESTMENT INC': 'ARAN INVESTMENTS INC',\n",
    "    'GUSS INVESTMENT GROUP, LLC': 'GUSS INVESTMENT GROUP',\n",
    "    'WEST COAST SERVICING INC.': 'WEST COAST SERVICING',\n",
    "    'WEST COAST SERVICING INC': 'WEST COAST SERVICING',\n",
    "    'GDARTLLC': 'GDART L.L.C',\n",
    "    'SABADELL UNITED BANK, N.A.': 'SABABELL UNITED BANK',\n",
    "    'SABADELL UNITED BANK, N.A.': 'SABABELL UNITED BANK',\n",
    "    'SABABELL': 'SABABELL UNITED BANK',\n",
    "    'CHASE HOME FINANCE REO': 'CHASE BANK',\n",
    "    'CHASE HOME FINANCE': 'CHASE BANK',\n",
    "    'CHRISTIANA TRUST,': 'CHRISTIANA TRUST',\n",
    "    'PREMIER AMERICA CU': 'PREMIER AMERICA CREDIT UNION',\n",
    "    'SUNRISE 111 LLC': 'SUNRISE 111',\n",
    "    'SUNRISE 111, LLC': 'SUNRISE 111',\n",
    "    'TRTUSTEE CORPS, M&T BAYVIEW': 'TRUSTEE CORPS',\n",
    "    'TRUSTEE CORPS - IRVINE': 'TRUSTEE CORPS',\n",
    "    'TRUSTEE CORPS, PENNYMAC LOAC SERVICES, LLC': 'TRUSTEE CORPS',\n",
    "    'TRUSTEE CORPS, BAYVIEW LOAN SERVICING': 'TRUSTEE CORPS',\n",
    "    'TRUSTEE CORPS, PENNYMAC LOAC SERVICES, LLC': 'TRUSTEE CORPS',\n",
    "    'STATEBRIDGE COMPANY, LLC': 'STATEBRIDGE',\n",
    "    'STATEBRIDGE CO': 'STATEBRIDGE',\n",
    "    'STATEBRIDGE COMPANY LLC': 'STATEBRIDGE',\n",
    "    'MOR FINANCIAL SERVICES INC': 'MOR FINANCIAL SERVICES',\n",
    "    'AMS-SENECA MORTGAGE SERVICING LLC': 'SENECA MORTGAGE SERVICING LLC',\n",
    "    'TROJAN CAPITAL INVESTMENTS, LLC': 'TROJAN CAPITAL INVESTMENTS',\n",
    "    'TROJAN CAPITAL INVESTMENT, LLC': 'TROJAN CAPITAL INVESTMENTS',\n",
    "    'MIDFIRST BANK, AS SERVICER FOR US BANK NATIONAL ASSOCIATION': 'MIDFIRST BANK',\n",
    "    'MIDFIRST BANK, AS SERVICER FOR DEUTSCHE BANK NATIONAL TRUST COMPANY': 'MIDFIRST BANK',\n",
    "    'MIDFIRST BANK, AS SERVICER FOR US BANK NATIONAL ASSOCIATION': 'MIDFIRST BANK',\n",
    "    'MIDFIRST BANK, AS SERVICER FOR HSBC BANK USA': 'MIDFIRST BANK',\n",
    "    'THE MONEY SOURCE INC': 'THE MONEY SOURCE',\n",
    "    'THE MONEY SOURCE INC.': 'THE MONEY SOURCE',\n",
    "    'THE MONEY SOURCE, INC.': 'THE MONEY SOURCE',\n",
    "    'THE MONEY SOURCE': 'THE MONEY SOURCE',\n",
    "    'THE MONEY SOURCE INC,': 'THE MONEY SOURCE',\n",
    "    'FIRST BANK D/B/A FIRST BANK MORTGAGE': 'FIRST BANK',\n",
    "    'QUICKEN LOANS INC': 'QUICKEN LOANS',\n",
    "    'QUICKEN LOAN SERVICING': 'QUICKEN LOANS',\n",
    "    'DAKOTA ASSET SERVICES, LLC': 'DAKOTA ASSET SERVICES',\n",
    "    'FRANKLIN CREDIT MANAGEMENT CORPORATION': 'FRANKLIN CREDIT MANAGEMENT CORP',\n",
    "    'FRANKLIN CREDIT MANAGEMENT CORP.': 'FRANKLIN CREDIT MANAGEMENT CORP',\n",
    "    'WOODLAND HILLS MORTGAGE CORPORATION ISAOA/ATIMA': 'WOODLAND HILLS MORTGAGE BANKING CORPORATION',\n",
    "    'WOODLAND HILLS MORTGAGE BANKING CORPORATION ISAOA': 'WOODLAND HILLS MORTGAGE BANKING CORPORATION',\n",
    "    'WILMINGTON SAVINGS FUND SOCIETY, FSB': 'WILIMINGTON SAVINGS FUND SOCIETY',\n",
    "    'WILMINGTON SAVINGS FUND SOCIETY FSB': 'WILIMINGTON SAVINGS FUND SOCIETY',\n",
    "    'WILMINGTON SAVINGS FUND SOCIETY, FSB, D/B/A CHRISTIANA TRUST': 'WILIMINGTON SAVINGS FUND SOCIETY',\n",
    "    'WILMINGTON SAVINGS FUND SOCIETY, FSB, D/B/A CHRISTIANA TRUST': 'WILIMINGTON SAVINGS FUND SOCIETY',\n",
    "    'WILMINGTON SAVINGS FUND SOCIETY, FSB': 'WILIMINGTON SAVINGS FUND SOCIETY',\n",
    "    'WILMINGTON SAVINGS FUND SOCIETY FSB, DBA CHRISTIANA TRUST': 'WILIMINGTON SAVINGS FUND SOCIETY',\n",
    "    'WILIMINGTON TRUST NA, SUCCESSOR TRUSTEE TO CITIBANK NA': 'WILIMINGTON SAVINGS FUND SOCIETY',\n",
    "    'WILMINGTON TRUST, NA, SUCCESSOR TRUSTEE TO CITIBANK,': 'WILIMINGTON SAVINGS FUND SOCIETY',\n",
    "    'NATIONS DIRECT MORTGAGE, LLC': 'NATIONS DIRECT MORTGAGE',\n",
    "    'NATIONS DIRECT MORTGAGE, LLC': 'NATIONS DIRECT MORTGAGE',\n",
    "    'NATIONS DIRECT MORTGAGE LLC,': 'NATIONS DIRECT MORTGAGE',\n",
    "    'NATIONS DIRECT MORTGAGE LLC': 'NATIONS DIRECT MORTGAGE',\n",
    "    'AMERICAN INTERNET MORTGAGE, INC. DBA AIMLOAN.COM': 'AMERICAN INTERNET MORTGAGE',\n",
    "    'CAM XIV TRUST': 'CAM TRUST',\n",
    "    'CAM MORT TRUST': 'CAM TRUST',\n",
    "    'ROUNDPOINT MORTGAGE SERVICING CORPORATION': 'ROUNDPOINT MORTGAGE SERVICING',\n",
    "    'RESIDENTIAL CREDIT OPPORTUNITY V': 'RESIDENTIAL CREDIT SOLUTIONS',\n",
    "    'RESIDENTIAL CREDIT SOLUTION': 'RESIDENTIAL CREDIT SOLUTIONS',\n",
    "    'RESIDENTIAL CREDIT SOLUTIONS, INC.': 'RESIDENTIAL CREDIT SOLUTIONS',\n",
    "    'LC EQUITY GROUP INC': 'LC EQUITY GROUP',\n",
    "    'CENLAR FSB,': 'CENLAR FSB',\n",
    "    'PACIFIC UNION FINANCIAL, LLC': 'PACIFIC UNION FINANCIAL',\n",
    "    'CAPITAL ONE, NA': 'CAPITAL ONE',\n",
    "    'LEWIA H. TENNIS': 'LEWIA TENNIS',\n",
    "    'CENTER STREET LENDING FUND IV SPE, LLC, A DELAWARE LIMITED LIABILITY COMPANY': 'CENTER STREET LENDING FUND',\n",
    "    'CENTER STREET LENDING FUND V, LLC, A DELAWARE LIMITED LIABILITY COMPANY': 'CENTER STREET LENDING FUND',\n",
    "    'PARKER FORECLOSURE SERVICES, LLC': 'PARKER FORECLOSURE SERVICES',\n",
    "    'PEAK FORECLOSURE SERVICES, INC.': 'PARKER FORECLOSURE SERVICES',\n",
    "    'LOGIX FEDERAL CREDIT UNION FKA LOCKHEED FEDERAL CREDIT UNION': 'LOGIX FEDERAL CREDIT UNION',\n",
    "    'ALBERT R SILVA TRUST': 'ALBERT R. SILVA TRUST',\n",
    "    'ANCHOR LOANS, LP': 'ANCHOR LOANS',\n",
    "    'CENTER FSB,': 'CENTER FSB',\n",
    "    'FLAGSTAR BANK FSB': 'FLAGSTAR',\n",
    "    'FLAGSTAR BANK': 'FLAGSTAR',\n",
    "    'MIDWEST LOAN SERVICES INC': 'MIDWEST LOAN SERVICES',\n",
    "    'CHRISTIANA TRUST,': 'CHRISTIANA TRUST',\n",
    "    'CENTER STREET LENDING FUND IV SPE, LLC, A DELAWARE LIMITED LIABILITY COMPANY': 'CENTER STREET LENDING FUND',\n",
    "    'GASBARRO INVESTMENTS INC': 'GASBARRO INVESTMENT',\n",
    "    'GASBARRO INVESTMENTS, INC.': 'GASBARRO INVESTMENT',\n",
    "    'REAL TIME RESOLUTIONS, INC.': 'REAL TIME RESOLUTIONS',\n",
    "    'REAL TIME RESOLUTIONS, INC': 'REAL TIME RESOLUTIONS',\n",
    "    'FAY SERVICING LLC - ERIC MOORE': 'FAY SERVICING',\n",
    "    'CITY NATIONAL BANK': 'CITY NATIONAL FINANCIAL',\n",
    "    'YAKTE PROPERTIES LLC': 'YAKTE PROPERTIES',\n",
    "    'ABS REO TRUST II': 'ABS REO TRUST',\n",
    "    'ABS REO TRUST V, NA,': 'ABS REO TRUST',\n",
    "    'PLM LOAN MANAGEMENT SERVICES, INC.': 'PLM LOAN MANAGEMENT SERVICES',\n",
    "    'PLM LOAN MANAGEMENT SERVICES, INC': 'PLM LOAN MANAGEMENT SERVICES',\n",
    "    'BROUGHAM FUND I TRUST': 'BROUGHAM FUND',\n",
    "    'CHRISTIANA TRUST, A DIVISION OF WILMINGTON SAVINGS FUND SOCIETY, FSB, NOT IN ITS INDIVIDUAL CAPACITY': 'CHRISTIANA TRUST',\n",
    "    'MR. COOPER LLC': 'MR. COOPER',\n",
    "    'MR COOPER': 'MR. COOPER',\n",
    "    'KEYSTONE REAL ESTATE LENDING FUND, L.P.': 'KEYSTONE REAL ESTATE LENDING FUND',\n",
    "    'KEYSTONE REAL ESTATE LENDING FUND LP': 'KEYSTONE REAL ESTATE LENDING FUND',\n",
    "    'NPI DEBT FUND I LP': 'NPI DEBT FUND',\n",
    "    'NPI DEBT FUND I, LP': 'NPI DEBT FUND',\n",
    "    'NPI DEBT FUND I LP': 'NPI DEBT FUND',\n",
    "    'NPI  DEBT FUND I, LP': 'NPI DEBT FUND',\n",
    "    'ANCHOR LOANS, LP': 'ANCHOR LOANS',\n",
    "    'JOEL S. LEVINE TRUSTEE OF THE JOEL S. LEVINE REVOCABLE TRUST DATED 2/28/1991': 'JOEL S. LEVINE',\n",
    "    'INTERNATIONAL CITY MORTGAGE, INC': 'INTERNATIONAL CITY MORTGAGE',\n",
    "    'AMWEST FUNDING CORP': 'AMWEST FUNDING',\n",
    "    'AMWEST FUNDING CORP,': 'AMWEST FUNDING',\n",
    "    'AM WEST FUNDING CORP': 'AMWEST FUNDING',\n",
    "    'ABLE INVESTMENT SERVICES, LLC': 'ABLE INVESTMENT SERVICES',\n",
    "    'D&A INTERNATIONAL INVESTMENT GROUP, LLC': 'D&A INTERNATIONAL INVESTMENT GROUP',\n",
    "    'D&A INTERNATIONAL INVESTMENT GROUP LLC.': 'D&A INTERNATIONAL INVESTMENT GROUP',\n",
    "    'EASY REALTY AND LOANS INC, A CALIFORNIA CORPORATION, BENEFICIARY': 'EASY REALTY AND LOANS',\n",
    "    'FIRST AMERICAN TRUSTEE SERVICING SOLUTIONS, FIRST ENTERTAINMENT': 'FIRST AMERICAN TRUSTEE SERVICING SOLUTIONS',\n",
    "    'FIRST AMERICAN TRUSTEE SERVICING SOLUTIONS - NATION DIRECT': 'FIRST AMERICAN TRUSTEE SERVICING SOLUTIONS',\n",
    "    'FIRST AMERICAN TRUSTEE SERVICING SOLUTIONS - JEFFERSON': 'FIRST AMERICAN TRUSTEE SERVICING SOLUTIONS',\n",
    "    'FIRST AMERICAN TRUSTEE SERVICING SOLUTIONS - LOGIX': 'FIRST AMERICAN TRUSTEE SERVICING SOLUTIONS',\n",
    "    'NATIONSTAR MORTGAGE, DBA MR. COOPER': 'NATIONSTAR MORTGAGE',\n",
    "    'PS FUNDING, INC': 'PS FUNDING',\n",
    "    'PS FUNDING, INC.': 'PS FUNDING',\n",
    "    'VAL-CHRIS INVESTMENTS INC.': 'VAL-CHRIS INVESTMENT',\n",
    "    'VAL-CHRIS INVESTMENTS, INC.': 'VAL-CHRIS INVESTMENT',\n",
    "    'VAL-CHRIS INVESTMENTS INC': 'VAL-CHRIS INVESTMENT',\n",
    "    'VAL-CHRIS INVESTMENTS': 'VAL-CHRIS INVESTMENT',\n",
    "    'REDWOOD BPL HOLDINGS, INC.': 'REDWOOD BPL HOLDINGS',\n",
    "    'REDWOOD BPL HOLDINGS INC.': 'REDWOOD BPL HOLDINGS',\n",
    "    'HOME POINT FINANCIAL CORPORATION': 'HOME POINT FINANCIAL',\n",
    "    '2005 RESIDENTIAL TRUST 3-1': '2005 RESIDENTIAL TRUST',\n",
    "    '2005 RESIDENTIAL TRUST 3-2': '2005 RESIDENTIAL TRUST',\n",
    "    '5 AIF SYCAMORE2, LLC': 'AIF',\n",
    "    '5 AIF SYCAMORE 2, LLC': 'AIF',\n",
    "    '5AIF JUNIPER 2, LLC': 'AIF',\n",
    "    '5 AIF SYCAMORE2, LLC': 'AIF',\n",
    "    '5 AIF BAOBAB, LLC': 'AIF',\n",
    "    '5AIF NUTMEG, LLC': 'AIF',\n",
    "    '5AIF SYCAMORE 2, LLC': 'AIF',\n",
    "    'FANNIE MAE - CARE OF PEMCO-LIMITED': 'FANNIE MAE',\n",
    "    'PLANET HOME LENDING, LLC': 'PLANET HOME LENDING',\n",
    "    'PANET HOME LENDING, LLC': 'PLANET HOME LENDING',\n",
    "    'STATEBRIDGE COMPANY, LLC': 'STATEBRIDGE COMPANY',\n",
    "    'STATEBRIDGE COMPANY LLC': 'STATEBRIDGE COMPANY',\n",
    "    'TROJAN CAPITAL INVESTMENTS, LLC': 'TROJAN CAPITAL INVESTMENTS',\n",
    "    'TROJAN CAPITAL INVESTMENTS, LLC': 'TROJAN CAPITAL INVESTMENTS', \n",
    "    'TROJAN CAPITAL INVESTMENT, LLC': 'TROJAN CAPITAL INVESTMENTS',\n",
    "    'REAL TIME RESOLUTIONS, INC.': 'REAL TIME RESOLUTIONS',\n",
    "    'REAL TIME RESOLUTIONS, INC.': 'REAL TIME RESOLUTIONS',\n",
    "    'REAL TIME RESOLUTIONS, INC': 'REAL TIME RESOLUTIONS',\n",
    "    'WEST COAST CAPITAL, LLC': 'WEST COAST CAPITAL',\n",
    "    'WEST COAST CAPITAL, LLC': 'WEST COAST CAPITAL',\n",
    "    'WEST COAST CAPITAL GROUP, INC.': 'WEST COAST CAPITAL',\n",
    "    'MAXVI 1, LLC,': 'MAXVI 1 LLC',\n",
    "    'KEYSTONE REAL ESTATE LENDING FUND LP': 'KEYSTONE REAL ESTATE LENDING FUND, L.P.',\n",
    "    'BANK OF AMERICA NA': 'BANK OF AMERICA',\n",
    "    'BANK OF AMERICA - PRE': 'BANK OF AMERICA',\n",
    "    'WESCOM CENTRAL CREDIT UNION': 'WESCOM CREDIT UNION',\n",
    "    'WANG YANG ENTERPRISES LLC': 'WANG YANG ENTERPRISES',\n",
    "    'WANG YANG ENTERPRISES, LLC': 'WANG YANG ENTERPRISES',\n",
    "    'BANC OF CALIFORNIA NATIONAL ASSOTIATION': 'BANC OF CALIFORNIA NATIONAL ASSOCIATION',\n",
    "    'VILLAGE CAPITAL &  INVESTMENT, LLC': 'VILLAGE CAPITAL & INVESTMENT',\n",
    "    'PARTNERS FOR PAYMENT RELIEF DE II, LLV': 'PARTNERS FOR PAYMENT RELIEF',\n",
    "    'PARTNERS FOR PAYMENT RELIEF DE III, LLC': 'PARTNERS FOR PAYMENT RELIEF',\n",
    "    '5AIF SYCAMORE 2, LLC': 'AIF',\n",
    "    '5 AIF SYCAMORE 2, LLC': 'AIF',\n",
    "    '5AIF JUNIPER 2, LLC': 'AIF',\n",
    "    '5 AIF SYCAMORE2, LLC': 'AIF',\n",
    "    '5AIF NUTMEG, LLC': 'AIF',\n",
    "    '5AIF SYCAMORE 2, LLC': 'AIF',\n",
    "    'DAKOTA ASSET SERVICES, LLC': 'DAKOTA ASSET SERVICES',\n",
    "    'THE RAMA FUND LLC': 'THE RAMA FUND',\n",
    "    'THE RAMA FUND, LLC': 'THE RAMA FUND',\n",
    "    'GREGORY FUNDING LLC': 'GREGORY FUNDING',\n",
    "    'ONSLOW BAY FINANCIAL LLC CO SELECT PORTFOLIO SERVICING': 'ONSLOW BAY FINANCIAL',\n",
    "    'FRANKLIN CREDIT MANAGEMENT CORP.': 'FRANKLIN CREDIT MANAGEMENT CORPORATION',\n",
    "    'FRANKLIN CREDIT MANAGEMENT CORP': 'FRANKLIN CREDIT MANAGEMENT CORPORATION',\n",
    "    'TGP OPPORTUNITY FUND I LLC': 'TGP OPPORTUNITY FUND',\n",
    "    'TGP OPPORTUNITY FUND I, LLC': 'TGP OPPORTUNITY FUND',\n",
    "    'PHH MORGAGE CORPORATION': 'PHH MORTGAGE CORPORATION',\n",
    "    'PHH MORTGAGE CORP': 'PHH MORTGAGE CORPORATION',\n",
    "    'THE BANK OF NEW YORK MELLON, SUCCESSOR TO THE BANK OF NEW YORK, NOT IN ITS INDIVIDUAL CAPACITY BUT S': 'THE BANK OF NEW YORK MELLON',\n",
    "    'SALAGUBANG, JOSE': 'JOSE SALAGUBANG',\n",
    "    'SALAGUBANG,JOSE': 'JOSE SALAGUBANG',\n",
    "    'SALAGUBANG JOSE': 'JOSE SALAGUBANG',\n",
    "    'SALAGUBANG, JOSE': 'JOSE SALAGUBANG',\n",
    "    'THE EMPLOYEES RETIREMENT AND BENEFIT PLAN AND TRUST': 'EMPLOYEES RETIREMENT & BENEFIT P&T',\n",
    "    'CTF ASSET MANGEMENT, LLC': 'CTF ASSET MANAGEMENT',\n",
    "    'CTF ASSET MANAGEMENT LLC': 'CTF ASSET MANAGEMENT',\n",
    "    'SN SERVICING CO': 'SN SERVICING',\n",
    "    'SN SERVICING CORP': 'SN SERVICING',\n",
    "    'SN SERVICING CORPORATION': 'SN SERVICING',\n",
    "    'MIDWEST LOAN SERVICES INC': 'MIDWEST LOAN SERVICES',\n",
    "    'LC EQUITY GROUP INC': 'LC EQUITY GROUP',\n",
    "    'POPA FEDERAL CREDITI UNION': 'POPA FEDERAL CREDIT UNION',\n",
    "    'AJAX E MASTER TRUST I, A DELAWARE TRUST, WILMINGTON SAVINGS FUND SOCIETY, FSB, TRUSTEE': 'AJX MORTGAGE TRUST',\n",
    "    'AJX MORTGAGE TRUST II, A DELAWARE TRUST, WILMINGTON SAVINGS FUND SOCIETY, FSB, TRUSTEE': 'AJX MORTGAGE TRUST',\n",
    "    'AJX MORTGAGE TRUST I, A DELAWARE TRUST, WILMINGTON SAVINGS FUND SOCIETY, FSB, TRUSTEE': 'AJX MORTGAGE TRUST',\n",
    "    'AJAX MORTGAGE LOAN TRUST 2018-G, MORTGAGE-BACKED SECURITIES, SERIES 2018-G, BY U.S. BANK NATIONAL AS': 'AJX MORTGAGE TRUST',\n",
    "    'AJAX MORTGAGE LOAN TRUST 2018-D, MORTGAGE-BACKED SECURITIES, SERIES 2018-D, BY U.S. BANK NATIONAL AS': 'AJX MORTGAGE TRUST',\n",
    "    'AJAX MORTGAGE LOAN TRUST 2019-A, MORTGAGE-BACKED SECURITIES, SERIES 2019-A, BY U.S. BANK NATIONAL AS': 'AJX MORTGAGE TRUST',\n",
    "    'AJAX MORTGAGE LOAN TRUST 2019-E, MORTGAGE-BACKED SECURITIES, SERIES 2019-E, BY U.S. BANK NATIONAL AS': 'AJX MORTGAGE TRUST',\n",
    "    'AJAX MORTGAGE LOAN TRUST 2018-G, MORTGAGE-BACKED SECURITIES, SERIES 2018-G, BY U.S. BANK NATIONAL AS': 'AJX MORTGAGE TRUST',\n",
    "    'AJX MORTGAGE TRUST II, A DELAWARE TRUST, WILMINGTON SAVINGS FUND SOCIETY, FSB, TRUSTEE': 'AJX MORTGAGE TRUST',\n",
    "    'AJAX E MASTER TRUST I, A DELAWARE TRUST, WILMINGTON SAVINGS FUND SOCIETY, FSB, TRUSTEE': 'AJX MORTGAGE TRUST',\n",
    "    'AJX MORTGAGE TRUST I, A DELAWARE TRUST, WILMINGTON SAVINGS FUND SOCIETY, FSB, TRUSTEE': 'AJX MORTGAGE TRUST',\n",
    "    'INVESTMENT MANAGEMENT COMPANY, LLC': 'INVESTMENT MANAGEMENT COMPANY',\n",
    "    'DMI - HSBC': 'HSBC',\n",
    "    'INTERNATIONAL CITY MORTGAGE, INC': 'INTERNATIONAL CITY MORTGAGE',\n",
    "    'DEUTSCHE BANK NATIONAL TRUST CO. AS TR FOR SOUNDVIEW 2006 OPT-3': 'DEUTSCHE BANK',\n",
    "    'GASBARRO INVESTMENTS, INC.': 'GASBARRO INVESTMENT',\n",
    "    'GASBARRO INVESTMENTS INC': 'GASBARRO INVESTMENT',\n",
    "    'GASBARRO INVESTMENTS, INC.': 'GASBARRO INVESTMENT',\n",
    "    'D&A INTERNATIONAL INVESTMENT GROUP LLC.': 'D&A INTERNATIONAL INVESTMENT GROUP',\n",
    "    'D&A INTERNATIONAL INVESTMENT GROUP LLC.': 'D&A INTERNATIONAL INVESTMENT GROUP',\n",
    "    'D&A INTERNATIONAL INVESTMENT GROUP, LLC': 'D&A INTERNATIONAL INVESTMENT GROUP',\n",
    "    'ZELAYA, CARLOS E': 'CARLOS E ZELAYA',\n",
    "    'ZELAYA,CARLOS E': 'CARLOS E ZELAYA',\n",
    "    'AKSELROD BYPASS TRUST': 'AKSELROD TRUST',\n",
    "    'AKSELROD FAMILY TRUST': 'AKSELROD TRUST',\n",
    "    'M&T BANK - JEFFERSON OFFICE': 'M&T BANK',\n",
    "    'SELENE FINANCE - JEFFERSON OFFICE': 'SELENE FINANCE',\n",
    "    'SN SERVICING CO': 'SN SERVICING',\n",
    "    'SN SERVICING CORP': 'SN SERVICING',\n",
    "    'SN SERVICING CORPORATION': 'SN SERVICING',\n",
    "    'AZITA FRIEDA DELRAHIM': 'AZITA DELRAHIM',\n",
    "    'PNC BANK, NATIONAL ASSOCIATION,': 'PNC',\n",
    "    'HUDSON HOMES MANAGEMENT LLC': 'HUDSON HOMES MANAGEMENT',\n",
    "    'THE BANK OF NEW YORK MELLON, DITECH FINANCIAL LLC': 'THE BANK OF NEW YORK MELLON',\n",
    "    'THE BANK OF NEW YORK MELLON FKA THE BANK OF NEW YORK': 'THE BANK OF NEW YORK MELLON',\n",
    "    'FIDUCIARY TRUST INTERNATIONAL OF CA': 'FIDUCIARY TRUST INTERNATIONAL OF CALIFORNIA',\n",
    "    'OLIVER W TAYLOR': 'OLIVER W & NORMA J TAYLOR',\n",
    "    'WITKIN & EISINGER LLC': 'WITKIN & ASSOCIATES',\n",
    "    'WITKIN & ASSOCIATES LLC': 'WITKIN & ASSOCIATES',\n",
    "    'WITKIN & ASSOCIATES, LLC': 'WITKIN & ASSOCIATES',\n",
    "    'CTF ASSET MANAGEMENT LLC': 'CTF ASSET MANGEMENT',\n",
    "    'CTF ASSET MANGEMENT, LLC': 'CTF ASSET MANGEMENT',\n",
    "    '5 AIF BAOBAB, LLC': 'AIF',\n",
    "    'BOURNS EMPLOYEES FEDERAL CREDIT CREDIT': 'BOURNS EMPLOYEES FEDERAL CREDIT UNION',\n",
    "    'MORTGAGE MANAGEMENT CONSULTANTS, INC': 'MORTGAGE MANAGEMENT CONSULTANTS',\n",
    "    'FINGERGUT LEON': 'LEON FINGERGUT',\n",
    "    'FINGERGUT,LEON': 'LEON FINGERGUT',\n",
    "    'TGP OPPORTUNITY FUND I LLC': 'TGP OPPORTUNITY FUND I, LLC',\n",
    "    'LEWIA H. TENNIS': 'LEWIA TENNIS',  \n",
    "    'TOORAK CAPITAL PARTNERS, LLC': 'TOORAK CAPITAL PARTNERS',\n",
    "    'TOORAK CAPITAL PARTNERS LLC': 'TOORAK CAPITAL PARTNERS',\n",
    "    'FINANCE OF AMERICA REVERSE': 'FINANCE OF AMERICA',\n",
    "    'FINANCE OF AMERICA COMMERCIAL': 'FINANCE OF AMERICA',\n",
    "    'TOWD POINT MORTGAGE TRUST 2018-1, U.S. BANK NATIONAL ASSOCIATION, AS INDENTURE TRUSTEE': 'U.S. BANK',\n",
    "    'PS FUNDING, INC.': 'PS FUNDING',\n",
    "    'PS FUNDING, INC': 'PS FUNDING',\n",
    "    'WELLS FARGO BANK NA TR / NATIONSTAR MORTGAGE, LLC.': 'WELLS FARGO BANK',\n",
    "    'WILMINGTON TRUST, NATIONAL ASSOCIATION, NOT IN ITS INDIVIDUAL CAPACITY BUT SOLELY MFRA TRUST 2015-1': 'WILMINGTON TRUST',\n",
    "    'WILMINGTON SAVINGS FUND SOCIETY, FSB, NOT IN ITS INDIVIDUAL CAPACITY BUT SOLELY AS OWNER TRUSTEE': 'WILMINGTON TRUST',\n",
    "    'WILMINGTON SAVINGS FUND SOCIETY, FSB, AS OWNER TRUSTEE OF THE RESIDENTIAL CREDIT OPPORTUNITIES TRUS': 'WILMINGTON TRUST',\n",
    "    'WILMINGTON SAVINGS FUND SOCIETY, FSB, AS OWNER TRUSTEE OF THE RESIDENTIAL CREDIT OPPORTUNITIES TRUS': 'WILMINGTON TRUST',\n",
    "    'LIMA ONE CAPITAL LLC': 'LIMA ONE CAPITAL',\n",
    "    'FREDDIE MAC HOME LOAN CORPORATION': 'FREDDIE MAC',\n",
    "    'EMPLOYEES RETIREMENT & BENEFIT P&T': 'THE EMPLOYEES RETIREMENT AND BENEFIT PLAN AND TRUST',\n",
    "    'ABLE INVESTMENT SERVICES, LLC': 'ABLE INVESTMENT SERVICES',\n",
    "    'HUDSON HOMES MANAGEMENT LLC': 'HUDSON HOMES MANAGEMENT',\n",
    "    'QUIJADA ERNESTO': 'ERNESTO QUIJADA',\n",
    "    'QUIJADA,ERNESTO': 'ERNESTO QUIJADA',\n",
    "    'AFGHAN AMERICAN TRADING COMPANY INC.': 'AFGHAN AMERICAN TRADING COMPANY',\n",
    "    'AFGHAN AMERICAN TRADING CO.': 'AFGHAN AMERICAN TRADING COMPANY',\n",
    "    'AFGHAN AMERICAN TRADING COMPANY INC.': 'AFGHAN AMERICAN TRADING COMPANY',\n",
    "    'CITIGROUP MORTGAGE LOAN TRUST INC': 'CITIBANK',\n",
    "    'STRUNZO DEVELOPMENT CORPORATION OF CALIFORNIA': 'STRUNZO DEVELOPMENT CORPORATION',\n",
    "    'MAXVI 1, LLC,': 'MAXVI 1 LLC',\n",
    "    'WILMINGTON SAVINGS FUND SOCIETY, FSB, NOT IN ITS INDIVIDUAL CAPACITY BUT SOLELY AS OWNER TRUSTEE': 'WILMINGTON TRUST',\n",
    "    'WILMINGTON TRUST, NATIONAL ASSOCIATION, NOT IN ITS INDIVIDUAL CAPACITY BUT SOLELY MFRA TRUST 2015-1': 'WILMINGTON TRUST',\n",
    "    'NPI DEBT FUND I, LP': 'NPI DEBT FUND',\n",
    "    'NPI DEBT FUND I LP': 'NPI DEBT FUND',\n",
    "    'NPI  DEBT FUND I, LP': 'NPI DEBT FUND',\n",
    "    'TOORAK CAPITAL PARTNERS LLC': 'TOORAK CAPITAL PARTNERS',\n",
    "    'TOORAK CAPITAL PARTNERS, LLC': 'TOORAK CAPITAL PARTNERS',\n",
    "    'TOORAK CAPITAL PARTNERS LLC': 'TOORAK CAPITAL PARTNERS',\n",
    "    'TOORAK CAPITAL PARTNERS': 'TOORAK CAPITAL PARTNERS',\n",
    "    'MUFG UNION BANK, N.A.': 'MUFG UNION BANK',\n",
    "    'SKYLARK CAPITAL MANAGEMENT LLC': 'SKYLARK CAPITAL MANAGEMENT',\n",
    "    'AHP SERVICING LLC': 'AHP SERVICING'}\n",
    "\n",
    "LA_foreclosures_2015_to_2022['lender'].replace(lender_mapping, inplace=True)\n"
   ]
  },
  {
   "cell_type": "code",
   "execution_count": 57,
   "id": "fd002b25",
   "metadata": {},
   "outputs": [
    {
     "name": "stdout",
     "output_type": "stream",
     "text": [
      "['WELLS FARGO BANK' 'JP MORGAN CHASE' 'DEUTSCHE BANK' ...\n",
      " 'WELLS FARGO AS TR OF OPTION ONE MORTGAGE LOAN TRUST SERIES 2007-FXD1, BY SLS-COMPUTERSHARE AS ATTY'\n",
      " 'KAT INVESTMENT TRUST & DMT INVESTMENT TRUST'\n",
      " 'ROYAL PACIFIC FUNDING CORP']\n"
     ]
    }
   ],
   "source": [
    "# Replace old lender names with new names in place\n",
    "LA_foreclosures_2015_to_2022['lender'].replace(lender_mapping, inplace=True)\n",
    "\n",
    "# Display the updated DataFrame\n",
    "print(LA_foreclosures_2015_to_2022['lender'].unique())"
   ]
  },
  {
   "cell_type": "code",
   "execution_count": 58,
   "id": "ebadec85",
   "metadata": {},
   "outputs": [
    {
     "name": "stdout",
     "output_type": "stream",
     "text": [
      "311            346 E 116TH ST\n",
      "331        19531 W COLLIER ST\n",
      "332        1329 W LINWOOD AVE\n",
      "333         7870 S BOEING AVE\n",
      "334       6941 OWENSMOUTH AVE\n",
      "                 ...         \n",
      "29753    7753 N BOTHWELL ROAD\n",
      "29754    10513 N SHOSHONE AVE\n",
      "29755          7436 W 88TH PL\n",
      "29756      20836 S DENKER AVE\n",
      "29757      10339 N CAYUGA AVE\n",
      "Name: property_address, Length: 28954, dtype: object\n"
     ]
    }
   ],
   "source": [
    "#I realize that there are a few coordinates nested in the 'property_address'. \n",
    "#I will remove them and constrain the address to just end at the Ave or street\n",
    "\n",
    "# Split the address column by \"\\n\" and keep only the first part\n",
    "LA_foreclosures_2015_to_2022['property_address'] = LA_foreclosures_2015_to_2022['property_address'].str.split('\\n').str[0]\n",
    "\n",
    "# Display the DataFrame after modification\n",
    "print(LA_foreclosures_2015_to_2022['property_address'])"
   ]
  },
  {
   "cell_type": "code",
   "execution_count": 59,
   "id": "8c71074c",
   "metadata": {
    "scrolled": true
   },
   "outputs": [
    {
     "name": "stdout",
     "output_type": "stream",
     "text": [
      "311      90061\n",
      "331      91356\n",
      "332      90017\n",
      "333      90045\n",
      "334      91303\n",
      "         ...  \n",
      "29753    91335\n",
      "29754    91344\n",
      "29755    90045\n",
      "29756    90501\n",
      "29757    91331\n",
      "Name: property_zip, Length: 28954, dtype: int64\n"
     ]
    }
   ],
   "source": [
    "#changing zip to integer\n",
    "LA_foreclosures_2015_to_2022['property_zip'] = LA_foreclosures_2015_to_2022['property_zip'].astype(int)\n",
    "\n",
    "# Display the DataFrame to verify the changes\n",
    "print(LA_foreclosures_2015_to_2022['property_zip'])\n"
   ]
  },
  {
   "cell_type": "code",
   "execution_count": 60,
   "id": "a566ecaa",
   "metadata": {
    "scrolled": true
   },
   "outputs": [
    {
     "name": "stdout",
     "output_type": "stream",
     "text": [
      "<class 'pandas.core.frame.DataFrame'>\n",
      "Index: 28954 entries, 311 to 29757\n",
      "Data columns (total 15 columns):\n",
      " #   Column                      Non-Null Count  Dtype  \n",
      "---  ------                      --------------  -----  \n",
      " 0   apn                         28954 non-null  int64  \n",
      " 1   registered_date             28954 non-null  object \n",
      " 2   property_type               28954 non-null  object \n",
      " 3   property_address            28954 non-null  object \n",
      " 4   property_city               28954 non-null  object \n",
      " 5   property_state              28954 non-null  object \n",
      " 6   property_zip                28954 non-null  int64  \n",
      " 7   council_district            28954 non-null  int64  \n",
      " 8   lender                      28954 non-null  object \n",
      " 9   lender_contact              28954 non-null  object \n",
      " 10  property_management         28954 non-null  object \n",
      " 11  longitude                   28954 non-null  float64\n",
      " 12  latitude                    28954 non-null  float64\n",
      " 13  foreclosure_year            28954 non-null  int64  \n",
      " 14  distance_to_la_city_center  28954 non-null  float64\n",
      "dtypes: float64(3), int64(4), object(8)\n",
      "memory usage: 3.5+ MB\n"
     ]
    }
   ],
   "source": [
    "LA_foreclosures_2015_to_2022.info()"
   ]
  },
  {
   "cell_type": "code",
   "execution_count": 61,
   "id": "44b3a949",
   "metadata": {},
   "outputs": [],
   "source": [
    "#renaming the foreclosure_year column to join with homeless dataframe\n",
    "LA_foreclosures_2015_to_2022.rename(columns={'foreclosure_year': 'year'}, inplace=True)\n"
   ]
  },
  {
   "cell_type": "code",
   "execution_count": 62,
   "id": "b67c7aec",
   "metadata": {},
   "outputs": [
    {
     "name": "stdout",
     "output_type": "stream",
     "text": [
      "              apn         registered_date  property_type  \\\n",
      "311    6083008010              01/12/2015   Multi-Family   \n",
      "331    2164023003              22/01/2015  Single Family   \n",
      "332    5143012013              22/04/2015  Single Family   \n",
      "333    4106029005              15/07/2015  Single Family   \n",
      "334    2138005033              24/08/2015  Single Family   \n",
      "...           ...                     ...            ...   \n",
      "29753  2116008035  12/21/2022 12:00:00 AM  Single Family   \n",
      "29754  2733011004  09/27/2022 12:00:00 AM  Single Family   \n",
      "29755  4119020006  06/07/2022 12:00:00 AM  Single Family   \n",
      "29756  7351025018  08/05/2022 12:00:00 AM  Single Family   \n",
      "29757  2620020002  11/03/2022 12:00:00 AM  Single Family   \n",
      "\n",
      "           property_address property_city property_state  property_zip  \\\n",
      "311          346 E 116TH ST   LOS ANGELES             CA         90061   \n",
      "331      19531 W COLLIER ST   LOS ANGELES             CA         91356   \n",
      "332      1329 W LINWOOD AVE   LOS ANGELES             CA         90017   \n",
      "333       7870 S BOEING AVE   LOS ANGELES             CA         90045   \n",
      "334     6941 OWENSMOUTH AVE   CANOGA PARK             CA         91303   \n",
      "...                     ...           ...            ...           ...   \n",
      "29753  7753 N BOTHWELL ROAD   LOS ANGELES             CA         91335   \n",
      "29754  10513 N SHOSHONE AVE   LOS ANGELES             CA         91344   \n",
      "29755        7436 W 88TH PL   LOS ANGELES             CA         90045   \n",
      "29756    20836 S DENKER AVE   LOS ANGELES             CA         90501   \n",
      "29757    10339 N CAYUGA AVE   LOS ANGELES             CA         91331   \n",
      "\n",
      "       council_district                      lender   lender_contact  \\\n",
      "311                  15            WELLS FARGO BANK    Jonathon Holt   \n",
      "331                   3             JP MORGAN CHASE         Amy Lott   \n",
      "332                   1               DEUTSCHE BANK     Leon Oransky   \n",
      "333                  11             BANK OF AMERICA   VPR Department   \n",
      "334                   3  SELECT PORTFOLIO SERVICING  Code Violations   \n",
      "...                 ...                         ...              ...   \n",
      "29753                 3                    LOANCARE       Eric MOORE   \n",
      "29754                12                    LOANCARE       Eric MOORE   \n",
      "29755                11                  CENLAR FSB       Eric Moore   \n",
      "29756                15         PLANET HOME LENDING    Alyssa Guzman   \n",
      "29757                 7            WELLS FARGO BANK   Brock Nekvinda   \n",
      "\n",
      "                   property_management   longitude   latitude  year  \\\n",
      "311                                LPS -118.267830  33.929188  2015   \n",
      "331                                MCS -118.558790  34.166635  2015   \n",
      "332        US Best Repair Service, Inc -118.268789  34.051050  2015   \n",
      "333                       EDWARD ZUBIA -118.387358  33.966885  2015   \n",
      "334                                MCS -118.601545  34.196811  2015   \n",
      "...                                ...         ...        ...   ...   \n",
      "29753                        Safeguard -118.561370  34.211720  2022   \n",
      "29754                        Safeguard -118.517800  34.261570  2022   \n",
      "29755      Safeguard - Code Compliance -118.425370  33.956490  2022   \n",
      "29756  Gary's Field Inspection Service -118.303770  33.840820  2022   \n",
      "29757               WELL FARGO BANK NA -118.421570  34.258210  2022   \n",
      "\n",
      "       distance_to_la_city_center  \n",
      "311                     13.858041  \n",
      "331                     31.677087  \n",
      "332                      2.314952  \n",
      "333                     16.289111  \n",
      "334                     36.654745  \n",
      "...                           ...  \n",
      "29753                   34.198443  \n",
      "29754                   34.323468  \n",
      "29755                   19.841929  \n",
      "29756                   24.148683  \n",
      "29757                   28.153456  \n",
      "\n",
      "[28954 rows x 15 columns]\n"
     ]
    }
   ],
   "source": [
    "#removing leading or trailing whitespaces\n",
    "\n",
    "LA_foreclosures_2015_to_2022 = LA_foreclosures_2015_to_2022.applymap(lambda x: x.strip() if isinstance(x, str) else x)\n",
    "\n",
    "# Display the DataFrame after removing leading and trailing whitespaces\n",
    "print(LA_foreclosures_2015_to_2022)"
   ]
  },
  {
   "cell_type": "markdown",
   "id": "818465f8",
   "metadata": {},
   "source": [
    "## checking the unique values in the columns to see what needs to be cleaned "
   ]
  },
  {
   "cell_type": "code",
   "execution_count": 63,
   "id": "bf32af2a",
   "metadata": {
    "scrolled": true
   },
   "outputs": [
    {
     "name": "stdout",
     "output_type": "stream",
     "text": [
      "Unique values in the 'property_city' column:\n",
      "['LOS ANGELES' 'CANOGA PARK' 'WESTCHESTER' 'HOLLYWOOD' 'VENICE' 'SYLMAR'\n",
      " 'SAN PEDRO' 'VAN NUYS' 'TARZANA' 'MARINA DEL REY' 'NORTH HOLLYWOOD'\n",
      " 'HARBOR CITY' 'PLAYA DEL REY' 'WOODLAND HILLS' 'WINNETKA' 'PANORAMA CITY'\n",
      " 'WILMINGTON' 'BAD APN' 'ENCINO' 'PACOIMA' 'NORTH HILLS' 'TORRANCE'\n",
      " 'NORTHRIDGE' 'SHERMAN OAKS' '# 1 LOS ANGELES' 'L.A.' 'TUJUNGA'\n",
      " 'STUDIO CITY' 'CHATSWORTH' 'LOMITA' 'GARDENA' 'VALLEY VILLAGE' 'RESEDA'\n",
      " 'BURBANK' 'LAKE VIEW TERRACE' 'MISSION HILLS' 'SUN VALLEY' 'LA'\n",
      " 'LOS SNGELES' 'OLD APN' 'SAN FERNANDO' 'RANCHO LA TUNA CANYON'\n",
      " 'BEVERLY HILLS' 'SUNLAND' 'PACIFIC PALISADES' 'SEPULVEDA' 'ARLETA'\n",
      " 'SANTA MONICA']\n",
      "Number of unique values in the 'property_city' column:\n",
      "property_city\n",
      "LOS ANGELES              26983\n",
      "VAN NUYS                   600\n",
      "SAN PEDRO                  438\n",
      "HOLLYWOOD                  284\n",
      "NORTH HOLLYWOOD            102\n",
      "VENICE                      64\n",
      "SYLMAR                      48\n",
      "TARZANA                     42\n",
      "WOODLAND HILLS              41\n",
      "WILMINGTON                  41\n",
      "CANOGA PARK                 35\n",
      "ENCINO                      24\n",
      "PACOIMA                     23\n",
      "RESEDA                      22\n",
      "CHATSWORTH                  18\n",
      "TORRANCE                    17\n",
      "WESTCHESTER                 12\n",
      "NORTHRIDGE                  12\n",
      "HARBOR CITY                 11\n",
      "BURBANK                      9\n",
      "BAD APN                      9\n",
      "STUDIO CITY                  9\n",
      "SHERMAN OAKS                 9\n",
      "PANORAMA CITY                8\n",
      "L.A.                         7\n",
      "PLAYA DEL REY                7\n",
      "SUN VALLEY                   7\n",
      "MARINA DEL REY               7\n",
      "WINNETKA                     7\n",
      "OLD APN                      7\n",
      "TUJUNGA                      6\n",
      "BEVERLY HILLS                6\n",
      "VALLEY VILLAGE               6\n",
      "NORTH HILLS                  5\n",
      "LOMITA                       5\n",
      "SAN FERNANDO                 4\n",
      "# 1 LOS ANGELES              4\n",
      "MISSION HILLS                2\n",
      "GARDENA                      2\n",
      "SUNLAND                      2\n",
      "PACIFIC PALISADES            2\n",
      "LA                           1\n",
      "LOS SNGELES                  1\n",
      "LAKE VIEW TERRACE            1\n",
      "RANCHO LA TUNA CANYON        1\n",
      "SEPULVEDA                    1\n",
      "ARLETA                       1\n",
      "SANTA MONICA                 1\n",
      "Name: count, dtype: int64\n"
     ]
    }
   ],
   "source": [
    "#Finding the unique values of property_city\n",
    "\n",
    "unique_property_cities = LA_foreclosures_2015_to_2022['property_city'].unique()\n",
    "number_unique_property_cities = LA_foreclosures_2015_to_2022['property_city'].value_counts()\n",
    "\n",
    "# Display the unique values\n",
    "print(\"Unique values in the 'property_city' column:\")\n",
    "print(unique_property_cities)\n",
    "\n",
    "# Display the number of unique values\n",
    "print(\"Number of unique values in the 'property_city' column:\")\n",
    "print(number_unique_property_cities)"
   ]
  },
  {
   "cell_type": "code",
   "execution_count": 64,
   "id": "e751eace",
   "metadata": {
    "scrolled": true
   },
   "outputs": [
    {
     "name": "stdout",
     "output_type": "stream",
     "text": [
      "Information on rows where 'property_city' value is 'BAD APN':\n",
      "              apn         registered_date  property_type   property_address  \\\n",
      "1282   6036021011              03/11/2015  Single Family   8942 S WILTON PL   \n",
      "4458   2651008079              13/07/2015  Single Family  9229 N TOBIAS AVE   \n",
      "14669  6036021011              01/08/2016  Single Family   8942 S WILTON PL   \n",
      "16539  5109008054              01/02/2017   Multi-Family      237 E 51ST ST   \n",
      "16783  5109008054              01/01/2018   Multi-Family      237 E 51ST ST   \n",
      "19718  5109008054              07/19/2019   Multi-Family      237 E 51ST ST   \n",
      "20058  5109008054              01/01/2019   Multi-Family      237 E 51ST ST   \n",
      "23870  5109008054              01/20/2020   Multi-Family      237 E 51ST ST   \n",
      "26208  5109008054  01/04/2021 12:00:00 AM   Multi-Family      237 E 51ST ST   \n",
      "\n",
      "      property_city property_state  property_zip  council_district  \\\n",
      "1282        BAD APN             CA         90047                 8   \n",
      "4458        BAD APN             CA         91402                 6   \n",
      "14669       BAD APN             CA         90047                 8   \n",
      "16539       BAD APN             CA         99999                 9   \n",
      "16783       BAD APN             CA         99999                 9   \n",
      "19718       BAD APN             CA         99999                 9   \n",
      "20058       BAD APN             CA         99999                 9   \n",
      "23870       BAD APN             CA         99999                 9   \n",
      "26208       BAD APN             CA         99999                 9   \n",
      "\n",
      "                           lender              lender_contact  \\\n",
      "1282                    PENNY MAC      Property Preserevation   \n",
      "4458          NATIONSTAR MORTGAGE                 Dawn Campos   \n",
      "14669                   PENNY MAC      Property Preserevation   \n",
      "16539                    CITIBANK                       NA NA   \n",
      "16783                    CITIBANK                Edward Zubia   \n",
      "19718  SELECT PORTFOLIO SERVICING  Select Portfolio Servicing   \n",
      "20058                    CITIBANK                     N/A N/A   \n",
      "23870  SELECT PORTFOLIO SERVICING  Select Portfolio Servicing   \n",
      "26208  SELECT PORTFOLIO SERVICING  Select Portfolio Servicing   \n",
      "\n",
      "                 property_management   longitude   latitude  year  \\\n",
      "1282         Assurant Field Services -118.314468  33.955563  2015   \n",
      "4458   NEW BEGINNING PROPERTIES, INC -118.451646  34.238065  2015   \n",
      "14669        Assurant Field Services -118.314466  33.955034  2016   \n",
      "16539                   Edward Zubia -118.270410  33.996660  2017   \n",
      "16783                   Edward Zubia -118.270423  33.996528  2018   \n",
      "19718                   Edward Zubia -118.270410  33.996660  2019   \n",
      "20058                   Edward Zubia -118.270410  33.996660  2019   \n",
      "23870                   Edward Zubia -118.270410  33.996660  2020   \n",
      "26208                   Edward Zubia -118.270410  33.996660  2021   \n",
      "\n",
      "       distance_to_la_city_center  \n",
      "1282                    12.570675  \n",
      "4458                    28.166383  \n",
      "14669                   12.620909  \n",
      "16539                    6.648255  \n",
      "16783                    6.662336  \n",
      "19718                    6.648255  \n",
      "20058                    6.648255  \n",
      "23870                    6.648255  \n",
      "26208                    6.648255  \n"
     ]
    }
   ],
   "source": [
    "#Show rows the info on the rows with 'bad APN' and 'old APN'\n",
    "\n",
    "# Filter rows where 'property_city' value is 'BAD APN'\n",
    "bad_apn_rows = LA_foreclosures_2015_to_2022[LA_foreclosures_2015_to_2022['property_city'] == 'BAD APN']\n",
    "\n",
    "# Display the information on the filtered rows\n",
    "print(\"Information on rows where 'property_city' value is 'BAD APN':\")\n",
    "print(bad_apn_rows)"
   ]
  },
  {
   "cell_type": "code",
   "execution_count": 65,
   "id": "3054a51e",
   "metadata": {
    "scrolled": true
   },
   "outputs": [
    {
     "name": "stdout",
     "output_type": "stream",
     "text": [
      "Information on rows where 'property_city' value is 'OLD APN':\n",
      "              apn         registered_date  property_type  \\\n",
      "7371   5081019014              09/04/2015  Single Family   \n",
      "9615   5081019014              01/04/2016  Single Family   \n",
      "15038  5081019014              01/03/2017  Single Family   \n",
      "16920  5081019014              01/01/2018  Single Family   \n",
      "21422  5081019014              08/07/2019  Single Family   \n",
      "22843  5081019014              01/16/2020  Single Family   \n",
      "28495  5081019014  04/14/2022 12:00:00 AM  Single Family   \n",
      "\n",
      "           property_address property_city property_state  property_zip  \\\n",
      "7371   1101 S ARLINGTON AVE       OLD APN             CA         99999   \n",
      "9615   1101 S ARLINGTON AVE       OLD APN             CA         99999   \n",
      "15038  1101 S ARLINGTON AVE       OLD APN             CA         99999   \n",
      "16920  1101 S ARLINGTON AVE       OLD APN             CA         99999   \n",
      "21422  1101 S ARLINGTON AVE       OLD APN             CA         99999   \n",
      "22843  1101 S ARLINGTON AVE       OLD APN             CA         99999   \n",
      "28495  1101 S ARLINGTON AVE       OLD APN             CA         99999   \n",
      "\n",
      "       council_district                      lender  \\\n",
      "7371                 10                   U.S. BANK   \n",
      "9615                 10                   U.S. BANK   \n",
      "15038                10                   U.S. BANK   \n",
      "16920                10                   U.S. BANK   \n",
      "21422                10  SELECT PORTFOLIO SERVICING   \n",
      "22843                10  SELECT PORTFOLIO SERVICING   \n",
      "28495                10  SELECT PORTFOLIO SERVICING   \n",
      "\n",
      "                   lender_contact   property_management   longitude  \\\n",
      "7371                        NA NA  Safeguard Properties  -86.063900   \n",
      "9615                      N/A N/A  Safeguard Properties  -94.464229   \n",
      "15038                       NA NA          Edward Zubia -118.317670   \n",
      "16920                       NA NA          Edward Zubia  -92.136054   \n",
      "21422  Select Portfolio Servicing          Edward Zubia -118.317670   \n",
      "22843  Select Portfolio Servicing          Edward Zubia -118.317670   \n",
      "28495  Select Portfolio Servicing          Edward Zubia -118.317670   \n",
      "\n",
      "        latitude  year  distance_to_la_city_center  \n",
      "7371   39.753010  2015                 2914.119220  \n",
      "9615   39.096753  2016                 2189.262007  \n",
      "15038  34.049650  2017                    6.820713  \n",
      "16920  46.788298  2018                 2605.808539  \n",
      "21422  34.049650  2019                    6.820713  \n",
      "22843  34.049650  2020                    6.820713  \n",
      "28495  34.049650  2022                    6.820713  \n"
     ]
    }
   ],
   "source": [
    "# Filter rows where 'property_city' value is 'OLD APN'\n",
    "old_apn_rows = LA_foreclosures_2015_to_2022[LA_foreclosures_2015_to_2022['property_city'] == 'OLD APN']\n",
    "\n",
    "# Display the information on the filtered rows\n",
    "print(\"Information on rows where 'property_city' value is 'OLD APN':\")\n",
    "print(old_apn_rows)"
   ]
  },
  {
   "cell_type": "code",
   "execution_count": 66,
   "id": "5059eedd",
   "metadata": {
    "scrolled": true
   },
   "outputs": [
    {
     "name": "stdout",
     "output_type": "stream",
     "text": [
      "              apn         registered_date  property_type  \\\n",
      "311    6083008010              01/12/2015   Multi-Family   \n",
      "331    2164023003              22/01/2015  Single Family   \n",
      "332    5143012013              22/04/2015  Single Family   \n",
      "333    4106029005              15/07/2015  Single Family   \n",
      "334    2138005033              24/08/2015  Single Family   \n",
      "...           ...                     ...            ...   \n",
      "29753  2116008035  12/21/2022 12:00:00 AM  Single Family   \n",
      "29754  2733011004  09/27/2022 12:00:00 AM  Single Family   \n",
      "29755  4119020006  06/07/2022 12:00:00 AM  Single Family   \n",
      "29756  7351025018  08/05/2022 12:00:00 AM  Single Family   \n",
      "29757  2620020002  11/03/2022 12:00:00 AM  Single Family   \n",
      "\n",
      "           property_address property_city property_state  property_zip  \\\n",
      "311          346 E 116TH ST   LOS ANGELES             CA         90061   \n",
      "331      19531 W COLLIER ST   LOS ANGELES             CA         91356   \n",
      "332      1329 W LINWOOD AVE   LOS ANGELES             CA         90017   \n",
      "333       7870 S BOEING AVE   LOS ANGELES             CA         90045   \n",
      "334     6941 OWENSMOUTH AVE   CANOGA PARK             CA         91303   \n",
      "...                     ...           ...            ...           ...   \n",
      "29753  7753 N BOTHWELL ROAD   LOS ANGELES             CA         91335   \n",
      "29754  10513 N SHOSHONE AVE   LOS ANGELES             CA         91344   \n",
      "29755        7436 W 88TH PL   LOS ANGELES             CA         90045   \n",
      "29756    20836 S DENKER AVE   LOS ANGELES             CA         90501   \n",
      "29757    10339 N CAYUGA AVE   LOS ANGELES             CA         91331   \n",
      "\n",
      "       council_district                      lender   lender_contact  \\\n",
      "311                  15            WELLS FARGO BANK    Jonathon Holt   \n",
      "331                   3             JP MORGAN CHASE         Amy Lott   \n",
      "332                   1               DEUTSCHE BANK     Leon Oransky   \n",
      "333                  11             BANK OF AMERICA   VPR Department   \n",
      "334                   3  SELECT PORTFOLIO SERVICING  Code Violations   \n",
      "...                 ...                         ...              ...   \n",
      "29753                 3                    LOANCARE       Eric MOORE   \n",
      "29754                12                    LOANCARE       Eric MOORE   \n",
      "29755                11                  CENLAR FSB       Eric Moore   \n",
      "29756                15         PLANET HOME LENDING    Alyssa Guzman   \n",
      "29757                 7            WELLS FARGO BANK   Brock Nekvinda   \n",
      "\n",
      "                   property_management   longitude   latitude  year  \\\n",
      "311                                LPS -118.267830  33.929188  2015   \n",
      "331                                MCS -118.558790  34.166635  2015   \n",
      "332        US Best Repair Service, Inc -118.268789  34.051050  2015   \n",
      "333                       EDWARD ZUBIA -118.387358  33.966885  2015   \n",
      "334                                MCS -118.601545  34.196811  2015   \n",
      "...                                ...         ...        ...   ...   \n",
      "29753                        Safeguard -118.561370  34.211720  2022   \n",
      "29754                        Safeguard -118.517800  34.261570  2022   \n",
      "29755      Safeguard - Code Compliance -118.425370  33.956490  2022   \n",
      "29756  Gary's Field Inspection Service -118.303770  33.840820  2022   \n",
      "29757               WELL FARGO BANK NA -118.421570  34.258210  2022   \n",
      "\n",
      "       distance_to_la_city_center  \n",
      "311                     13.858041  \n",
      "331                     31.677087  \n",
      "332                      2.314952  \n",
      "333                     16.289111  \n",
      "334                     36.654745  \n",
      "...                           ...  \n",
      "29753                   34.198443  \n",
      "29754                   34.323468  \n",
      "29755                   19.841929  \n",
      "29756                   24.148683  \n",
      "29757                   28.153456  \n",
      "\n",
      "[28954 rows x 15 columns]\n"
     ]
    }
   ],
   "source": [
    "#Renaming a few  cities\n",
    "\n",
    "# Define a dictionary mapping old values to new values\n",
    "city_renaming = {'L.A.': 'Los Angeles',\n",
    "                'LA': 'Los Angeles',\n",
    "                '# 1 LOS ANGELES': 'Los Angeles',\n",
    "                'LOS SNGELES': 'Los Angeles'}\n",
    "\n",
    "# Replace values in the 'property_city' column\n",
    "LA_foreclosures_2015_to_2022['property_city'] = LA_foreclosures_2015_to_2022['property_city'].replace(city_renaming)\n",
    "\n",
    "# Display the DataFrame after modification\n",
    "print(LA_foreclosures_2015_to_2022)\n"
   ]
  },
  {
   "cell_type": "code",
   "execution_count": 67,
   "id": "56e2b1f0",
   "metadata": {},
   "outputs": [
    {
     "name": "stdout",
     "output_type": "stream",
     "text": [
      "property_city\n",
      "LOS ANGELES              26983\n",
      "VAN NUYS                   600\n",
      "SAN PEDRO                  438\n",
      "HOLLYWOOD                  284\n",
      "NORTH HOLLYWOOD            102\n",
      "VENICE                      64\n",
      "SYLMAR                      48\n",
      "TARZANA                     42\n",
      "WOODLAND HILLS              41\n",
      "WILMINGTON                  41\n",
      "CANOGA PARK                 35\n",
      "ENCINO                      24\n",
      "PACOIMA                     23\n",
      "RESEDA                      22\n",
      "CHATSWORTH                  18\n",
      "TORRANCE                    17\n",
      "Los Angeles                 13\n",
      "NORTHRIDGE                  12\n",
      "WESTCHESTER                 12\n",
      "HARBOR CITY                 11\n",
      "SHERMAN OAKS                 9\n",
      "BURBANK                      9\n",
      "STUDIO CITY                  9\n",
      "BAD APN                      9\n",
      "PANORAMA CITY                8\n",
      "PLAYA DEL REY                7\n",
      "WINNETKA                     7\n",
      "MARINA DEL REY               7\n",
      "SUN VALLEY                   7\n",
      "OLD APN                      7\n",
      "BEVERLY HILLS                6\n",
      "VALLEY VILLAGE               6\n",
      "TUJUNGA                      6\n",
      "LOMITA                       5\n",
      "NORTH HILLS                  5\n",
      "SAN FERNANDO                 4\n",
      "PACIFIC PALISADES            2\n",
      "SUNLAND                      2\n",
      "MISSION HILLS                2\n",
      "GARDENA                      2\n",
      "RANCHO LA TUNA CANYON        1\n",
      "LAKE VIEW TERRACE            1\n",
      "SEPULVEDA                    1\n",
      "ARLETA                       1\n",
      "SANTA MONICA                 1\n",
      "Name: count, dtype: int64\n"
     ]
    }
   ],
   "source": [
    "#checking if everything worked\n",
    "\n",
    "print(LA_foreclosures_2015_to_2022['property_city'].value_counts())"
   ]
  },
  {
   "cell_type": "code",
   "execution_count": 68,
   "id": "3ba93df7",
   "metadata": {
    "scrolled": true
   },
   "outputs": [
    {
     "name": "stdout",
     "output_type": "stream",
     "text": [
      "311      Los Angeles\n",
      "331      Los Angeles\n",
      "332      Los Angeles\n",
      "333      Los Angeles\n",
      "334      Canoga Park\n",
      "            ...     \n",
      "29753    Los Angeles\n",
      "29754    Los Angeles\n",
      "29755    Los Angeles\n",
      "29756    Los Angeles\n",
      "29757    Los Angeles\n",
      "Name: property_city, Length: 28954, dtype: object\n"
     ]
    }
   ],
   "source": [
    "#making things Title case\n",
    "\n",
    "LA_foreclosures_2015_to_2022['property_city'] = LA_foreclosures_2015_to_2022['property_city'].str.title()\n",
    "\n",
    "# Display the DataFrame after modification\n",
    "print(LA_foreclosures_2015_to_2022['property_city'])\n",
    "\n"
   ]
  },
  {
   "cell_type": "code",
   "execution_count": 69,
   "id": "518e63ae",
   "metadata": {},
   "outputs": [
    {
     "name": "stdout",
     "output_type": "stream",
     "text": [
      "<class 'pandas.core.series.Series'>\n",
      "Index: 28954 entries, 311 to 29757\n",
      "Series name: property_zip\n",
      "Non-Null Count  Dtype\n",
      "--------------  -----\n",
      "28954 non-null  int64\n",
      "dtypes: int64(1)\n",
      "memory usage: 452.4 KB\n"
     ]
    }
   ],
   "source": [
    "LA_foreclosures_2015_to_2022['property_zip'].info()"
   ]
  },
  {
   "cell_type": "code",
   "execution_count": 70,
   "id": "e900a46d",
   "metadata": {},
   "outputs": [
    {
     "name": "stdout",
     "output_type": "stream",
     "text": [
      "Number of rows with zip code 99999: 39\n"
     ]
    }
   ],
   "source": [
    "#Weird fix but looking at Tableau, I noticed there were a few coordinates that were pinned somewhere in the midwest. \n",
    "#so I want to see which zips are labeled 99999 as shown in the map\n",
    "\n",
    "# Count the number of rows where the zip code is 99999\n",
    "num_rows_with_99999_zip = (LA_foreclosures_2015_to_2022['property_zip'] == 99999).sum()\n",
    "\n",
    "# Print the number of rows with zip code 99999\n",
    "print(\"Number of rows with zip code 99999:\", num_rows_with_99999_zip)\n",
    "\n"
   ]
  },
  {
   "cell_type": "code",
   "execution_count": 71,
   "id": "44308560",
   "metadata": {},
   "outputs": [],
   "source": [
    "#drop the rows with 99999 as the zip code\n",
    "LA_foreclosures_2015_to_2022.drop(LA_foreclosures_2015_to_2022[LA_foreclosures_2015_to_2022['property_zip'] == 99999].index, inplace=True)"
   ]
  },
  {
   "cell_type": "code",
   "execution_count": 72,
   "id": "cb07b9ab",
   "metadata": {},
   "outputs": [
    {
     "name": "stdout",
     "output_type": "stream",
     "text": [
      "Unique values in the 'property_type' column:\n",
      "['Multi-Family' 'Single Family' 'Non-Residential' 'Vacant Residential']\n"
     ]
    }
   ],
   "source": [
    "#Finding the unique values of property_type\n",
    "\n",
    "unique_property_types = LA_foreclosures_2015_to_2022['property_type'].unique()\n",
    "\n",
    "# Display the unique values\n",
    "print(\"Unique values in the 'property_type' column:\")\n",
    "print(unique_property_types)"
   ]
  },
  {
   "cell_type": "code",
   "execution_count": 73,
   "id": "d27cfe8f",
   "metadata": {},
   "outputs": [],
   "source": [
    "#Dropping bad APN rows\n",
    "\n",
    "LA_foreclosures_2015_to_2022.drop(LA_foreclosures_2015_to_2022[LA_foreclosures_2015_to_2022['property_city'] == 'BAD APN'].index, inplace=True)"
   ]
  },
  {
   "cell_type": "code",
   "execution_count": 74,
   "id": "299dac77",
   "metadata": {},
   "outputs": [],
   "source": [
    "#dropping old apn rows\n",
    "\n",
    "LA_foreclosures_2015_to_2022.drop(LA_foreclosures_2015_to_2022[LA_foreclosures_2015_to_2022['property_city'] == 'OLD APN'].index, inplace=True)"
   ]
  },
  {
   "cell_type": "code",
   "execution_count": 75,
   "id": "a86f4951",
   "metadata": {},
   "outputs": [
    {
     "data": {
      "text/html": [
       "<a href='LA_foreclosures_2015_to_2022.csv' target='_blank'>LA_foreclosures_2015_to_2022.csv</a><br>"
      ],
      "text/plain": [
       "/Users/jilliangraham/Documents/GitHub/Jill_quests_IH/AirB&E/LA_foreclosures_2015_to_2022.csv"
      ]
     },
     "execution_count": 75,
     "metadata": {},
     "output_type": "execute_result"
    }
   ],
   "source": [
    "LA_foreclosures_2015_to_2022.to_csv('LA_foreclosures_2015_to_2022.csv', index=False)\n",
    "\n",
    "# Display the download link\n",
    "FileLink('LA_foreclosures_2015_to_2022.csv')"
   ]
  },
  {
   "cell_type": "markdown",
   "id": "ec4c5217",
   "metadata": {},
   "source": [
    "# Finding some descriptive stats"
   ]
  },
  {
   "cell_type": "markdown",
   "id": "6b4d256a",
   "metadata": {},
   "source": [
    "## Finding unique values"
   ]
  },
  {
   "cell_type": "code",
   "execution_count": 76,
   "id": "5f7417c1",
   "metadata": {},
   "outputs": [
    {
     "data": {
      "text/plain": [
       "array([2015, 2016, 2017, 2018, 2019, 2020, 2021, 2022])"
      ]
     },
     "execution_count": 76,
     "metadata": {},
     "output_type": "execute_result"
    }
   ],
   "source": [
    "LA_foreclosures_2015_to_2022['year'].unique()"
   ]
  },
  {
   "cell_type": "code",
   "execution_count": 77,
   "id": "a55eb15c",
   "metadata": {},
   "outputs": [
    {
     "name": "stdout",
     "output_type": "stream",
     "text": [
      "Property type value counts:\n",
      "property_type\n",
      "Single Family         24275\n",
      "Multi-Family           4292\n",
      "Non-Residential         222\n",
      "Vacant Residential      126\n",
      "Name: count, dtype: int64\n",
      "\n",
      "The most common foreclosed property type is: Single Family\n"
     ]
    }
   ],
   "source": [
    "#finding the most common foreclosed property type\n",
    "\n",
    "property_type_counts = LA_foreclosures_2015_to_2022['property_type'].value_counts()\n",
    "\n",
    "print(\"Property type value counts:\")\n",
    "print(property_type_counts)\n",
    "\n",
    "most_common_property_type = property_type_counts.idxmax()\n",
    "\n",
    "print(\"\\nThe most common foreclosed property type is:\", most_common_property_type)\n",
    "\n"
   ]
  },
  {
   "cell_type": "code",
   "execution_count": 78,
   "id": "17a48243",
   "metadata": {},
   "outputs": [],
   "source": [
    "#finding the most common council district\n",
    "\n",
    "most_common_district = LA_foreclosures_2015_to_2022['council_district'].value_counts().idxmax()"
   ]
  },
  {
   "cell_type": "markdown",
   "id": "6aaa14c7",
   "metadata": {},
   "source": [
    "# Visualizing the data"
   ]
  },
  {
   "cell_type": "code",
   "execution_count": 79,
   "id": "0b0f00f5",
   "metadata": {},
   "outputs": [
    {
     "data": {
      "text/html": [
       "<div>\n",
       "<style scoped>\n",
       "    .dataframe tbody tr th:only-of-type {\n",
       "        vertical-align: middle;\n",
       "    }\n",
       "\n",
       "    .dataframe tbody tr th {\n",
       "        vertical-align: top;\n",
       "    }\n",
       "\n",
       "    .dataframe thead th {\n",
       "        text-align: right;\n",
       "    }\n",
       "</style>\n",
       "<table border=\"1\" class=\"dataframe\">\n",
       "  <thead>\n",
       "    <tr style=\"text-align: right;\">\n",
       "      <th></th>\n",
       "      <th>apn</th>\n",
       "      <th>registered_date</th>\n",
       "      <th>property_type</th>\n",
       "      <th>property_address</th>\n",
       "      <th>property_city</th>\n",
       "      <th>property_state</th>\n",
       "      <th>property_zip</th>\n",
       "      <th>council_district</th>\n",
       "      <th>lender</th>\n",
       "      <th>lender_contact</th>\n",
       "      <th>property_management</th>\n",
       "      <th>longitude</th>\n",
       "      <th>latitude</th>\n",
       "      <th>year</th>\n",
       "      <th>distance_to_la_city_center</th>\n",
       "    </tr>\n",
       "  </thead>\n",
       "  <tbody>\n",
       "    <tr>\n",
       "      <th>311</th>\n",
       "      <td>6083008010</td>\n",
       "      <td>01/12/2015</td>\n",
       "      <td>Multi-Family</td>\n",
       "      <td>346 E 116TH ST</td>\n",
       "      <td>Los Angeles</td>\n",
       "      <td>CA</td>\n",
       "      <td>90061</td>\n",
       "      <td>15</td>\n",
       "      <td>WELLS FARGO BANK</td>\n",
       "      <td>Jonathon Holt</td>\n",
       "      <td>LPS</td>\n",
       "      <td>-118.267830</td>\n",
       "      <td>33.929188</td>\n",
       "      <td>2015</td>\n",
       "      <td>13.858041</td>\n",
       "    </tr>\n",
       "    <tr>\n",
       "      <th>331</th>\n",
       "      <td>2164023003</td>\n",
       "      <td>22/01/2015</td>\n",
       "      <td>Single Family</td>\n",
       "      <td>19531 W COLLIER ST</td>\n",
       "      <td>Los Angeles</td>\n",
       "      <td>CA</td>\n",
       "      <td>91356</td>\n",
       "      <td>3</td>\n",
       "      <td>JP MORGAN CHASE</td>\n",
       "      <td>Amy Lott</td>\n",
       "      <td>MCS</td>\n",
       "      <td>-118.558790</td>\n",
       "      <td>34.166635</td>\n",
       "      <td>2015</td>\n",
       "      <td>31.677087</td>\n",
       "    </tr>\n",
       "    <tr>\n",
       "      <th>332</th>\n",
       "      <td>5143012013</td>\n",
       "      <td>22/04/2015</td>\n",
       "      <td>Single Family</td>\n",
       "      <td>1329 W LINWOOD AVE</td>\n",
       "      <td>Los Angeles</td>\n",
       "      <td>CA</td>\n",
       "      <td>90017</td>\n",
       "      <td>1</td>\n",
       "      <td>DEUTSCHE BANK</td>\n",
       "      <td>Leon Oransky</td>\n",
       "      <td>US Best Repair Service, Inc</td>\n",
       "      <td>-118.268789</td>\n",
       "      <td>34.051050</td>\n",
       "      <td>2015</td>\n",
       "      <td>2.314952</td>\n",
       "    </tr>\n",
       "    <tr>\n",
       "      <th>333</th>\n",
       "      <td>4106029005</td>\n",
       "      <td>15/07/2015</td>\n",
       "      <td>Single Family</td>\n",
       "      <td>7870 S BOEING AVE</td>\n",
       "      <td>Los Angeles</td>\n",
       "      <td>CA</td>\n",
       "      <td>90045</td>\n",
       "      <td>11</td>\n",
       "      <td>BANK OF AMERICA</td>\n",
       "      <td>VPR Department</td>\n",
       "      <td>EDWARD ZUBIA</td>\n",
       "      <td>-118.387358</td>\n",
       "      <td>33.966885</td>\n",
       "      <td>2015</td>\n",
       "      <td>16.289111</td>\n",
       "    </tr>\n",
       "    <tr>\n",
       "      <th>334</th>\n",
       "      <td>2138005033</td>\n",
       "      <td>24/08/2015</td>\n",
       "      <td>Single Family</td>\n",
       "      <td>6941 OWENSMOUTH AVE</td>\n",
       "      <td>Canoga Park</td>\n",
       "      <td>CA</td>\n",
       "      <td>91303</td>\n",
       "      <td>3</td>\n",
       "      <td>SELECT PORTFOLIO SERVICING</td>\n",
       "      <td>Code Violations</td>\n",
       "      <td>MCS</td>\n",
       "      <td>-118.601545</td>\n",
       "      <td>34.196811</td>\n",
       "      <td>2015</td>\n",
       "      <td>36.654745</td>\n",
       "    </tr>\n",
       "    <tr>\n",
       "      <th>...</th>\n",
       "      <td>...</td>\n",
       "      <td>...</td>\n",
       "      <td>...</td>\n",
       "      <td>...</td>\n",
       "      <td>...</td>\n",
       "      <td>...</td>\n",
       "      <td>...</td>\n",
       "      <td>...</td>\n",
       "      <td>...</td>\n",
       "      <td>...</td>\n",
       "      <td>...</td>\n",
       "      <td>...</td>\n",
       "      <td>...</td>\n",
       "      <td>...</td>\n",
       "      <td>...</td>\n",
       "    </tr>\n",
       "    <tr>\n",
       "      <th>29753</th>\n",
       "      <td>2116008035</td>\n",
       "      <td>12/21/2022 12:00:00 AM</td>\n",
       "      <td>Single Family</td>\n",
       "      <td>7753 N BOTHWELL ROAD</td>\n",
       "      <td>Los Angeles</td>\n",
       "      <td>CA</td>\n",
       "      <td>91335</td>\n",
       "      <td>3</td>\n",
       "      <td>LOANCARE</td>\n",
       "      <td>Eric MOORE</td>\n",
       "      <td>Safeguard</td>\n",
       "      <td>-118.561370</td>\n",
       "      <td>34.211720</td>\n",
       "      <td>2022</td>\n",
       "      <td>34.198443</td>\n",
       "    </tr>\n",
       "    <tr>\n",
       "      <th>29754</th>\n",
       "      <td>2733011004</td>\n",
       "      <td>09/27/2022 12:00:00 AM</td>\n",
       "      <td>Single Family</td>\n",
       "      <td>10513 N SHOSHONE AVE</td>\n",
       "      <td>Los Angeles</td>\n",
       "      <td>CA</td>\n",
       "      <td>91344</td>\n",
       "      <td>12</td>\n",
       "      <td>LOANCARE</td>\n",
       "      <td>Eric MOORE</td>\n",
       "      <td>Safeguard</td>\n",
       "      <td>-118.517800</td>\n",
       "      <td>34.261570</td>\n",
       "      <td>2022</td>\n",
       "      <td>34.323468</td>\n",
       "    </tr>\n",
       "    <tr>\n",
       "      <th>29755</th>\n",
       "      <td>4119020006</td>\n",
       "      <td>06/07/2022 12:00:00 AM</td>\n",
       "      <td>Single Family</td>\n",
       "      <td>7436 W 88TH PL</td>\n",
       "      <td>Los Angeles</td>\n",
       "      <td>CA</td>\n",
       "      <td>90045</td>\n",
       "      <td>11</td>\n",
       "      <td>CENLAR FSB</td>\n",
       "      <td>Eric Moore</td>\n",
       "      <td>Safeguard - Code Compliance</td>\n",
       "      <td>-118.425370</td>\n",
       "      <td>33.956490</td>\n",
       "      <td>2022</td>\n",
       "      <td>19.841929</td>\n",
       "    </tr>\n",
       "    <tr>\n",
       "      <th>29756</th>\n",
       "      <td>7351025018</td>\n",
       "      <td>08/05/2022 12:00:00 AM</td>\n",
       "      <td>Single Family</td>\n",
       "      <td>20836 S DENKER AVE</td>\n",
       "      <td>Los Angeles</td>\n",
       "      <td>CA</td>\n",
       "      <td>90501</td>\n",
       "      <td>15</td>\n",
       "      <td>PLANET HOME LENDING</td>\n",
       "      <td>Alyssa Guzman</td>\n",
       "      <td>Gary's Field Inspection Service</td>\n",
       "      <td>-118.303770</td>\n",
       "      <td>33.840820</td>\n",
       "      <td>2022</td>\n",
       "      <td>24.148683</td>\n",
       "    </tr>\n",
       "    <tr>\n",
       "      <th>29757</th>\n",
       "      <td>2620020002</td>\n",
       "      <td>11/03/2022 12:00:00 AM</td>\n",
       "      <td>Single Family</td>\n",
       "      <td>10339 N CAYUGA AVE</td>\n",
       "      <td>Los Angeles</td>\n",
       "      <td>CA</td>\n",
       "      <td>91331</td>\n",
       "      <td>7</td>\n",
       "      <td>WELLS FARGO BANK</td>\n",
       "      <td>Brock Nekvinda</td>\n",
       "      <td>WELL FARGO BANK NA</td>\n",
       "      <td>-118.421570</td>\n",
       "      <td>34.258210</td>\n",
       "      <td>2022</td>\n",
       "      <td>28.153456</td>\n",
       "    </tr>\n",
       "  </tbody>\n",
       "</table>\n",
       "<p>28915 rows × 15 columns</p>\n",
       "</div>"
      ],
      "text/plain": [
       "              apn         registered_date  property_type  \\\n",
       "311    6083008010              01/12/2015   Multi-Family   \n",
       "331    2164023003              22/01/2015  Single Family   \n",
       "332    5143012013              22/04/2015  Single Family   \n",
       "333    4106029005              15/07/2015  Single Family   \n",
       "334    2138005033              24/08/2015  Single Family   \n",
       "...           ...                     ...            ...   \n",
       "29753  2116008035  12/21/2022 12:00:00 AM  Single Family   \n",
       "29754  2733011004  09/27/2022 12:00:00 AM  Single Family   \n",
       "29755  4119020006  06/07/2022 12:00:00 AM  Single Family   \n",
       "29756  7351025018  08/05/2022 12:00:00 AM  Single Family   \n",
       "29757  2620020002  11/03/2022 12:00:00 AM  Single Family   \n",
       "\n",
       "           property_address property_city property_state  property_zip  \\\n",
       "311          346 E 116TH ST   Los Angeles             CA         90061   \n",
       "331      19531 W COLLIER ST   Los Angeles             CA         91356   \n",
       "332      1329 W LINWOOD AVE   Los Angeles             CA         90017   \n",
       "333       7870 S BOEING AVE   Los Angeles             CA         90045   \n",
       "334     6941 OWENSMOUTH AVE   Canoga Park             CA         91303   \n",
       "...                     ...           ...            ...           ...   \n",
       "29753  7753 N BOTHWELL ROAD   Los Angeles             CA         91335   \n",
       "29754  10513 N SHOSHONE AVE   Los Angeles             CA         91344   \n",
       "29755        7436 W 88TH PL   Los Angeles             CA         90045   \n",
       "29756    20836 S DENKER AVE   Los Angeles             CA         90501   \n",
       "29757    10339 N CAYUGA AVE   Los Angeles             CA         91331   \n",
       "\n",
       "       council_district                      lender   lender_contact  \\\n",
       "311                  15            WELLS FARGO BANK    Jonathon Holt   \n",
       "331                   3             JP MORGAN CHASE         Amy Lott   \n",
       "332                   1               DEUTSCHE BANK     Leon Oransky   \n",
       "333                  11             BANK OF AMERICA   VPR Department   \n",
       "334                   3  SELECT PORTFOLIO SERVICING  Code Violations   \n",
       "...                 ...                         ...              ...   \n",
       "29753                 3                    LOANCARE       Eric MOORE   \n",
       "29754                12                    LOANCARE       Eric MOORE   \n",
       "29755                11                  CENLAR FSB       Eric Moore   \n",
       "29756                15         PLANET HOME LENDING    Alyssa Guzman   \n",
       "29757                 7            WELLS FARGO BANK   Brock Nekvinda   \n",
       "\n",
       "                   property_management   longitude   latitude  year  \\\n",
       "311                                LPS -118.267830  33.929188  2015   \n",
       "331                                MCS -118.558790  34.166635  2015   \n",
       "332        US Best Repair Service, Inc -118.268789  34.051050  2015   \n",
       "333                       EDWARD ZUBIA -118.387358  33.966885  2015   \n",
       "334                                MCS -118.601545  34.196811  2015   \n",
       "...                                ...         ...        ...   ...   \n",
       "29753                        Safeguard -118.561370  34.211720  2022   \n",
       "29754                        Safeguard -118.517800  34.261570  2022   \n",
       "29755      Safeguard - Code Compliance -118.425370  33.956490  2022   \n",
       "29756  Gary's Field Inspection Service -118.303770  33.840820  2022   \n",
       "29757               WELL FARGO BANK NA -118.421570  34.258210  2022   \n",
       "\n",
       "       distance_to_la_city_center  \n",
       "311                     13.858041  \n",
       "331                     31.677087  \n",
       "332                      2.314952  \n",
       "333                     16.289111  \n",
       "334                     36.654745  \n",
       "...                           ...  \n",
       "29753                   34.198443  \n",
       "29754                   34.323468  \n",
       "29755                   19.841929  \n",
       "29756                   24.148683  \n",
       "29757                   28.153456  \n",
       "\n",
       "[28915 rows x 15 columns]"
      ]
     },
     "execution_count": 79,
     "metadata": {},
     "output_type": "execute_result"
    }
   ],
   "source": [
    "LA_foreclosures_2015_to_2022"
   ]
  }
 ],
 "metadata": {
  "kernelspec": {
   "display_name": "Python 3 (ipykernel)",
   "language": "python",
   "name": "python3"
  },
  "language_info": {
   "codemirror_mode": {
    "name": "ipython",
    "version": 3
   },
   "file_extension": ".py",
   "mimetype": "text/x-python",
   "name": "python",
   "nbconvert_exporter": "python",
   "pygments_lexer": "ipython3",
   "version": "3.11.5"
  }
 },
 "nbformat": 4,
 "nbformat_minor": 5
}
