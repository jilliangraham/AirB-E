{
 "cells": [
  {
   "cell_type": "markdown",
   "id": "8a37e8bc-3003-4fb0-b298-856caf4503be",
   "metadata": {},
   "source": [
    "# Imports"
   ]
  },
  {
   "cell_type": "code",
   "execution_count": 76,
   "id": "9ab12b45-229c-4e6d-a772-bef526d90266",
   "metadata": {
    "scrolled": true,
    "tags": []
   },
   "outputs": [],
   "source": [
    "import pandas as pd\n",
    "import matplotlib.pyplot as plt\n",
    "import numpy as np\n",
    "from sklearn.model_selection import train_test_split\n",
    "from sklearn.preprocessing import StandardScaler\n",
    "from sklearn.linear_model import LinearRegression\n",
    "from sklearn.metrics import mean_squared_error, r2_score\n",
    "from sklearn.model_selection import cross_val_score\n",
    "from sklearn.neighbors import KNeighborsRegressor\n",
    "from sklearn.model_selection import cross_val_score\n",
    "from sklearn.tree import DecisionTreeRegressor\n",
    "from sklearn.model_selection import cross_val_score\n",
    "from sklearn.ensemble import RandomForestRegressor\n",
    "from sklearn.linear_model import Ridge\n",
    "from sklearn.linear_model import Lasso\n",
    "from sklearn.linear_model import LogisticRegression\n",
    "from sklearn.metrics import accuracy_score\n",
    "from sklearn.neighbors import KNeighborsClassifier\n",
    "from sklearn.tree import DecisionTreeClassifier\n",
    "from sklearn.ensemble import RandomForestClassifier\n",
    "from sklearn.ensemble import GradientBoostingClassifier\n",
    "from sklearn.svm import SVC\n",
    "from sklearn.neural_network import MLPClassifier\n",
    "from sklearn.metrics import confusion_matrix\n",
    "import seaborn as sns\n",
    "from imblearn.over_sampling import SMOTE"
   ]
  },
  {
   "cell_type": "code",
   "execution_count": 2,
   "id": "13dcc310",
   "metadata": {},
   "outputs": [
    {
     "name": "stdout",
     "output_type": "stream",
     "text": [
      "<class 'pandas.core.frame.DataFrame'>\n",
      "RangeIndex: 3143 entries, 0 to 3142\n",
      "Columns: 158 entries, ST to MP_OTHERRACE\n",
      "dtypes: float64(75), int64(79), object(4)\n",
      "memory usage: 3.8+ MB\n"
     ]
    }
   ],
   "source": [
    "SVI_import = 'SVI_2020_US_county.csv'\n",
    "\n",
    "squatify_df_SVI = pd.read_csv(SVI_import)\n",
    "\n",
    "squatify_df_SVI.info()"
   ]
  },
  {
   "cell_type": "code",
   "execution_count": 3,
   "id": "f7a9a575-dea7-43eb-b85b-9ac33f1058aa",
   "metadata": {
    "tags": []
   },
   "outputs": [
    {
     "name": "stdout",
     "output_type": "stream",
     "text": [
      "<class 'pandas.core.frame.DataFrame'>\n",
      "RangeIndex: 72617 entries, 0 to 72616\n",
      "Data columns (total 12 columns):\n",
      " #   Column          Non-Null Count  Dtype  \n",
      "---  ------          --------------  -----  \n",
      " 0   year            72617 non-null  int64  \n",
      " 1   state           72617 non-null  object \n",
      " 2   state_po        72617 non-null  object \n",
      " 3   county_name     72617 non-null  object \n",
      " 4   county_fips     72565 non-null  float64\n",
      " 5   office          72617 non-null  object \n",
      " 6   candidate       72617 non-null  object \n",
      " 7   party           72617 non-null  object \n",
      " 8   candidatevotes  72617 non-null  int64  \n",
      " 9   totalvotes      72617 non-null  int64  \n",
      " 10  version         72617 non-null  int64  \n",
      " 11  mode            72617 non-null  object \n",
      "dtypes: float64(1), int64(4), object(7)\n",
      "memory usage: 6.6+ MB\n"
     ]
    }
   ],
   "source": [
    "elections_import = 'countypres_2000-2020.csv'\n",
    "\n",
    "squatify_df_elections = pd.read_csv(elections_import)\n",
    "\n",
    "squatify_df_elections.info()"
   ]
  },
  {
   "cell_type": "markdown",
   "id": "38369a12",
   "metadata": {},
   "source": [
    "# Clean data"
   ]
  },
  {
   "cell_type": "markdown",
   "id": "53fae7d7",
   "metadata": {},
   "source": [
    "## Check for null values"
   ]
  },
  {
   "cell_type": "code",
   "execution_count": 4,
   "id": "93ec9ae9",
   "metadata": {},
   "outputs": [
    {
     "name": "stdout",
     "output_type": "stream",
     "text": [
      "ST              0\n",
      "STATE           0\n",
      "ST_ABBR         0\n",
      "STCNTY          0\n",
      "COUNTY          0\n",
      "FIPS            0\n",
      "LOCATION        0\n",
      "AREA_SQMI       0\n",
      "E_TOTPOP        0\n",
      "M_TOTPOP        0\n",
      "E_HU            0\n",
      "M_HU            0\n",
      "E_HH            0\n",
      "M_HH            0\n",
      "E_POV150        0\n",
      "M_POV150        0\n",
      "E_UNEMP         0\n",
      "M_UNEMP         0\n",
      "E_HBURD         0\n",
      "M_HBURD         0\n",
      "E_NOHSDP        0\n",
      "M_NOHSDP        0\n",
      "E_UNINSUR       0\n",
      "M_UNINSUR       0\n",
      "E_AGE65         0\n",
      "M_AGE65         0\n",
      "E_AGE17         0\n",
      "M_AGE17         0\n",
      "E_DISABL        0\n",
      "M_DISABL        0\n",
      "E_SNGPNT        0\n",
      "M_SNGPNT        0\n",
      "E_LIMENG        0\n",
      "M_LIMENG        0\n",
      "E_MINRTY        0\n",
      "M_MINRTY        0\n",
      "E_MUNIT         0\n",
      "M_MUNIT         0\n",
      "E_MOBILE        0\n",
      "M_MOBILE        0\n",
      "E_CROWD         0\n",
      "M_CROWD         0\n",
      "E_NOVEH         0\n",
      "M_NOVEH         0\n",
      "E_GROUPQ        0\n",
      "M_GROUPQ        0\n",
      "EP_POV150       0\n",
      "MP_POV150       0\n",
      "EP_UNEMP        0\n",
      "MP_UNEMP        0\n",
      "EP_HBURD        0\n",
      "MP_HBURD        0\n",
      "EP_NOHSDP       0\n",
      "MP_NOHSDP       0\n",
      "EP_UNINSUR      0\n",
      "MP_UNINSUR      0\n",
      "EP_AGE65        0\n",
      "MP_AGE65        0\n",
      "EP_AGE17        0\n",
      "MP_AGE17        0\n",
      "EP_DISABL       0\n",
      "MP_DISABL       0\n",
      "EP_SNGPNT       0\n",
      "MP_SNGPNT       0\n",
      "EP_LIMENG       0\n",
      "MP_LIMENG       0\n",
      "EP_MINRTY       0\n",
      "MP_MINRTY       0\n",
      "EP_MUNIT        0\n",
      "MP_MUNIT        0\n",
      "EP_MOBILE       0\n",
      "MP_MOBILE       0\n",
      "EP_CROWD        0\n",
      "MP_CROWD        0\n",
      "EP_NOVEH        0\n",
      "MP_NOVEH        0\n",
      "EP_GROUPQ       0\n",
      "MP_GROUPQ       0\n",
      "EPL_POV150      0\n",
      "EPL_UNEMP       0\n",
      "EPL_HBURD       0\n",
      "EPL_NOHSDP      0\n",
      "EPL_UNINSUR     0\n",
      "SPL_THEME1      0\n",
      "RPL_THEME1      0\n",
      "EPL_AGE65       0\n",
      "EPL_AGE17       0\n",
      "EPL_DISABL      0\n",
      "EPL_SNGPNT      0\n",
      "EPL_LIMENG      0\n",
      "SPL_THEME2      0\n",
      "RPL_THEME2      0\n",
      "EPL_MINRTY      0\n",
      "SPL_THEME3      0\n",
      "RPL_THEME3      0\n",
      "EPL_MUNIT       0\n",
      "EPL_MOBILE      0\n",
      "EPL_CROWD       0\n",
      "EPL_NOVEH       0\n",
      "EPL_GROUPQ      0\n",
      "SPL_THEME4      0\n",
      "RPL_THEME4      0\n",
      "SPL_THEMES      0\n",
      "RPL_THEMES      0\n",
      "F_POV150        0\n",
      "F_UNEMP         0\n",
      "F_HBURD         0\n",
      "F_NOHSDP        0\n",
      "F_UNINSUR       0\n",
      "F_THEME1        0\n",
      "F_AGE65         0\n",
      "F_AGE17         0\n",
      "F_DISABL        0\n",
      "F_SNGPNT        0\n",
      "F_LIMENG        0\n",
      "F_THEME2        0\n",
      "F_MINRTY        0\n",
      "F_THEME3        0\n",
      "F_MUNIT         0\n",
      "F_MOBILE        0\n",
      "F_CROWD         0\n",
      "F_NOVEH         0\n",
      "F_GROUPQ        0\n",
      "F_THEME4        0\n",
      "F_TOTAL         0\n",
      "E_DAYPOP        0\n",
      "E_NOINT         0\n",
      "M_NOINT         0\n",
      "E_AFAM          0\n",
      "M_AFAM          0\n",
      "E_HISP          0\n",
      "M_HISP          0\n",
      "E_ASIAN         0\n",
      "M_ASIAN         0\n",
      "E_AIAN          0\n",
      "M_AIAN          0\n",
      "E_NHPI          0\n",
      "M_NHPI          0\n",
      "E_TWOMORE       0\n",
      "M_TWOMORE       0\n",
      "E_OTHERRACE     0\n",
      "M_OTHERRACE     0\n",
      "EP_NOINT        0\n",
      "MP_NOINT        0\n",
      "EP_AFAM         0\n",
      "MP_AFAM         0\n",
      "EP_HISP         0\n",
      "MP_HISP         0\n",
      "EP_ASIAN        0\n",
      "MP_ASIAN        0\n",
      "EP_AIAN         0\n",
      "MP_AIAN         0\n",
      "EP_NHPI         0\n",
      "MP_NHPI         0\n",
      "EP_TWOMORE      0\n",
      "MP_TWOMORE      0\n",
      "EP_OTHERRACE    0\n",
      "MP_OTHERRACE    0\n",
      "dtype: int64\n"
     ]
    }
   ],
   "source": [
    "pd.set_option('display.max_columns', None)\n",
    "pd.set_option('display.max_rows', None)\n",
    "\n",
    "null_values_count = squatify_df_SVI.isnull().sum()\n",
    "print(null_values_count)"
   ]
  },
  {
   "cell_type": "code",
   "execution_count": 5,
   "id": "26eb27e4",
   "metadata": {},
   "outputs": [
    {
     "name": "stdout",
     "output_type": "stream",
     "text": [
      "year               0\n",
      "state              0\n",
      "state_po           0\n",
      "county_name        0\n",
      "county_fips       52\n",
      "office             0\n",
      "candidate          0\n",
      "party              0\n",
      "candidatevotes     0\n",
      "totalvotes         0\n",
      "version            0\n",
      "mode               0\n",
      "dtype: int64\n"
     ]
    }
   ],
   "source": [
    "pd.set_option('display.max_columns', None)\n",
    "pd.set_option('display.max_rows', None)\n",
    "\n",
    "null_values_count = squatify_df_elections.isnull().sum()\n",
    "print(null_values_count)"
   ]
  },
  {
   "cell_type": "markdown",
   "id": "cd2c5431",
   "metadata": {},
   "source": [
    "## Drop irrelevant columns"
   ]
  },
  {
   "cell_type": "code",
   "execution_count": 6,
   "id": "8f29dc0c",
   "metadata": {},
   "outputs": [
    {
     "data": {
      "text/plain": [
       "\"columns_to_keep_SVI = ['STATE', 'COUNTY', 'FIPS', 'AREA_SQMI', 'E_TOTPOP', 'E_HU', 'E_HH', 'E_POV150', \\n                       'E_UNEMP', 'E_HBURD', 'E_NOHSDP', 'E_UNINSUR', 'E_AGE65', 'E_AGE17', \\n                       'E_DISABL', 'E_SNGPNT', 'E_LIMENG', 'E_MINRTY', 'E_MUNIT', 'E_MOBILE', 'E_CROWD',\\n                       'E_NOVEH', 'E_DAYPOP', 'E_NOINT']\\n\\ncolumns_to_drop_SVI = [col for col in squatify_df_SVI.columns if col not in columns_to_keep_SVI]\\n\\nsquatify_df_SVI.drop(columns=columns_to_drop_SVI, inplace=True)\""
      ]
     },
     "execution_count": 6,
     "metadata": {},
     "output_type": "execute_result"
    }
   ],
   "source": [
    "\"\"\"columns_to_keep_SVI = ['STATE', 'COUNTY', 'FIPS', 'AREA_SQMI', 'E_TOTPOP', 'E_HU', 'E_HH', 'E_POV150', \n",
    "                       'E_UNEMP', 'E_HBURD', 'E_NOHSDP', 'E_UNINSUR', 'E_AGE65', 'E_AGE17', \n",
    "                       'E_DISABL', 'E_SNGPNT', 'E_LIMENG', 'E_MINRTY', 'E_MUNIT', 'E_MOBILE', 'E_CROWD',\n",
    "                       'E_NOVEH', 'E_DAYPOP', 'E_NOINT']\n",
    "\n",
    "columns_to_drop_SVI = [col for col in squatify_df_SVI.columns if col not in columns_to_keep_SVI]\n",
    "\n",
    "squatify_df_SVI.drop(columns=columns_to_drop_SVI, inplace=True)\"\"\""
   ]
  },
  {
   "cell_type": "markdown",
   "id": "fcd895c4",
   "metadata": {},
   "source": [
    "## Archive list of dropped columns for future reference"
   ]
  },
  {
   "cell_type": "code",
   "execution_count": 7,
   "id": "0e48bef0",
   "metadata": {},
   "outputs": [
    {
     "data": {
      "text/plain": [
       "\"squatify_df_SVI.drop(columns = [\\n    'ST', 'ST_ABBR', 'STCNTY', 'LOCATION'\\n    'M_TOTPOP', 'M_HU', 'M_HH', 'M_POV150', 'M_UNEMP', 'M_HBURD', 'M_NOHSDP', 'M_UNINSUR', 'M_AGE65', \\n    'M_AGE17', 'M_DISABL', 'M_SNGPNT', 'M_LIMENG', 'M_MINRTY', 'M_MUNIT', 'M_MOBILE', 'M_CROWD', \\n    'M_NOVEH', 'M_GROUPQ', 'MP_POV150', 'MP_UNEMP', 'MP_HBURD', 'MP_NOHSDP', 'MP_UNINSUR', 'MP_AGE65',\\n    'MP_AGE17', 'MP_DISABL', 'MP_SNGPNT', 'MP_MINRTY', 'MP_MUNIT', 'MP_MOBILE', 'MP_CROWD', 'MP_NOVEH',\\n    'MP_GROUPQ', 'M_NOINT', 'M_AFAM', 'M_HISP', 'M_ASIAN', 'M_AIAN', 'M_NHPI', 'M_TWOMORE', 'M_OTHERRACE',\\n    'MP_NOINT', 'MP_AFAM', 'MP_HISP', 'MP_ASIAN', 'MP_AIAN', 'MP_NHPI', 'MP_TWOMORE', 'MP_OTHERRACE'\\n    'E_POV150', 'E_UNEMP', 'E_HBURD', 'E_NOHSDP', 'E_UNINSUR', 'E_AGE65', 'E_AGE17', \\n    'E_DISABL', 'E_SNGPNT', 'E_LIMENG', 'E_MINRTY', 'E_MUNIT', 'E_MOBILE', 'E_CROWD',\\n    'E_NOVEH', 'E_DAYPOP', 'E_NOINT', 'E_AFAM', 'E_HISP', 'E_ASIAN', 'E_AIAN', 'E_NHPI',\\n    'E_TWOMORE', 'E_OTHERRACE', 'E_GROUPQ', 'EP_NOINT', 'EP_AFAM', 'EP_HISP', 'EP_ASIAN', \\n    'EP_AIAN', 'EP_NHPI', 'EP_TWOMORE', 'EP_OTHERRACE', 'RPL_THEME1', 'RPL_THEME2', 'RPL_THEME3', \\n    'RPL_THEME4', 'RPL_THEMES', 'SPL_THEME1', 'SPL_THEME2', 'SPL_THEME3', 'SPL_THEME4', 'SPL_THEMES',\\n    'F_THEME1', 'F_THEME2', 'F_THEME3', 'F_THEME4', 'F_GROUPQ'], inplace = True)\""
      ]
     },
     "execution_count": 7,
     "metadata": {},
     "output_type": "execute_result"
    }
   ],
   "source": [
    "\"\"\"squatify_df_SVI.drop(columns = [\n",
    "    'ST', 'ST_ABBR', 'STCNTY', 'LOCATION'\n",
    "    'M_TOTPOP', 'M_HU', 'M_HH', 'M_POV150', 'M_UNEMP', 'M_HBURD', 'M_NOHSDP', 'M_UNINSUR', 'M_AGE65', \n",
    "    'M_AGE17', 'M_DISABL', 'M_SNGPNT', 'M_LIMENG', 'M_MINRTY', 'M_MUNIT', 'M_MOBILE', 'M_CROWD', \n",
    "    'M_NOVEH', 'M_GROUPQ', 'MP_POV150', 'MP_UNEMP', 'MP_HBURD', 'MP_NOHSDP', 'MP_UNINSUR', 'MP_AGE65',\n",
    "    'MP_AGE17', 'MP_DISABL', 'MP_SNGPNT', 'MP_MINRTY', 'MP_MUNIT', 'MP_MOBILE', 'MP_CROWD', 'MP_NOVEH',\n",
    "    'MP_GROUPQ', 'M_NOINT', 'M_AFAM', 'M_HISP', 'M_ASIAN', 'M_AIAN', 'M_NHPI', 'M_TWOMORE', 'M_OTHERRACE',\n",
    "    'MP_NOINT', 'MP_AFAM', 'MP_HISP', 'MP_ASIAN', 'MP_AIAN', 'MP_NHPI', 'MP_TWOMORE', 'MP_OTHERRACE'\n",
    "    'E_POV150', 'E_UNEMP', 'E_HBURD', 'E_NOHSDP', 'E_UNINSUR', 'E_AGE65', 'E_AGE17', \n",
    "    'E_DISABL', 'E_SNGPNT', 'E_LIMENG', 'E_MINRTY', 'E_MUNIT', 'E_MOBILE', 'E_CROWD',\n",
    "    'E_NOVEH', 'E_DAYPOP', 'E_NOINT', 'E_AFAM', 'E_HISP', 'E_ASIAN', 'E_AIAN', 'E_NHPI',\n",
    "    'E_TWOMORE', 'E_OTHERRACE', 'E_GROUPQ', 'EP_NOINT', 'EP_AFAM', 'EP_HISP', 'EP_ASIAN', \n",
    "    'EP_AIAN', 'EP_NHPI', 'EP_TWOMORE', 'EP_OTHERRACE', 'RPL_THEME1', 'RPL_THEME2', 'RPL_THEME3', \n",
    "    'RPL_THEME4', 'RPL_THEMES', 'SPL_THEME1', 'SPL_THEME2', 'SPL_THEME3', 'SPL_THEME4', 'SPL_THEMES',\n",
    "    'F_THEME1', 'F_THEME2', 'F_THEME3', 'F_THEME4', 'F_GROUPQ'], inplace = True)\"\"\""
   ]
  },
  {
   "cell_type": "code",
   "execution_count": 8,
   "id": "a20e5668",
   "metadata": {},
   "outputs": [
    {
     "data": {
      "text/plain": [
       "\"squatify_df_elections.drop(columns = ['state_po', 'county_fips', 'office', 'candidate', 'candidatevotes',\\n                                        'totalvotes', 'version', 'mode',inplace = True)\""
      ]
     },
     "execution_count": 8,
     "metadata": {},
     "output_type": "execute_result"
    }
   ],
   "source": [
    "\"\"\"squatify_df_elections.drop(columns = ['state_po', 'county_fips', 'office', 'candidate', 'candidatevotes',\n",
    "                                        'totalvotes', 'version', 'mode',inplace = True)\"\"\""
   ]
  },
  {
   "cell_type": "markdown",
   "id": "3520f959",
   "metadata": {},
   "source": [
    "## Drop irrelevant rows"
   ]
  },
  {
   "cell_type": "code",
   "execution_count": 9,
   "id": "cdfb2596",
   "metadata": {},
   "outputs": [],
   "source": [
    "squatify_df_elections.drop(squatify_df_elections[squatify_df_elections['year'] != 2020].index, inplace=True)"
   ]
  },
  {
   "cell_type": "code",
   "execution_count": 10,
   "id": "07fb34ba",
   "metadata": {},
   "outputs": [],
   "source": [
    "squatify_df_elections_sorted = squatify_df_elections.sort_values(by=['state', 'county_name', 'candidatevotes'], ascending=[True, True, False])\n",
    "\n",
    "squatify_df_elections_highest_votes = squatify_df_elections_sorted.drop_duplicates(subset=['state', 'county_name'], keep='first').reset_index(drop=True)"
   ]
  },
  {
   "cell_type": "code",
   "execution_count": 11,
   "id": "b583fe6e",
   "metadata": {
    "scrolled": false
   },
   "outputs": [],
   "source": [
    "columns_to_keep_elections = ['year', 'state', 'county_name', 'party']\n",
    "\n",
    "columns_to_drop_elections = [col for col in squatify_df_elections_highest_votes.columns if col not in columns_to_keep_elections]\n",
    "\n",
    "squatify_df_elections_highest_votes.drop(columns=columns_to_drop_elections, inplace=True)"
   ]
  },
  {
   "cell_type": "code",
   "execution_count": 13,
   "id": "27ecccf9",
   "metadata": {},
   "outputs": [
    {
     "data": {
      "text/plain": [
       "(3155, 4)"
      ]
     },
     "execution_count": 13,
     "metadata": {},
     "output_type": "execute_result"
    }
   ],
   "source": [
    "squatify_df_elections_highest_votes.shape"
   ]
  },
  {
   "cell_type": "code",
   "execution_count": 14,
   "id": "157122c6",
   "metadata": {},
   "outputs": [
    {
     "data": {
      "text/plain": [
       "(3143, 158)"
      ]
     },
     "execution_count": 14,
     "metadata": {},
     "output_type": "execute_result"
    }
   ],
   "source": [
    "squatify_df_SVI.shape"
   ]
  },
  {
   "cell_type": "markdown",
   "id": "3941c28a",
   "metadata": {},
   "source": [
    "## Capitalize entries in SVI dataset"
   ]
  },
  {
   "cell_type": "code",
   "execution_count": 15,
   "id": "58b2c9a8",
   "metadata": {},
   "outputs": [],
   "source": [
    "squatify_df_SVI['STATE'] = squatify_df_SVI['STATE'].str.upper()\n",
    "squatify_df_SVI['COUNTY'] = squatify_df_SVI['COUNTY'].str.upper()"
   ]
  },
  {
   "cell_type": "markdown",
   "id": "3161ddea",
   "metadata": {},
   "source": [
    "## Identify missing/mismatched state/county combinations"
   ]
  },
  {
   "cell_type": "code",
   "execution_count": 16,
   "id": "3a1d32bf",
   "metadata": {
    "scrolled": true
   },
   "outputs": [
    {
     "name": "stdout",
     "output_type": "stream",
     "text": [
      "State/County combinations present in elections dataset but not in SVI dataset:\n",
      "ALASKA, DISTRICT 34\n",
      "MINNESOTA, SAINT LOUIS\n",
      "ALASKA, DISTRICT 24\n",
      "ALASKA, DISTRICT 39\n",
      "ALASKA, DISTRICT 10\n",
      "ALASKA, DISTRICT 11\n",
      "LOUISIANA, LA SALLE\n",
      "ALASKA, DISTRICT 16\n",
      "NEW MEXICO, DONA ANA\n",
      "ALASKA, DISTRICT 19\n",
      "ALASKA, DISTRICT 29\n",
      "ALASKA, DISTRICT 6\n",
      "ALASKA, DISTRICT 35\n",
      "ALASKA, DISTRICT 33\n",
      "ALASKA, DISTRICT 31\n",
      "ALASKA, DISTRICT 8\n",
      "RHODE ISLAND, FEDERAL PRECINCT\n",
      "ALASKA, DISTRICT 17\n",
      "ALASKA, DISTRICT 18\n",
      "ALASKA, DISTRICT 9\n",
      "ALASKA, DISTRICT 20\n",
      "ALASKA, DISTRICT 13\n",
      "ALASKA, DISTRICT 22\n",
      "ALASKA, DISTRICT 3\n",
      "ALASKA, DISTRICT 40\n",
      "ALASKA, DISTRICT 12\n",
      "ALASKA, DISTRICT 28\n",
      "ALASKA, DISTRICT 21\n",
      "ALASKA, DISTRICT 14\n",
      "MISSOURI, KANSAS CITY\n",
      "ALASKA, DISTRICT 36\n",
      "ALASKA, DISTRICT 2\n",
      "ALASKA, DISTRICT 23\n",
      "ALASKA, DISTRICT 7\n",
      "ALASKA, DISTRICT 1\n",
      "ALASKA, DISTRICT 26\n",
      "ALASKA, DISTRICT 32\n",
      "MARYLAND, ST MARY'S\n",
      "ALASKA, DISTRICT 4\n",
      "ALASKA, DISTRICT 37\n",
      "ALASKA, DISTRICT 5\n",
      "ALASKA, DISTRICT 99\n",
      "ALASKA, DISTRICT 27\n",
      "MISSOURI, ST. LOUIS COUNTY\n",
      "ALASKA, DISTRICT 38\n",
      "ALASKA, DISTRICT 15\n",
      "ALASKA, DISTRICT 25\n",
      "ALASKA, DISTRICT 30\n"
     ]
    }
   ],
   "source": [
    "# Extract unique state/county combinations from both datasets\n",
    "elections_combinations = set(zip(squatify_df_elections_highest_votes['state'], squatify_df_elections_highest_votes['county_name']))\n",
    "SVI_combinations = set(zip(squatify_df_SVI['STATE'], squatify_df_SVI['COUNTY']))\n",
    "\n",
    "# Find the combinations present in elections dataset but not in SVI dataset\n",
    "missing_combinations = elections_combinations - SVI_combinations\n",
    "\n",
    "# Print the missing combinations\n",
    "print(\"State/County combinations present in elections dataset but not in SVI dataset:\")\n",
    "for state, county in missing_combinations:\n",
    "    print(f\"{state}, {county}\")"
   ]
  },
  {
   "cell_type": "code",
   "execution_count": 17,
   "id": "75705cf0",
   "metadata": {},
   "outputs": [
    {
     "name": "stdout",
     "output_type": "stream",
     "text": [
      "Number of rows in squatify_df_elections_highest_votes after dropping Alaska entries: 3114\n",
      "Number of rows in squatify_df_SVI after dropping Alaska entries: 3113\n"
     ]
    }
   ],
   "source": [
    "# Drop entries from Alaska in both datasets\n",
    "squatify_df_elections_highest_votes = squatify_df_elections_highest_votes[squatify_df_elections_highest_votes['state'] != 'ALASKA']\n",
    "squatify_df_SVI = squatify_df_SVI[squatify_df_SVI['STATE'] != 'ALASKA']\n",
    "\n",
    "# Verify the number of rows after dropping\n",
    "print(\"Number of rows in squatify_df_elections_highest_votes after dropping Alaska entries:\", len(squatify_df_elections_highest_votes))\n",
    "print(\"Number of rows in squatify_df_SVI after dropping Alaska entries:\", len(squatify_df_SVI))\n"
   ]
  },
  {
   "cell_type": "code",
   "execution_count": 18,
   "id": "4913e229",
   "metadata": {},
   "outputs": [
    {
     "name": "stdout",
     "output_type": "stream",
     "text": [
      "State/County combinations present in elections dataset but not in SVI dataset:\n",
      "MINNESOTA, SAINT LOUIS\n",
      "MISSOURI, KANSAS CITY\n",
      "RHODE ISLAND, FEDERAL PRECINCT\n",
      "MISSOURI, ST. LOUIS COUNTY\n",
      "MARYLAND, ST MARY'S\n",
      "LOUISIANA, LA SALLE\n",
      "NEW MEXICO, DONA ANA\n"
     ]
    }
   ],
   "source": [
    "# Extract unique state/county combinations from both datasets\n",
    "elections_combinations = set(zip(squatify_df_elections_highest_votes['state'], squatify_df_elections_highest_votes['county_name']))\n",
    "SVI_combinations = set(zip(squatify_df_SVI['STATE'], squatify_df_SVI['COUNTY']))\n",
    "\n",
    "# Find the combinations present in elections dataset but not in SVI dataset\n",
    "missing_combinations = elections_combinations - SVI_combinations\n",
    "\n",
    "# Print the missing combinations\n",
    "print(\"State/County combinations present in elections dataset but not in SVI dataset:\")\n",
    "for state, county in missing_combinations:\n",
    "    print(f\"{state}, {county}\")"
   ]
  },
  {
   "cell_type": "code",
   "execution_count": 19,
   "id": "afbbe759",
   "metadata": {},
   "outputs": [
    {
     "name": "stdout",
     "output_type": "stream",
     "text": [
      "State/County combinations present in SVI dataset but not in elections dataset:\n",
      "NEW MEXICO, DOÑA ANA\n",
      "MISSOURI, ST. LOUIS\n",
      "MARYLAND, ST. MARY'S\n",
      "MINNESOTA, ST. LOUIS\n",
      "HAWAII, KALAWAO\n",
      "LOUISIANA, LASALLE\n"
     ]
    }
   ],
   "source": [
    "# Extract unique state/county combinations from both datasets\n",
    "elections_combinations = set(zip(squatify_df_elections_highest_votes['state'], squatify_df_elections_highest_votes['county_name']))\n",
    "SVI_combinations = set(zip(squatify_df_SVI['STATE'], squatify_df_SVI['COUNTY']))\n",
    "\n",
    "# Find the combinations present in elections dataset but not in SVI dataset\n",
    "missing_combinations = SVI_combinations - elections_combinations\n",
    "\n",
    "# Print the missing combinations\n",
    "print(\"State/County combinations present in SVI dataset but not in elections dataset:\")\n",
    "for state, county in missing_combinations:\n",
    "    print(f\"{state}, {county}\")"
   ]
  },
  {
   "cell_type": "markdown",
   "id": "f9c62986",
   "metadata": {},
   "source": [
    "## rename mismatched state/county combinations "
   ]
  },
  {
   "cell_type": "code",
   "execution_count": 20,
   "id": "623cd136",
   "metadata": {},
   "outputs": [],
   "source": [
    "replacements = {\n",
    "    ('MINNESOTA', 'SAINT LOUIS'): ('MINNESOTA', 'ST. LOUIS'),\n",
    "    ('LOUISIANA', 'LA SALLE'): ('LOUISIANA', 'LASALLE'),\n",
    "    ('NEW MEXICO', 'DONA ANA'): ('NEW MEXICO', 'DOÑA ANA'),\n",
    "    ('MISSOURI', 'ST. LOUIS COUNTY'): ('MISSOURI', 'ST. LOUIS'),\n",
    "    ('MARYLAND', 'ST MARY\\'S'): ('MARYLAND', 'ST. MARY\\'S')\n",
    "}\n",
    "\n",
    "for (state, county), (new_state, new_county) in replacements.items():\n",
    "    squatify_df_elections_highest_votes.loc[(squatify_df_elections_highest_votes['state'] == state) & \n",
    "                                             (squatify_df_elections_highest_votes['county_name'] == county), \n",
    "                                             ['state', 'county_name']] = new_state, new_county"
   ]
  },
  {
   "cell_type": "code",
   "execution_count": 21,
   "id": "b3c23a09",
   "metadata": {},
   "outputs": [
    {
     "name": "stdout",
     "output_type": "stream",
     "text": [
      "State/County combinations present in SVI dataset but not in elections dataset:\n",
      "HAWAII, KALAWAO\n"
     ]
    }
   ],
   "source": [
    "# Extract unique state/county combinations from both datasets\n",
    "elections_combinations = set(zip(squatify_df_elections_highest_votes['state'], squatify_df_elections_highest_votes['county_name']))\n",
    "SVI_combinations = set(zip(squatify_df_SVI['STATE'], squatify_df_SVI['COUNTY']))\n",
    "\n",
    "# Find the combinations present in elections dataset but not in SVI dataset\n",
    "missing_combinations = SVI_combinations - elections_combinations\n",
    "\n",
    "# Print the missing combinations\n",
    "print(\"State/County combinations present in SVI dataset but not in elections dataset:\")\n",
    "for state, county in missing_combinations:\n",
    "    print(f\"{state}, {county}\")"
   ]
  },
  {
   "cell_type": "code",
   "execution_count": 22,
   "id": "b1f14f28",
   "metadata": {},
   "outputs": [
    {
     "name": "stdout",
     "output_type": "stream",
     "text": [
      "State/County combinations present in elections dataset but not in SVI dataset:\n",
      "MISSOURI, KANSAS CITY\n",
      "RHODE ISLAND, FEDERAL PRECINCT\n"
     ]
    }
   ],
   "source": [
    "# Extract unique state/county combinations from both datasets\n",
    "elections_combinations = set(zip(squatify_df_elections_highest_votes['state'], squatify_df_elections_highest_votes['county_name']))\n",
    "SVI_combinations = set(zip(squatify_df_SVI['STATE'], squatify_df_SVI['COUNTY']))\n",
    "\n",
    "# Find the combinations present in elections dataset but not in SVI dataset\n",
    "missing_combinations = elections_combinations - SVI_combinations\n",
    "\n",
    "# Print the missing combinations\n",
    "print(\"State/County combinations present in elections dataset but not in SVI dataset:\")\n",
    "for state, county in missing_combinations:\n",
    "    print(f\"{state}, {county}\")"
   ]
  },
  {
   "cell_type": "code",
   "execution_count": 23,
   "id": "2f4f99c1",
   "metadata": {},
   "outputs": [
    {
     "name": "stderr",
     "output_type": "stream",
     "text": [
      "/var/folders/h2/9gj18zsj0_97sn4v3pb36c6h0000gn/T/ipykernel_41334/1909025809.py:12: SettingWithCopyWarning: \n",
      "A value is trying to be set on a copy of a slice from a DataFrame\n",
      "\n",
      "See the caveats in the documentation: https://pandas.pydata.org/pandas-docs/stable/user_guide/indexing.html#returning-a-view-versus-a-copy\n",
      "  squatify_df_elections_highest_votes.drop(rows_to_drop_indices, inplace=True)\n"
     ]
    }
   ],
   "source": [
    "# Define the state and county combinations to be dropped\n",
    "rows_to_drop = [\n",
    "    ('RHODE ISLAND', 'FEDERAL PRECINCT'),\n",
    "    ('MISSOURI', 'KANSAS CITY')\n",
    "]\n",
    "\n",
    "# Iterate over the state and county combinations and drop the corresponding rows\n",
    "for state, county in rows_to_drop:\n",
    "    rows_to_drop_indices = squatify_df_elections_highest_votes[(squatify_df_elections_highest_votes['state'] == state) & \n",
    "                                                               (squatify_df_elections_highest_votes['county_name'] == county)].index\n",
    "    # Use .loc to explicitly reference the original DataFrame and avoid the warning\n",
    "    squatify_df_elections_highest_votes.drop(rows_to_drop_indices, inplace=True)"
   ]
  },
  {
   "cell_type": "markdown",
   "id": "b5bc7d66",
   "metadata": {},
   "source": [
    "## Drop missing state/counties from each dataset"
   ]
  },
  {
   "cell_type": "code",
   "execution_count": 24,
   "id": "885d00f3",
   "metadata": {},
   "outputs": [],
   "source": [
    "# Define the state and county combinations to be dropped\n",
    "rows_to_drop = [\n",
    "    ('HAWAII', 'KALAWAO'),\n",
    "]\n",
    "\n",
    "# Iterate over the state and county combinations and drop the corresponding rows\n",
    "for state, county in rows_to_drop:\n",
    "    rows_to_drop_indices = squatify_df_SVI[(squatify_df_SVI['STATE'] == state) & \n",
    "                                                               (squatify_df_SVI['COUNTY'] == county)].index\n",
    "    # Use .loc to explicitly reference the original DataFrame and avoid the warning\n",
    "    squatify_df_SVI.drop(rows_to_drop_indices, inplace=True)\n"
   ]
  },
  {
   "cell_type": "code",
   "execution_count": 25,
   "id": "75b775e5",
   "metadata": {},
   "outputs": [
    {
     "name": "stdout",
     "output_type": "stream",
     "text": [
      "State/County combinations present in elections dataset but not in SVI dataset:\n"
     ]
    }
   ],
   "source": [
    "# Extract unique state/county combinations from both datasets\n",
    "elections_combinations = set(zip(squatify_df_elections_highest_votes['state'], squatify_df_elections_highest_votes['county_name']))\n",
    "SVI_combinations = set(zip(squatify_df_SVI['STATE'], squatify_df_SVI['COUNTY']))\n",
    "\n",
    "# Find the combinations present in elections dataset but not in SVI dataset\n",
    "missing_combinations = elections_combinations - SVI_combinations\n",
    "\n",
    "# Print the missing combinations\n",
    "print(\"State/County combinations present in elections dataset but not in SVI dataset:\")\n",
    "for state, county in missing_combinations:\n",
    "    print(f\"{state}, {county}\")"
   ]
  },
  {
   "cell_type": "markdown",
   "id": "e1aba869",
   "metadata": {},
   "source": [
    "## Rename elections dataframe columns"
   ]
  },
  {
   "cell_type": "code",
   "execution_count": 26,
   "id": "4f320817",
   "metadata": {},
   "outputs": [
    {
     "name": "stderr",
     "output_type": "stream",
     "text": [
      "/var/folders/h2/9gj18zsj0_97sn4v3pb36c6h0000gn/T/ipykernel_41334/596593005.py:1: SettingWithCopyWarning: \n",
      "A value is trying to be set on a copy of a slice from a DataFrame\n",
      "\n",
      "See the caveats in the documentation: https://pandas.pydata.org/pandas-docs/stable/user_guide/indexing.html#returning-a-view-versus-a-copy\n",
      "  squatify_df_elections_highest_votes.rename(columns={'state': 'STATE', 'county_name': 'COUNTY', 'party': \"PARTY\"}, inplace=True)\n"
     ]
    }
   ],
   "source": [
    "squatify_df_elections_highest_votes.rename(columns={'state': 'STATE', 'county_name': 'COUNTY', 'party': \"PARTY\"}, inplace=True)"
   ]
  },
  {
   "cell_type": "markdown",
   "id": "faa7f770",
   "metadata": {},
   "source": [
    "# Merge dataframes"
   ]
  },
  {
   "cell_type": "code",
   "execution_count": null,
   "id": "eaa5c5ba",
   "metadata": {},
   "outputs": [],
   "source": [
    "squatify_df = pd.merge(squatify_df_elections_highest_votes, squatify_df_SVI, on=['STATE', 'COUNTY'], how='inner')"
   ]
  },
  {
   "cell_type": "code",
   "execution_count": 28,
   "id": "80732e36",
   "metadata": {},
   "outputs": [
    {
     "name": "stdout",
     "output_type": "stream",
     "text": [
      "Value of EP_MINRTY for AUTUAGUA: 26.0\n"
     ]
    }
   ],
   "source": [
    "# Assuming squatify_df is your DataFrame containing the data\n",
    "value_EP_MINRTY = squatify_df.loc[squatify_df['COUNTY'] == 'AUTAUGA', 'EP_MINRTY'].values[0]\n",
    "\n",
    "print(\"Value of EP_MINRTY for AUTUAGUA:\", value_EP_MINRTY)\n"
   ]
  },
  {
   "cell_type": "code",
   "execution_count": 29,
   "id": "e483a342",
   "metadata": {},
   "outputs": [],
   "source": [
    "squatify_df.to_csv('squatify_df.csv', index=False)"
   ]
  },
  {
   "cell_type": "markdown",
   "id": "572cbce8",
   "metadata": {},
   "source": [
    "## Drop columns from merged dataframe"
   ]
  },
  {
   "cell_type": "code",
   "execution_count": 30,
   "id": "8b365258",
   "metadata": {},
   "outputs": [],
   "source": [
    "columns_to_keep = ['FIPS', 'AREA_SQMI', 'E_TOTPOP', 'E_HU', 'E_HH', 'E_POV150', \n",
    "                       'E_UNEMP', 'E_HBURD', 'E_NOHSDP', 'E_UNINSUR', 'E_AGE65', 'E_AGE17', \n",
    "                       'E_DISABL', 'E_SNGPNT', 'E_LIMENG', 'E_MINRTY', 'E_MUNIT', 'E_MOBILE', 'E_CROWD',\n",
    "                       'E_NOVEH', 'E_DAYPOP', 'E_NOINT']\n",
    "\n",
    "squatify_df_cleaned = [col for col in squatify_df.columns if col not in columns_to_keep]"
   ]
  },
  {
   "cell_type": "markdown",
   "id": "3e0bcc80",
   "metadata": {},
   "source": [
    "## Reorder columns because I'm anal"
   ]
  },
  {
   "cell_type": "code",
   "execution_count": 31,
   "id": "63a57983",
   "metadata": {},
   "outputs": [],
   "source": [
    "cols_order = ['FIPS', 'AREA_SQMI', 'E_TOTPOP', 'E_HU', 'E_HH', 'E_POV150', 'E_UNEMP', 'E_HBURD', 'E_NOHSDP', \n",
    "              'E_UNINSUR', 'E_AGE65', 'E_AGE17', 'E_DISABL', 'E_SNGPNT', 'E_LIMENG', 'E_MINRTY', 'E_MUNIT', \n",
    "              'E_MOBILE', 'E_CROWD', 'E_NOVEH', 'E_DAYPOP', 'E_NOINT', 'PARTY']\n",
    "\n",
    "squatify_df_cleaned = squatify_df[cols_order]"
   ]
  },
  {
   "cell_type": "markdown",
   "id": "04f74d74",
   "metadata": {},
   "source": [
    "# Plot data"
   ]
  },
  {
   "cell_type": "code",
   "execution_count": null,
   "id": "f1a13ba7",
   "metadata": {},
   "outputs": [],
   "source": [
    "\"\"\"for column in squatify_df_cleaned.columns:\n",
    "    plt.hist(squatify_df[column], bins=20) \n",
    "    plt.title(f'Histogram of {column}')\n",
    "    plt.xlabel('Value')\n",
    "    plt.ylabel('Frequency')\n",
    "    plt.show()\"\"\""
   ]
  },
  {
   "cell_type": "markdown",
   "id": "f1292044",
   "metadata": {},
   "source": [
    "# Preprocess data"
   ]
  },
  {
   "cell_type": "markdown",
   "id": "1829a344",
   "metadata": {},
   "source": [
    "## Define target variable"
   ]
  },
  {
   "cell_type": "code",
   "execution_count": 34,
   "id": "8b7b878d",
   "metadata": {},
   "outputs": [],
   "source": [
    "X = squatify_df_cleaned.drop(columns=['PARTY'])\n",
    "\n",
    "y = squatify_df_cleaned['PARTY']"
   ]
  },
  {
   "cell_type": "markdown",
   "id": "8c739fa9",
   "metadata": {},
   "source": [
    "## Split data"
   ]
  },
  {
   "cell_type": "code",
   "execution_count": 35,
   "id": "b4392108",
   "metadata": {},
   "outputs": [],
   "source": [
    "X_train, X_test, y_train, y_test = train_test_split(X, y, test_size=0.2, random_state=42)"
   ]
  },
  {
   "cell_type": "markdown",
   "id": "8cc8b520",
   "metadata": {},
   "source": [
    "## Transform data"
   ]
  },
  {
   "cell_type": "code",
   "execution_count": 36,
   "id": "f88801ff",
   "metadata": {},
   "outputs": [],
   "source": [
    "scaler = StandardScaler()\n",
    "\n",
    "scaler.fit(X_train)\n",
    "\n",
    "X_train_scaled = scaler.transform(X_train)\n",
    "X_test_scaled = scaler.transform(X_test)"
   ]
  },
  {
   "cell_type": "markdown",
   "id": "5bcbdfe6",
   "metadata": {},
   "source": [
    "## Instantiate the model"
   ]
  },
  {
   "cell_type": "code",
   "execution_count": 37,
   "id": "0fdbf9a4",
   "metadata": {},
   "outputs": [],
   "source": [
    "model = LogisticRegression(max_iter=10000)"
   ]
  },
  {
   "cell_type": "markdown",
   "id": "239b1b13",
   "metadata": {},
   "source": [
    "## Fit model to training data"
   ]
  },
  {
   "cell_type": "code",
   "execution_count": 38,
   "id": "f9e096de",
   "metadata": {},
   "outputs": [
    {
     "data": {
      "text/html": [
       "<style>#sk-container-id-1 {\n",
       "  /* Definition of color scheme common for light and dark mode */\n",
       "  --sklearn-color-text: black;\n",
       "  --sklearn-color-line: gray;\n",
       "  /* Definition of color scheme for unfitted estimators */\n",
       "  --sklearn-color-unfitted-level-0: #fff5e6;\n",
       "  --sklearn-color-unfitted-level-1: #f6e4d2;\n",
       "  --sklearn-color-unfitted-level-2: #ffe0b3;\n",
       "  --sklearn-color-unfitted-level-3: chocolate;\n",
       "  /* Definition of color scheme for fitted estimators */\n",
       "  --sklearn-color-fitted-level-0: #f0f8ff;\n",
       "  --sklearn-color-fitted-level-1: #d4ebff;\n",
       "  --sklearn-color-fitted-level-2: #b3dbfd;\n",
       "  --sklearn-color-fitted-level-3: cornflowerblue;\n",
       "\n",
       "  /* Specific color for light theme */\n",
       "  --sklearn-color-text-on-default-background: var(--sg-text-color, var(--theme-code-foreground, var(--jp-content-font-color1, black)));\n",
       "  --sklearn-color-background: var(--sg-background-color, var(--theme-background, var(--jp-layout-color0, white)));\n",
       "  --sklearn-color-border-box: var(--sg-text-color, var(--theme-code-foreground, var(--jp-content-font-color1, black)));\n",
       "  --sklearn-color-icon: #696969;\n",
       "\n",
       "  @media (prefers-color-scheme: dark) {\n",
       "    /* Redefinition of color scheme for dark theme */\n",
       "    --sklearn-color-text-on-default-background: var(--sg-text-color, var(--theme-code-foreground, var(--jp-content-font-color1, white)));\n",
       "    --sklearn-color-background: var(--sg-background-color, var(--theme-background, var(--jp-layout-color0, #111)));\n",
       "    --sklearn-color-border-box: var(--sg-text-color, var(--theme-code-foreground, var(--jp-content-font-color1, white)));\n",
       "    --sklearn-color-icon: #878787;\n",
       "  }\n",
       "}\n",
       "\n",
       "#sk-container-id-1 {\n",
       "  color: var(--sklearn-color-text);\n",
       "}\n",
       "\n",
       "#sk-container-id-1 pre {\n",
       "  padding: 0;\n",
       "}\n",
       "\n",
       "#sk-container-id-1 input.sk-hidden--visually {\n",
       "  border: 0;\n",
       "  clip: rect(1px 1px 1px 1px);\n",
       "  clip: rect(1px, 1px, 1px, 1px);\n",
       "  height: 1px;\n",
       "  margin: -1px;\n",
       "  overflow: hidden;\n",
       "  padding: 0;\n",
       "  position: absolute;\n",
       "  width: 1px;\n",
       "}\n",
       "\n",
       "#sk-container-id-1 div.sk-dashed-wrapped {\n",
       "  border: 1px dashed var(--sklearn-color-line);\n",
       "  margin: 0 0.4em 0.5em 0.4em;\n",
       "  box-sizing: border-box;\n",
       "  padding-bottom: 0.4em;\n",
       "  background-color: var(--sklearn-color-background);\n",
       "}\n",
       "\n",
       "#sk-container-id-1 div.sk-container {\n",
       "  /* jupyter's `normalize.less` sets `[hidden] { display: none; }`\n",
       "     but bootstrap.min.css set `[hidden] { display: none !important; }`\n",
       "     so we also need the `!important` here to be able to override the\n",
       "     default hidden behavior on the sphinx rendered scikit-learn.org.\n",
       "     See: https://github.com/scikit-learn/scikit-learn/issues/21755 */\n",
       "  display: inline-block !important;\n",
       "  position: relative;\n",
       "}\n",
       "\n",
       "#sk-container-id-1 div.sk-text-repr-fallback {\n",
       "  display: none;\n",
       "}\n",
       "\n",
       "div.sk-parallel-item,\n",
       "div.sk-serial,\n",
       "div.sk-item {\n",
       "  /* draw centered vertical line to link estimators */\n",
       "  background-image: linear-gradient(var(--sklearn-color-text-on-default-background), var(--sklearn-color-text-on-default-background));\n",
       "  background-size: 2px 100%;\n",
       "  background-repeat: no-repeat;\n",
       "  background-position: center center;\n",
       "}\n",
       "\n",
       "/* Parallel-specific style estimator block */\n",
       "\n",
       "#sk-container-id-1 div.sk-parallel-item::after {\n",
       "  content: \"\";\n",
       "  width: 100%;\n",
       "  border-bottom: 2px solid var(--sklearn-color-text-on-default-background);\n",
       "  flex-grow: 1;\n",
       "}\n",
       "\n",
       "#sk-container-id-1 div.sk-parallel {\n",
       "  display: flex;\n",
       "  align-items: stretch;\n",
       "  justify-content: center;\n",
       "  background-color: var(--sklearn-color-background);\n",
       "  position: relative;\n",
       "}\n",
       "\n",
       "#sk-container-id-1 div.sk-parallel-item {\n",
       "  display: flex;\n",
       "  flex-direction: column;\n",
       "}\n",
       "\n",
       "#sk-container-id-1 div.sk-parallel-item:first-child::after {\n",
       "  align-self: flex-end;\n",
       "  width: 50%;\n",
       "}\n",
       "\n",
       "#sk-container-id-1 div.sk-parallel-item:last-child::after {\n",
       "  align-self: flex-start;\n",
       "  width: 50%;\n",
       "}\n",
       "\n",
       "#sk-container-id-1 div.sk-parallel-item:only-child::after {\n",
       "  width: 0;\n",
       "}\n",
       "\n",
       "/* Serial-specific style estimator block */\n",
       "\n",
       "#sk-container-id-1 div.sk-serial {\n",
       "  display: flex;\n",
       "  flex-direction: column;\n",
       "  align-items: center;\n",
       "  background-color: var(--sklearn-color-background);\n",
       "  padding-right: 1em;\n",
       "  padding-left: 1em;\n",
       "}\n",
       "\n",
       "\n",
       "/* Toggleable style: style used for estimator/Pipeline/ColumnTransformer box that is\n",
       "clickable and can be expanded/collapsed.\n",
       "- Pipeline and ColumnTransformer use this feature and define the default style\n",
       "- Estimators will overwrite some part of the style using the `sk-estimator` class\n",
       "*/\n",
       "\n",
       "/* Pipeline and ColumnTransformer style (default) */\n",
       "\n",
       "#sk-container-id-1 div.sk-toggleable {\n",
       "  /* Default theme specific background. It is overwritten whether we have a\n",
       "  specific estimator or a Pipeline/ColumnTransformer */\n",
       "  background-color: var(--sklearn-color-background);\n",
       "}\n",
       "\n",
       "/* Toggleable label */\n",
       "#sk-container-id-1 label.sk-toggleable__label {\n",
       "  cursor: pointer;\n",
       "  display: block;\n",
       "  width: 100%;\n",
       "  margin-bottom: 0;\n",
       "  padding: 0.5em;\n",
       "  box-sizing: border-box;\n",
       "  text-align: center;\n",
       "}\n",
       "\n",
       "#sk-container-id-1 label.sk-toggleable__label-arrow:before {\n",
       "  /* Arrow on the left of the label */\n",
       "  content: \"▸\";\n",
       "  float: left;\n",
       "  margin-right: 0.25em;\n",
       "  color: var(--sklearn-color-icon);\n",
       "}\n",
       "\n",
       "#sk-container-id-1 label.sk-toggleable__label-arrow:hover:before {\n",
       "  color: var(--sklearn-color-text);\n",
       "}\n",
       "\n",
       "/* Toggleable content - dropdown */\n",
       "\n",
       "#sk-container-id-1 div.sk-toggleable__content {\n",
       "  max-height: 0;\n",
       "  max-width: 0;\n",
       "  overflow: hidden;\n",
       "  text-align: left;\n",
       "  /* unfitted */\n",
       "  background-color: var(--sklearn-color-unfitted-level-0);\n",
       "}\n",
       "\n",
       "#sk-container-id-1 div.sk-toggleable__content.fitted {\n",
       "  /* fitted */\n",
       "  background-color: var(--sklearn-color-fitted-level-0);\n",
       "}\n",
       "\n",
       "#sk-container-id-1 div.sk-toggleable__content pre {\n",
       "  margin: 0.2em;\n",
       "  border-radius: 0.25em;\n",
       "  color: var(--sklearn-color-text);\n",
       "  /* unfitted */\n",
       "  background-color: var(--sklearn-color-unfitted-level-0);\n",
       "}\n",
       "\n",
       "#sk-container-id-1 div.sk-toggleable__content.fitted pre {\n",
       "  /* unfitted */\n",
       "  background-color: var(--sklearn-color-fitted-level-0);\n",
       "}\n",
       "\n",
       "#sk-container-id-1 input.sk-toggleable__control:checked~div.sk-toggleable__content {\n",
       "  /* Expand drop-down */\n",
       "  max-height: 200px;\n",
       "  max-width: 100%;\n",
       "  overflow: auto;\n",
       "}\n",
       "\n",
       "#sk-container-id-1 input.sk-toggleable__control:checked~label.sk-toggleable__label-arrow:before {\n",
       "  content: \"▾\";\n",
       "}\n",
       "\n",
       "/* Pipeline/ColumnTransformer-specific style */\n",
       "\n",
       "#sk-container-id-1 div.sk-label input.sk-toggleable__control:checked~label.sk-toggleable__label {\n",
       "  color: var(--sklearn-color-text);\n",
       "  background-color: var(--sklearn-color-unfitted-level-2);\n",
       "}\n",
       "\n",
       "#sk-container-id-1 div.sk-label.fitted input.sk-toggleable__control:checked~label.sk-toggleable__label {\n",
       "  background-color: var(--sklearn-color-fitted-level-2);\n",
       "}\n",
       "\n",
       "/* Estimator-specific style */\n",
       "\n",
       "/* Colorize estimator box */\n",
       "#sk-container-id-1 div.sk-estimator input.sk-toggleable__control:checked~label.sk-toggleable__label {\n",
       "  /* unfitted */\n",
       "  background-color: var(--sklearn-color-unfitted-level-2);\n",
       "}\n",
       "\n",
       "#sk-container-id-1 div.sk-estimator.fitted input.sk-toggleable__control:checked~label.sk-toggleable__label {\n",
       "  /* fitted */\n",
       "  background-color: var(--sklearn-color-fitted-level-2);\n",
       "}\n",
       "\n",
       "#sk-container-id-1 div.sk-label label.sk-toggleable__label,\n",
       "#sk-container-id-1 div.sk-label label {\n",
       "  /* The background is the default theme color */\n",
       "  color: var(--sklearn-color-text-on-default-background);\n",
       "}\n",
       "\n",
       "/* On hover, darken the color of the background */\n",
       "#sk-container-id-1 div.sk-label:hover label.sk-toggleable__label {\n",
       "  color: var(--sklearn-color-text);\n",
       "  background-color: var(--sklearn-color-unfitted-level-2);\n",
       "}\n",
       "\n",
       "/* Label box, darken color on hover, fitted */\n",
       "#sk-container-id-1 div.sk-label.fitted:hover label.sk-toggleable__label.fitted {\n",
       "  color: var(--sklearn-color-text);\n",
       "  background-color: var(--sklearn-color-fitted-level-2);\n",
       "}\n",
       "\n",
       "/* Estimator label */\n",
       "\n",
       "#sk-container-id-1 div.sk-label label {\n",
       "  font-family: monospace;\n",
       "  font-weight: bold;\n",
       "  display: inline-block;\n",
       "  line-height: 1.2em;\n",
       "}\n",
       "\n",
       "#sk-container-id-1 div.sk-label-container {\n",
       "  text-align: center;\n",
       "}\n",
       "\n",
       "/* Estimator-specific */\n",
       "#sk-container-id-1 div.sk-estimator {\n",
       "  font-family: monospace;\n",
       "  border: 1px dotted var(--sklearn-color-border-box);\n",
       "  border-radius: 0.25em;\n",
       "  box-sizing: border-box;\n",
       "  margin-bottom: 0.5em;\n",
       "  /* unfitted */\n",
       "  background-color: var(--sklearn-color-unfitted-level-0);\n",
       "}\n",
       "\n",
       "#sk-container-id-1 div.sk-estimator.fitted {\n",
       "  /* fitted */\n",
       "  background-color: var(--sklearn-color-fitted-level-0);\n",
       "}\n",
       "\n",
       "/* on hover */\n",
       "#sk-container-id-1 div.sk-estimator:hover {\n",
       "  /* unfitted */\n",
       "  background-color: var(--sklearn-color-unfitted-level-2);\n",
       "}\n",
       "\n",
       "#sk-container-id-1 div.sk-estimator.fitted:hover {\n",
       "  /* fitted */\n",
       "  background-color: var(--sklearn-color-fitted-level-2);\n",
       "}\n",
       "\n",
       "/* Specification for estimator info (e.g. \"i\" and \"?\") */\n",
       "\n",
       "/* Common style for \"i\" and \"?\" */\n",
       "\n",
       ".sk-estimator-doc-link,\n",
       "a:link.sk-estimator-doc-link,\n",
       "a:visited.sk-estimator-doc-link {\n",
       "  float: right;\n",
       "  font-size: smaller;\n",
       "  line-height: 1em;\n",
       "  font-family: monospace;\n",
       "  background-color: var(--sklearn-color-background);\n",
       "  border-radius: 1em;\n",
       "  height: 1em;\n",
       "  width: 1em;\n",
       "  text-decoration: none !important;\n",
       "  margin-left: 1ex;\n",
       "  /* unfitted */\n",
       "  border: var(--sklearn-color-unfitted-level-1) 1pt solid;\n",
       "  color: var(--sklearn-color-unfitted-level-1);\n",
       "}\n",
       "\n",
       ".sk-estimator-doc-link.fitted,\n",
       "a:link.sk-estimator-doc-link.fitted,\n",
       "a:visited.sk-estimator-doc-link.fitted {\n",
       "  /* fitted */\n",
       "  border: var(--sklearn-color-fitted-level-1) 1pt solid;\n",
       "  color: var(--sklearn-color-fitted-level-1);\n",
       "}\n",
       "\n",
       "/* On hover */\n",
       "div.sk-estimator:hover .sk-estimator-doc-link:hover,\n",
       ".sk-estimator-doc-link:hover,\n",
       "div.sk-label-container:hover .sk-estimator-doc-link:hover,\n",
       ".sk-estimator-doc-link:hover {\n",
       "  /* unfitted */\n",
       "  background-color: var(--sklearn-color-unfitted-level-3);\n",
       "  color: var(--sklearn-color-background);\n",
       "  text-decoration: none;\n",
       "}\n",
       "\n",
       "div.sk-estimator.fitted:hover .sk-estimator-doc-link.fitted:hover,\n",
       ".sk-estimator-doc-link.fitted:hover,\n",
       "div.sk-label-container:hover .sk-estimator-doc-link.fitted:hover,\n",
       ".sk-estimator-doc-link.fitted:hover {\n",
       "  /* fitted */\n",
       "  background-color: var(--sklearn-color-fitted-level-3);\n",
       "  color: var(--sklearn-color-background);\n",
       "  text-decoration: none;\n",
       "}\n",
       "\n",
       "/* Span, style for the box shown on hovering the info icon */\n",
       ".sk-estimator-doc-link span {\n",
       "  display: none;\n",
       "  z-index: 9999;\n",
       "  position: relative;\n",
       "  font-weight: normal;\n",
       "  right: .2ex;\n",
       "  padding: .5ex;\n",
       "  margin: .5ex;\n",
       "  width: min-content;\n",
       "  min-width: 20ex;\n",
       "  max-width: 50ex;\n",
       "  color: var(--sklearn-color-text);\n",
       "  box-shadow: 2pt 2pt 4pt #999;\n",
       "  /* unfitted */\n",
       "  background: var(--sklearn-color-unfitted-level-0);\n",
       "  border: .5pt solid var(--sklearn-color-unfitted-level-3);\n",
       "}\n",
       "\n",
       ".sk-estimator-doc-link.fitted span {\n",
       "  /* fitted */\n",
       "  background: var(--sklearn-color-fitted-level-0);\n",
       "  border: var(--sklearn-color-fitted-level-3);\n",
       "}\n",
       "\n",
       ".sk-estimator-doc-link:hover span {\n",
       "  display: block;\n",
       "}\n",
       "\n",
       "/* \"?\"-specific style due to the `<a>` HTML tag */\n",
       "\n",
       "#sk-container-id-1 a.estimator_doc_link {\n",
       "  float: right;\n",
       "  font-size: 1rem;\n",
       "  line-height: 1em;\n",
       "  font-family: monospace;\n",
       "  background-color: var(--sklearn-color-background);\n",
       "  border-radius: 1rem;\n",
       "  height: 1rem;\n",
       "  width: 1rem;\n",
       "  text-decoration: none;\n",
       "  /* unfitted */\n",
       "  color: var(--sklearn-color-unfitted-level-1);\n",
       "  border: var(--sklearn-color-unfitted-level-1) 1pt solid;\n",
       "}\n",
       "\n",
       "#sk-container-id-1 a.estimator_doc_link.fitted {\n",
       "  /* fitted */\n",
       "  border: var(--sklearn-color-fitted-level-1) 1pt solid;\n",
       "  color: var(--sklearn-color-fitted-level-1);\n",
       "}\n",
       "\n",
       "/* On hover */\n",
       "#sk-container-id-1 a.estimator_doc_link:hover {\n",
       "  /* unfitted */\n",
       "  background-color: var(--sklearn-color-unfitted-level-3);\n",
       "  color: var(--sklearn-color-background);\n",
       "  text-decoration: none;\n",
       "}\n",
       "\n",
       "#sk-container-id-1 a.estimator_doc_link.fitted:hover {\n",
       "  /* fitted */\n",
       "  background-color: var(--sklearn-color-fitted-level-3);\n",
       "}\n",
       "</style><div id=\"sk-container-id-1\" class=\"sk-top-container\"><div class=\"sk-text-repr-fallback\"><pre>LogisticRegression(max_iter=10000)</pre><b>In a Jupyter environment, please rerun this cell to show the HTML representation or trust the notebook. <br />On GitHub, the HTML representation is unable to render, please try loading this page with nbviewer.org.</b></div><div class=\"sk-container\" hidden><div class=\"sk-item\"><div class=\"sk-estimator fitted sk-toggleable\"><input class=\"sk-toggleable__control sk-hidden--visually\" id=\"sk-estimator-id-1\" type=\"checkbox\" checked><label for=\"sk-estimator-id-1\" class=\"sk-toggleable__label fitted sk-toggleable__label-arrow fitted\">&nbsp;&nbsp;LogisticRegression<a class=\"sk-estimator-doc-link fitted\" rel=\"noreferrer\" target=\"_blank\" href=\"https://scikit-learn.org/1.4/modules/generated/sklearn.linear_model.LogisticRegression.html\">?<span>Documentation for LogisticRegression</span></a><span class=\"sk-estimator-doc-link fitted\">i<span>Fitted</span></span></label><div class=\"sk-toggleable__content fitted\"><pre>LogisticRegression(max_iter=10000)</pre></div> </div></div></div></div>"
      ],
      "text/plain": [
       "LogisticRegression(max_iter=10000)"
      ]
     },
     "execution_count": 38,
     "metadata": {},
     "output_type": "execute_result"
    }
   ],
   "source": [
    "model.fit(X_train, y_train)"
   ]
  },
  {
   "cell_type": "markdown",
   "id": "29991c99",
   "metadata": {},
   "source": [
    "# Test the model"
   ]
  },
  {
   "cell_type": "markdown",
   "id": "c878ac4c",
   "metadata": {},
   "source": [
    "## Make predictions"
   ]
  },
  {
   "cell_type": "code",
   "execution_count": 39,
   "id": "436d2c83",
   "metadata": {},
   "outputs": [],
   "source": [
    "y_pred = model.predict(X_test)"
   ]
  },
  {
   "cell_type": "markdown",
   "id": "4d68ff65",
   "metadata": {},
   "source": [
    "## Evaluate model"
   ]
  },
  {
   "cell_type": "code",
   "execution_count": 40,
   "id": "614d24bf",
   "metadata": {
    "scrolled": true
   },
   "outputs": [
    {
     "name": "stdout",
     "output_type": "stream",
     "text": [
      "Logistic Regression Cross-Validation Scores: [0.90562249 0.8935743  0.87951807 0.90562249 0.87525151]\n",
      "Mean Accuracy: 0.8919177716903833\n"
     ]
    }
   ],
   "source": [
    "logistic_model = LogisticRegression(max_iter=10000)\n",
    "logistic_scores = cross_val_score(logistic_model, X_train, y_train, cv=5, scoring='accuracy')\n",
    "print(\"Logistic Regression Cross-Validation Scores:\", logistic_scores)\n",
    "print(\"Mean Accuracy:\", logistic_scores.mean())"
   ]
  },
  {
   "cell_type": "markdown",
   "id": "c551cd82-315e-48da-9d99-923d9a799bdc",
   "metadata": {
    "tags": []
   },
   "source": [
    "## Cross validate"
   ]
  },
  {
   "cell_type": "markdown",
   "id": "9d66105f",
   "metadata": {},
   "source": [
    "### with KNN"
   ]
  },
  {
   "cell_type": "code",
   "execution_count": 41,
   "id": "deaa7256",
   "metadata": {},
   "outputs": [
    {
     "name": "stdout",
     "output_type": "stream",
     "text": [
      "KNN Cross-Validation Scores: [0.87550201 0.87550201 0.86546185 0.88955823 0.86720322]\n",
      "Mean Accuracy: 0.8746454631402875\n"
     ]
    }
   ],
   "source": [
    "knn_model = KNeighborsClassifier()\n",
    "knn_scores = cross_val_score(knn_model, X_train, y_train, cv=5, scoring='accuracy')\n",
    "print(\"KNN Cross-Validation Scores:\", knn_scores)\n",
    "print(\"Mean Accuracy:\", knn_scores.mean())"
   ]
  },
  {
   "cell_type": "markdown",
   "id": "eefbe779",
   "metadata": {},
   "source": [
    "### with Decision Tree"
   ]
  },
  {
   "cell_type": "code",
   "execution_count": 42,
   "id": "4cb0abbd",
   "metadata": {},
   "outputs": [
    {
     "name": "stdout",
     "output_type": "stream",
     "text": [
      "Decision Tree Cross-Validation Scores: [0.86345382 0.8313253  0.84939759 0.84738956 0.85714286]\n",
      "Mean Accuracy: 0.8497418244406196\n"
     ]
    }
   ],
   "source": [
    "dt_model = DecisionTreeClassifier()\n",
    "dt_scores = cross_val_score(dt_model, X_train, y_train, cv=5, scoring='accuracy')\n",
    "print(\"Decision Tree Cross-Validation Scores:\", dt_scores)\n",
    "print(\"Mean Accuracy:\", dt_scores.mean())"
   ]
  },
  {
   "cell_type": "markdown",
   "id": "2dbebd81",
   "metadata": {},
   "source": [
    "### with Random Forest"
   ]
  },
  {
   "cell_type": "code",
   "execution_count": 43,
   "id": "5432f6d4",
   "metadata": {},
   "outputs": [
    {
     "name": "stdout",
     "output_type": "stream",
     "text": [
      "Random Forest Cross-Validation Scores: [0.90361446 0.88955823 0.8875502  0.90160643 0.87525151]\n",
      "Mean Accuracy: 0.8915161652646806\n"
     ]
    }
   ],
   "source": [
    "rf_model = RandomForestClassifier()\n",
    "rf_scores = cross_val_score(rf_model, X_train, y_train, cv=5, scoring='accuracy')\n",
    "print(\"Random Forest Cross-Validation Scores:\", rf_scores)\n",
    "print(\"Mean Accuracy:\", rf_scores.mean())"
   ]
  },
  {
   "cell_type": "markdown",
   "id": "0f730202",
   "metadata": {},
   "source": [
    "### with Gradiant Boosting"
   ]
  },
  {
   "cell_type": "code",
   "execution_count": 44,
   "id": "670aabb5",
   "metadata": {},
   "outputs": [
    {
     "name": "stdout",
     "output_type": "stream",
     "text": [
      "Gradient Boosting Cross-Validation Scores: [0.90361446 0.90963855 0.90160643 0.89558233 0.89336016]\n",
      "Mean Accuracy: 0.9007603856068135\n"
     ]
    }
   ],
   "source": [
    "gb_model = GradientBoostingClassifier()\n",
    "gb_scores = cross_val_score(gb_model, X_train, y_train, cv=5, scoring='accuracy')\n",
    "print(\"Gradient Boosting Cross-Validation Scores:\", gb_scores)\n",
    "print(\"Mean Accuracy:\", gb_scores.mean())"
   ]
  },
  {
   "cell_type": "markdown",
   "id": "2a3f6649",
   "metadata": {},
   "source": [
    "### with Support Vector Machines"
   ]
  },
  {
   "cell_type": "code",
   "execution_count": 45,
   "id": "12cb78d5",
   "metadata": {},
   "outputs": [
    {
     "name": "stdout",
     "output_type": "stream",
     "text": [
      "SVM Cross-Validation Scores: [0.88955823 0.87349398 0.86144578 0.87951807 0.861167  ]\n",
      "Mean Accuracy: 0.8730366132538201\n"
     ]
    }
   ],
   "source": [
    "svm_model = SVC()\n",
    "svm_scores = cross_val_score(svm_model, X_train, y_train, cv=5, scoring='accuracy')\n",
    "print(\"SVM Cross-Validation Scores:\", svm_scores)\n",
    "print(\"Mean Accuracy:\", svm_scores.mean())"
   ]
  },
  {
   "cell_type": "markdown",
   "id": "c380691c",
   "metadata": {},
   "source": [
    "### with Neural Networks"
   ]
  },
  {
   "cell_type": "code",
   "execution_count": 46,
   "id": "209d9d8e",
   "metadata": {},
   "outputs": [
    {
     "name": "stdout",
     "output_type": "stream",
     "text": [
      "Neural Network Cross-Validation Scores: [0.84939759 0.88955823 0.88353414 0.86947791 0.86720322]\n",
      "Mean Accuracy: 0.8718342181603678\n"
     ]
    }
   ],
   "source": [
    "nn_model = MLPClassifier()\n",
    "nn_scores = cross_val_score(nn_model, X_train, y_train, cv=5, scoring='accuracy')\n",
    "print(\"Neural Network Cross-Validation Scores:\", nn_scores)\n",
    "print(\"Mean Accuracy:\", nn_scores.mean())"
   ]
  },
  {
   "cell_type": "markdown",
   "id": "c0af9903",
   "metadata": {},
   "source": [
    "## Check for overfitting with best model"
   ]
  },
  {
   "cell_type": "code",
   "execution_count": 47,
   "id": "107d223b",
   "metadata": {},
   "outputs": [
    {
     "name": "stdout",
     "output_type": "stream",
     "text": [
      "Training Accuracy: 0.952591402169546\n",
      "Average Cross-Validation Score: 0.9007603856068135\n"
     ]
    }
   ],
   "source": [
    "gb_model = GradientBoostingClassifier()\n",
    "gb_model.fit(X_train, y_train)\n",
    "\n",
    "\n",
    "y_train_pred = gb_model.predict(X_train)\n",
    "training_accuracy = accuracy_score(y_train, y_train_pred)\n",
    "\n",
    "print(\"Training Accuracy:\", training_accuracy)\n",
    "print(\"Average Cross-Validation Score:\", np.mean(gb_scores))\n"
   ]
  },
  {
   "cell_type": "markdown",
   "id": "cb7dd00a",
   "metadata": {},
   "source": [
    "## Reduce overfitting"
   ]
  },
  {
   "cell_type": "markdown",
   "id": "1c1175dc",
   "metadata": {},
   "source": [
    "### Remove features"
   ]
  },
  {
   "cell_type": "code",
   "execution_count": 48,
   "id": "5bd0f543",
   "metadata": {},
   "outputs": [
    {
     "name": "stdout",
     "output_type": "stream",
     "text": [
      "Feature ranking:\n",
      "1. Feature E_MINRTY (0.19240727239379468)\n",
      "2. Feature E_MUNIT (0.17749941410607448)\n",
      "3. Feature E_NOVEH (0.16061784016890718)\n",
      "4. Feature FIPS (0.0846833335617661)\n",
      "5. Feature E_NOHSDP (0.052175228898418566)\n",
      "6. Feature AREA_SQMI (0.05160380021155326)\n",
      "7. Feature E_UNINSUR (0.04097070626111715)\n",
      "8. Feature E_MOBILE (0.03292312871807067)\n",
      "9. Feature E_AGE17 (0.02835371319284353)\n",
      "10. Feature E_HBURD (0.02426240293704312)\n",
      "11. Feature E_UNEMP (0.02403088324482837)\n",
      "12. Feature E_TOTPOP (0.02294072835434864)\n",
      "13. Feature E_SNGPNT (0.01809673657256739)\n",
      "14. Feature E_DAYPOP (0.017848823690595532)\n",
      "15. Feature E_LIMENG (0.0175370910652827)\n",
      "16. Feature E_AGE65 (0.013644454478390399)\n",
      "17. Feature E_HU (0.011928730477417823)\n",
      "18. Feature E_CROWD (0.009538330036982682)\n",
      "19. Feature E_HH (0.00728437789847439)\n",
      "20. Feature E_NOINT (0.00602277887790507)\n",
      "21. Feature E_DISABL (0.004408394475001316)\n",
      "22. Feature E_POV150 (0.001221830378616907)\n"
     ]
    }
   ],
   "source": [
    "gb_model.fit(X_train, y_train)\n",
    "\n",
    "feature_importances = gb_model.feature_importances_\n",
    "\n",
    "indices = np.argsort(feature_importances)[::-1]\n",
    "\n",
    "feature_names = X_train.columns\n",
    "\n",
    "# Print feature ranking\n",
    "print(\"Feature ranking:\")\n",
    "for f in range(X_train.shape[1]):\n",
    "    print(f\"{f + 1}. Feature {feature_names[indices[f]]} ({feature_importances[indices[f]]})\")"
   ]
  },
  {
   "cell_type": "code",
   "execution_count": 49,
   "id": "f72c665c",
   "metadata": {},
   "outputs": [],
   "source": [
    "squatify_df_feature_shortlist = squatify_df_cleaned.drop(columns = [\n",
    "    'FIPS',\n",
    "    'AREA_SQMI',\n",
    "    'E_NOHSDP',\n",
    "    'E_UNINSUR',\n",
    "    'E_MOBILE',\n",
    "    'E_AGE17',\n",
    "    'E_UNEMP',\n",
    "    'E_HBURD',\n",
    "    'E_TOTPOP',\n",
    "    'E_SNGPNT',\n",
    "    'E_DAYPOP',\n",
    "    'E_LIMENG',\n",
    "    'E_HU',\n",
    "    'E_AGE65',\n",
    "    'E_CROWD',\n",
    "    'E_HH',\n",
    "    'E_NOINT',\n",
    "    'E_DISABL',\n",
    "    'E_POV150'])"
   ]
  },
  {
   "cell_type": "markdown",
   "id": "c0921faa",
   "metadata": {},
   "source": [
    "### Reconduct test"
   ]
  },
  {
   "cell_type": "code",
   "execution_count": 50,
   "id": "20b5d30e",
   "metadata": {},
   "outputs": [],
   "source": [
    "X = squatify_df_feature_shortlist.drop(columns=['PARTY'])\n",
    "\n",
    "y = squatify_df_feature_shortlist['PARTY']"
   ]
  },
  {
   "cell_type": "code",
   "execution_count": 51,
   "id": "70e6f23a",
   "metadata": {},
   "outputs": [],
   "source": [
    "X_train, X_test, y_train, y_test = train_test_split(X, y, test_size=0.2, random_state=42)"
   ]
  },
  {
   "cell_type": "code",
   "execution_count": 52,
   "id": "5735f1b0",
   "metadata": {},
   "outputs": [],
   "source": [
    "scaler = StandardScaler()\n",
    "\n",
    "scaler.fit(X_train)\n",
    "\n",
    "X_train_scaled = scaler.transform(X_train)\n",
    "X_test_scaled = scaler.transform(X_test)"
   ]
  },
  {
   "cell_type": "code",
   "execution_count": 53,
   "id": "945e7300",
   "metadata": {},
   "outputs": [],
   "source": [
    "model = LogisticRegression(max_iter=10000)"
   ]
  },
  {
   "cell_type": "code",
   "execution_count": 54,
   "id": "5fc6ba75",
   "metadata": {},
   "outputs": [
    {
     "data": {
      "text/html": [
       "<style>#sk-container-id-2 {\n",
       "  /* Definition of color scheme common for light and dark mode */\n",
       "  --sklearn-color-text: black;\n",
       "  --sklearn-color-line: gray;\n",
       "  /* Definition of color scheme for unfitted estimators */\n",
       "  --sklearn-color-unfitted-level-0: #fff5e6;\n",
       "  --sklearn-color-unfitted-level-1: #f6e4d2;\n",
       "  --sklearn-color-unfitted-level-2: #ffe0b3;\n",
       "  --sklearn-color-unfitted-level-3: chocolate;\n",
       "  /* Definition of color scheme for fitted estimators */\n",
       "  --sklearn-color-fitted-level-0: #f0f8ff;\n",
       "  --sklearn-color-fitted-level-1: #d4ebff;\n",
       "  --sklearn-color-fitted-level-2: #b3dbfd;\n",
       "  --sklearn-color-fitted-level-3: cornflowerblue;\n",
       "\n",
       "  /* Specific color for light theme */\n",
       "  --sklearn-color-text-on-default-background: var(--sg-text-color, var(--theme-code-foreground, var(--jp-content-font-color1, black)));\n",
       "  --sklearn-color-background: var(--sg-background-color, var(--theme-background, var(--jp-layout-color0, white)));\n",
       "  --sklearn-color-border-box: var(--sg-text-color, var(--theme-code-foreground, var(--jp-content-font-color1, black)));\n",
       "  --sklearn-color-icon: #696969;\n",
       "\n",
       "  @media (prefers-color-scheme: dark) {\n",
       "    /* Redefinition of color scheme for dark theme */\n",
       "    --sklearn-color-text-on-default-background: var(--sg-text-color, var(--theme-code-foreground, var(--jp-content-font-color1, white)));\n",
       "    --sklearn-color-background: var(--sg-background-color, var(--theme-background, var(--jp-layout-color0, #111)));\n",
       "    --sklearn-color-border-box: var(--sg-text-color, var(--theme-code-foreground, var(--jp-content-font-color1, white)));\n",
       "    --sklearn-color-icon: #878787;\n",
       "  }\n",
       "}\n",
       "\n",
       "#sk-container-id-2 {\n",
       "  color: var(--sklearn-color-text);\n",
       "}\n",
       "\n",
       "#sk-container-id-2 pre {\n",
       "  padding: 0;\n",
       "}\n",
       "\n",
       "#sk-container-id-2 input.sk-hidden--visually {\n",
       "  border: 0;\n",
       "  clip: rect(1px 1px 1px 1px);\n",
       "  clip: rect(1px, 1px, 1px, 1px);\n",
       "  height: 1px;\n",
       "  margin: -1px;\n",
       "  overflow: hidden;\n",
       "  padding: 0;\n",
       "  position: absolute;\n",
       "  width: 1px;\n",
       "}\n",
       "\n",
       "#sk-container-id-2 div.sk-dashed-wrapped {\n",
       "  border: 1px dashed var(--sklearn-color-line);\n",
       "  margin: 0 0.4em 0.5em 0.4em;\n",
       "  box-sizing: border-box;\n",
       "  padding-bottom: 0.4em;\n",
       "  background-color: var(--sklearn-color-background);\n",
       "}\n",
       "\n",
       "#sk-container-id-2 div.sk-container {\n",
       "  /* jupyter's `normalize.less` sets `[hidden] { display: none; }`\n",
       "     but bootstrap.min.css set `[hidden] { display: none !important; }`\n",
       "     so we also need the `!important` here to be able to override the\n",
       "     default hidden behavior on the sphinx rendered scikit-learn.org.\n",
       "     See: https://github.com/scikit-learn/scikit-learn/issues/21755 */\n",
       "  display: inline-block !important;\n",
       "  position: relative;\n",
       "}\n",
       "\n",
       "#sk-container-id-2 div.sk-text-repr-fallback {\n",
       "  display: none;\n",
       "}\n",
       "\n",
       "div.sk-parallel-item,\n",
       "div.sk-serial,\n",
       "div.sk-item {\n",
       "  /* draw centered vertical line to link estimators */\n",
       "  background-image: linear-gradient(var(--sklearn-color-text-on-default-background), var(--sklearn-color-text-on-default-background));\n",
       "  background-size: 2px 100%;\n",
       "  background-repeat: no-repeat;\n",
       "  background-position: center center;\n",
       "}\n",
       "\n",
       "/* Parallel-specific style estimator block */\n",
       "\n",
       "#sk-container-id-2 div.sk-parallel-item::after {\n",
       "  content: \"\";\n",
       "  width: 100%;\n",
       "  border-bottom: 2px solid var(--sklearn-color-text-on-default-background);\n",
       "  flex-grow: 1;\n",
       "}\n",
       "\n",
       "#sk-container-id-2 div.sk-parallel {\n",
       "  display: flex;\n",
       "  align-items: stretch;\n",
       "  justify-content: center;\n",
       "  background-color: var(--sklearn-color-background);\n",
       "  position: relative;\n",
       "}\n",
       "\n",
       "#sk-container-id-2 div.sk-parallel-item {\n",
       "  display: flex;\n",
       "  flex-direction: column;\n",
       "}\n",
       "\n",
       "#sk-container-id-2 div.sk-parallel-item:first-child::after {\n",
       "  align-self: flex-end;\n",
       "  width: 50%;\n",
       "}\n",
       "\n",
       "#sk-container-id-2 div.sk-parallel-item:last-child::after {\n",
       "  align-self: flex-start;\n",
       "  width: 50%;\n",
       "}\n",
       "\n",
       "#sk-container-id-2 div.sk-parallel-item:only-child::after {\n",
       "  width: 0;\n",
       "}\n",
       "\n",
       "/* Serial-specific style estimator block */\n",
       "\n",
       "#sk-container-id-2 div.sk-serial {\n",
       "  display: flex;\n",
       "  flex-direction: column;\n",
       "  align-items: center;\n",
       "  background-color: var(--sklearn-color-background);\n",
       "  padding-right: 1em;\n",
       "  padding-left: 1em;\n",
       "}\n",
       "\n",
       "\n",
       "/* Toggleable style: style used for estimator/Pipeline/ColumnTransformer box that is\n",
       "clickable and can be expanded/collapsed.\n",
       "- Pipeline and ColumnTransformer use this feature and define the default style\n",
       "- Estimators will overwrite some part of the style using the `sk-estimator` class\n",
       "*/\n",
       "\n",
       "/* Pipeline and ColumnTransformer style (default) */\n",
       "\n",
       "#sk-container-id-2 div.sk-toggleable {\n",
       "  /* Default theme specific background. It is overwritten whether we have a\n",
       "  specific estimator or a Pipeline/ColumnTransformer */\n",
       "  background-color: var(--sklearn-color-background);\n",
       "}\n",
       "\n",
       "/* Toggleable label */\n",
       "#sk-container-id-2 label.sk-toggleable__label {\n",
       "  cursor: pointer;\n",
       "  display: block;\n",
       "  width: 100%;\n",
       "  margin-bottom: 0;\n",
       "  padding: 0.5em;\n",
       "  box-sizing: border-box;\n",
       "  text-align: center;\n",
       "}\n",
       "\n",
       "#sk-container-id-2 label.sk-toggleable__label-arrow:before {\n",
       "  /* Arrow on the left of the label */\n",
       "  content: \"▸\";\n",
       "  float: left;\n",
       "  margin-right: 0.25em;\n",
       "  color: var(--sklearn-color-icon);\n",
       "}\n",
       "\n",
       "#sk-container-id-2 label.sk-toggleable__label-arrow:hover:before {\n",
       "  color: var(--sklearn-color-text);\n",
       "}\n",
       "\n",
       "/* Toggleable content - dropdown */\n",
       "\n",
       "#sk-container-id-2 div.sk-toggleable__content {\n",
       "  max-height: 0;\n",
       "  max-width: 0;\n",
       "  overflow: hidden;\n",
       "  text-align: left;\n",
       "  /* unfitted */\n",
       "  background-color: var(--sklearn-color-unfitted-level-0);\n",
       "}\n",
       "\n",
       "#sk-container-id-2 div.sk-toggleable__content.fitted {\n",
       "  /* fitted */\n",
       "  background-color: var(--sklearn-color-fitted-level-0);\n",
       "}\n",
       "\n",
       "#sk-container-id-2 div.sk-toggleable__content pre {\n",
       "  margin: 0.2em;\n",
       "  border-radius: 0.25em;\n",
       "  color: var(--sklearn-color-text);\n",
       "  /* unfitted */\n",
       "  background-color: var(--sklearn-color-unfitted-level-0);\n",
       "}\n",
       "\n",
       "#sk-container-id-2 div.sk-toggleable__content.fitted pre {\n",
       "  /* unfitted */\n",
       "  background-color: var(--sklearn-color-fitted-level-0);\n",
       "}\n",
       "\n",
       "#sk-container-id-2 input.sk-toggleable__control:checked~div.sk-toggleable__content {\n",
       "  /* Expand drop-down */\n",
       "  max-height: 200px;\n",
       "  max-width: 100%;\n",
       "  overflow: auto;\n",
       "}\n",
       "\n",
       "#sk-container-id-2 input.sk-toggleable__control:checked~label.sk-toggleable__label-arrow:before {\n",
       "  content: \"▾\";\n",
       "}\n",
       "\n",
       "/* Pipeline/ColumnTransformer-specific style */\n",
       "\n",
       "#sk-container-id-2 div.sk-label input.sk-toggleable__control:checked~label.sk-toggleable__label {\n",
       "  color: var(--sklearn-color-text);\n",
       "  background-color: var(--sklearn-color-unfitted-level-2);\n",
       "}\n",
       "\n",
       "#sk-container-id-2 div.sk-label.fitted input.sk-toggleable__control:checked~label.sk-toggleable__label {\n",
       "  background-color: var(--sklearn-color-fitted-level-2);\n",
       "}\n",
       "\n",
       "/* Estimator-specific style */\n",
       "\n",
       "/* Colorize estimator box */\n",
       "#sk-container-id-2 div.sk-estimator input.sk-toggleable__control:checked~label.sk-toggleable__label {\n",
       "  /* unfitted */\n",
       "  background-color: var(--sklearn-color-unfitted-level-2);\n",
       "}\n",
       "\n",
       "#sk-container-id-2 div.sk-estimator.fitted input.sk-toggleable__control:checked~label.sk-toggleable__label {\n",
       "  /* fitted */\n",
       "  background-color: var(--sklearn-color-fitted-level-2);\n",
       "}\n",
       "\n",
       "#sk-container-id-2 div.sk-label label.sk-toggleable__label,\n",
       "#sk-container-id-2 div.sk-label label {\n",
       "  /* The background is the default theme color */\n",
       "  color: var(--sklearn-color-text-on-default-background);\n",
       "}\n",
       "\n",
       "/* On hover, darken the color of the background */\n",
       "#sk-container-id-2 div.sk-label:hover label.sk-toggleable__label {\n",
       "  color: var(--sklearn-color-text);\n",
       "  background-color: var(--sklearn-color-unfitted-level-2);\n",
       "}\n",
       "\n",
       "/* Label box, darken color on hover, fitted */\n",
       "#sk-container-id-2 div.sk-label.fitted:hover label.sk-toggleable__label.fitted {\n",
       "  color: var(--sklearn-color-text);\n",
       "  background-color: var(--sklearn-color-fitted-level-2);\n",
       "}\n",
       "\n",
       "/* Estimator label */\n",
       "\n",
       "#sk-container-id-2 div.sk-label label {\n",
       "  font-family: monospace;\n",
       "  font-weight: bold;\n",
       "  display: inline-block;\n",
       "  line-height: 1.2em;\n",
       "}\n",
       "\n",
       "#sk-container-id-2 div.sk-label-container {\n",
       "  text-align: center;\n",
       "}\n",
       "\n",
       "/* Estimator-specific */\n",
       "#sk-container-id-2 div.sk-estimator {\n",
       "  font-family: monospace;\n",
       "  border: 1px dotted var(--sklearn-color-border-box);\n",
       "  border-radius: 0.25em;\n",
       "  box-sizing: border-box;\n",
       "  margin-bottom: 0.5em;\n",
       "  /* unfitted */\n",
       "  background-color: var(--sklearn-color-unfitted-level-0);\n",
       "}\n",
       "\n",
       "#sk-container-id-2 div.sk-estimator.fitted {\n",
       "  /* fitted */\n",
       "  background-color: var(--sklearn-color-fitted-level-0);\n",
       "}\n",
       "\n",
       "/* on hover */\n",
       "#sk-container-id-2 div.sk-estimator:hover {\n",
       "  /* unfitted */\n",
       "  background-color: var(--sklearn-color-unfitted-level-2);\n",
       "}\n",
       "\n",
       "#sk-container-id-2 div.sk-estimator.fitted:hover {\n",
       "  /* fitted */\n",
       "  background-color: var(--sklearn-color-fitted-level-2);\n",
       "}\n",
       "\n",
       "/* Specification for estimator info (e.g. \"i\" and \"?\") */\n",
       "\n",
       "/* Common style for \"i\" and \"?\" */\n",
       "\n",
       ".sk-estimator-doc-link,\n",
       "a:link.sk-estimator-doc-link,\n",
       "a:visited.sk-estimator-doc-link {\n",
       "  float: right;\n",
       "  font-size: smaller;\n",
       "  line-height: 1em;\n",
       "  font-family: monospace;\n",
       "  background-color: var(--sklearn-color-background);\n",
       "  border-radius: 1em;\n",
       "  height: 1em;\n",
       "  width: 1em;\n",
       "  text-decoration: none !important;\n",
       "  margin-left: 1ex;\n",
       "  /* unfitted */\n",
       "  border: var(--sklearn-color-unfitted-level-1) 1pt solid;\n",
       "  color: var(--sklearn-color-unfitted-level-1);\n",
       "}\n",
       "\n",
       ".sk-estimator-doc-link.fitted,\n",
       "a:link.sk-estimator-doc-link.fitted,\n",
       "a:visited.sk-estimator-doc-link.fitted {\n",
       "  /* fitted */\n",
       "  border: var(--sklearn-color-fitted-level-1) 1pt solid;\n",
       "  color: var(--sklearn-color-fitted-level-1);\n",
       "}\n",
       "\n",
       "/* On hover */\n",
       "div.sk-estimator:hover .sk-estimator-doc-link:hover,\n",
       ".sk-estimator-doc-link:hover,\n",
       "div.sk-label-container:hover .sk-estimator-doc-link:hover,\n",
       ".sk-estimator-doc-link:hover {\n",
       "  /* unfitted */\n",
       "  background-color: var(--sklearn-color-unfitted-level-3);\n",
       "  color: var(--sklearn-color-background);\n",
       "  text-decoration: none;\n",
       "}\n",
       "\n",
       "div.sk-estimator.fitted:hover .sk-estimator-doc-link.fitted:hover,\n",
       ".sk-estimator-doc-link.fitted:hover,\n",
       "div.sk-label-container:hover .sk-estimator-doc-link.fitted:hover,\n",
       ".sk-estimator-doc-link.fitted:hover {\n",
       "  /* fitted */\n",
       "  background-color: var(--sklearn-color-fitted-level-3);\n",
       "  color: var(--sklearn-color-background);\n",
       "  text-decoration: none;\n",
       "}\n",
       "\n",
       "/* Span, style for the box shown on hovering the info icon */\n",
       ".sk-estimator-doc-link span {\n",
       "  display: none;\n",
       "  z-index: 9999;\n",
       "  position: relative;\n",
       "  font-weight: normal;\n",
       "  right: .2ex;\n",
       "  padding: .5ex;\n",
       "  margin: .5ex;\n",
       "  width: min-content;\n",
       "  min-width: 20ex;\n",
       "  max-width: 50ex;\n",
       "  color: var(--sklearn-color-text);\n",
       "  box-shadow: 2pt 2pt 4pt #999;\n",
       "  /* unfitted */\n",
       "  background: var(--sklearn-color-unfitted-level-0);\n",
       "  border: .5pt solid var(--sklearn-color-unfitted-level-3);\n",
       "}\n",
       "\n",
       ".sk-estimator-doc-link.fitted span {\n",
       "  /* fitted */\n",
       "  background: var(--sklearn-color-fitted-level-0);\n",
       "  border: var(--sklearn-color-fitted-level-3);\n",
       "}\n",
       "\n",
       ".sk-estimator-doc-link:hover span {\n",
       "  display: block;\n",
       "}\n",
       "\n",
       "/* \"?\"-specific style due to the `<a>` HTML tag */\n",
       "\n",
       "#sk-container-id-2 a.estimator_doc_link {\n",
       "  float: right;\n",
       "  font-size: 1rem;\n",
       "  line-height: 1em;\n",
       "  font-family: monospace;\n",
       "  background-color: var(--sklearn-color-background);\n",
       "  border-radius: 1rem;\n",
       "  height: 1rem;\n",
       "  width: 1rem;\n",
       "  text-decoration: none;\n",
       "  /* unfitted */\n",
       "  color: var(--sklearn-color-unfitted-level-1);\n",
       "  border: var(--sklearn-color-unfitted-level-1) 1pt solid;\n",
       "}\n",
       "\n",
       "#sk-container-id-2 a.estimator_doc_link.fitted {\n",
       "  /* fitted */\n",
       "  border: var(--sklearn-color-fitted-level-1) 1pt solid;\n",
       "  color: var(--sklearn-color-fitted-level-1);\n",
       "}\n",
       "\n",
       "/* On hover */\n",
       "#sk-container-id-2 a.estimator_doc_link:hover {\n",
       "  /* unfitted */\n",
       "  background-color: var(--sklearn-color-unfitted-level-3);\n",
       "  color: var(--sklearn-color-background);\n",
       "  text-decoration: none;\n",
       "}\n",
       "\n",
       "#sk-container-id-2 a.estimator_doc_link.fitted:hover {\n",
       "  /* fitted */\n",
       "  background-color: var(--sklearn-color-fitted-level-3);\n",
       "}\n",
       "</style><div id=\"sk-container-id-2\" class=\"sk-top-container\"><div class=\"sk-text-repr-fallback\"><pre>LogisticRegression(max_iter=10000)</pre><b>In a Jupyter environment, please rerun this cell to show the HTML representation or trust the notebook. <br />On GitHub, the HTML representation is unable to render, please try loading this page with nbviewer.org.</b></div><div class=\"sk-container\" hidden><div class=\"sk-item\"><div class=\"sk-estimator fitted sk-toggleable\"><input class=\"sk-toggleable__control sk-hidden--visually\" id=\"sk-estimator-id-2\" type=\"checkbox\" checked><label for=\"sk-estimator-id-2\" class=\"sk-toggleable__label fitted sk-toggleable__label-arrow fitted\">&nbsp;&nbsp;LogisticRegression<a class=\"sk-estimator-doc-link fitted\" rel=\"noreferrer\" target=\"_blank\" href=\"https://scikit-learn.org/1.4/modules/generated/sklearn.linear_model.LogisticRegression.html\">?<span>Documentation for LogisticRegression</span></a><span class=\"sk-estimator-doc-link fitted\">i<span>Fitted</span></span></label><div class=\"sk-toggleable__content fitted\"><pre>LogisticRegression(max_iter=10000)</pre></div> </div></div></div></div>"
      ],
      "text/plain": [
       "LogisticRegression(max_iter=10000)"
      ]
     },
     "execution_count": 54,
     "metadata": {},
     "output_type": "execute_result"
    }
   ],
   "source": [
    "model.fit(X_train, y_train)"
   ]
  },
  {
   "cell_type": "code",
   "execution_count": 55,
   "id": "55960a36",
   "metadata": {},
   "outputs": [],
   "source": [
    "y_pred = model.predict(X_test)"
   ]
  },
  {
   "cell_type": "code",
   "execution_count": 56,
   "id": "97d0d149",
   "metadata": {},
   "outputs": [
    {
     "name": "stdout",
     "output_type": "stream",
     "text": [
      "Logistic Regression Cross-Validation Scores: [0.89156627 0.87951807 0.86546185 0.87951807 0.86519115]\n",
      "Mean Accuracy: 0.87625108078188\n"
     ]
    }
   ],
   "source": [
    "logistic_model = LogisticRegression(max_iter=10000)\n",
    "logistic_scores = cross_val_score(logistic_model, X_train, y_train, cv=5, scoring='accuracy')\n",
    "print(\"Logistic Regression Cross-Validation Scores:\", logistic_scores)\n",
    "print(\"Mean Accuracy:\", logistic_scores.mean())"
   ]
  },
  {
   "cell_type": "code",
   "execution_count": 57,
   "id": "b7d671c7",
   "metadata": {},
   "outputs": [
    {
     "name": "stdout",
     "output_type": "stream",
     "text": [
      "KNN Cross-Validation Scores: [0.86546185 0.86345382 0.87148594 0.8875502  0.85513078]\n",
      "Mean Accuracy: 0.868616518387433\n"
     ]
    }
   ],
   "source": [
    "knn_model = KNeighborsClassifier()\n",
    "knn_scores = cross_val_score(knn_model, X_train, y_train, cv=5, scoring='accuracy')\n",
    "print(\"KNN Cross-Validation Scores:\", knn_scores)\n",
    "print(\"Mean Accuracy:\", knn_scores.mean())"
   ]
  },
  {
   "cell_type": "code",
   "execution_count": 58,
   "id": "a5ae701b",
   "metadata": {},
   "outputs": [
    {
     "name": "stdout",
     "output_type": "stream",
     "text": [
      "Decision Tree Cross-Validation Scores: [0.8313253  0.80522088 0.82730924 0.81726908 0.81086519]\n",
      "Mean Accuracy: 0.8183979378277698\n"
     ]
    }
   ],
   "source": [
    "dt_model = DecisionTreeClassifier()\n",
    "dt_scores = cross_val_score(dt_model, X_train, y_train, cv=5, scoring='accuracy')\n",
    "print(\"Decision Tree Cross-Validation Scores:\", dt_scores)\n",
    "print(\"Mean Accuracy:\", dt_scores.mean())"
   ]
  },
  {
   "cell_type": "code",
   "execution_count": 59,
   "id": "8ce3e3cd",
   "metadata": {},
   "outputs": [
    {
     "name": "stdout",
     "output_type": "stream",
     "text": [
      "Random Forest Cross-Validation Scores: [0.87550201 0.86546185 0.85943775 0.8815261  0.85714286]\n",
      "Mean Accuracy: 0.867814113597246\n"
     ]
    }
   ],
   "source": [
    "rf_model = RandomForestClassifier()\n",
    "rf_scores = cross_val_score(rf_model, X_train, y_train, cv=5, scoring='accuracy')\n",
    "print(\"Random Forest Cross-Validation Scores:\", rf_scores)\n",
    "print(\"Mean Accuracy:\", rf_scores.mean())"
   ]
  },
  {
   "cell_type": "code",
   "execution_count": 60,
   "id": "77f89ac6",
   "metadata": {},
   "outputs": [
    {
     "name": "stdout",
     "output_type": "stream",
     "text": [
      "Gradient Boosting Cross-Validation Scores: [0.86746988 0.86144578 0.86144578 0.89558233 0.85513078]\n",
      "Mean Accuracy: 0.8682149119617304\n"
     ]
    }
   ],
   "source": [
    "gb_model = GradientBoostingClassifier()\n",
    "gb_scores = cross_val_score(gb_model, X_train, y_train, cv=5, scoring='accuracy')\n",
    "print(\"Gradient Boosting Cross-Validation Scores:\", gb_scores)\n",
    "print(\"Mean Accuracy:\", gb_scores.mean())"
   ]
  },
  {
   "cell_type": "code",
   "execution_count": 61,
   "id": "b0503b82",
   "metadata": {},
   "outputs": [
    {
     "name": "stdout",
     "output_type": "stream",
     "text": [
      "SVM Cross-Validation Scores: [0.8875502  0.87148594 0.86746988 0.88554217 0.86519115]\n",
      "Mean Accuracy: 0.8754478679304745\n"
     ]
    }
   ],
   "source": [
    "svm_model = SVC()\n",
    "svm_scores = cross_val_score(svm_model, X_train, y_train, cv=5, scoring='accuracy')\n",
    "print(\"SVM Cross-Validation Scores:\", svm_scores)\n",
    "print(\"Mean Accuracy:\", svm_scores.mean())"
   ]
  },
  {
   "cell_type": "code",
   "execution_count": 62,
   "id": "3f11346c",
   "metadata": {},
   "outputs": [
    {
     "name": "stdout",
     "output_type": "stream",
     "text": [
      "Neural Network Cross-Validation Scores: [0.7811245  0.81526104 0.82329317 0.79317269 0.64788732]\n",
      "Mean Accuracy: 0.7721477459132304\n"
     ]
    }
   ],
   "source": [
    "nn_model = MLPClassifier()\n",
    "nn_scores = cross_val_score(nn_model, X_train, y_train, cv=5, scoring='accuracy')\n",
    "print(\"Neural Network Cross-Validation Scores:\", nn_scores)\n",
    "print(\"Mean Accuracy:\", nn_scores.mean())"
   ]
  },
  {
   "cell_type": "markdown",
   "id": "c93f7d33",
   "metadata": {},
   "source": [
    "### check for overfitting with best model"
   ]
  },
  {
   "cell_type": "code",
   "execution_count": 70,
   "id": "f68b7555",
   "metadata": {},
   "outputs": [
    {
     "name": "stdout",
     "output_type": "stream",
     "text": [
      "Training Accuracy: 0.875050220972278\n",
      "Average Cross-Validation Score: 0.87625108078188\n"
     ]
    }
   ],
   "source": [
    "logistic_model = LogisticRegression()\n",
    "\n",
    "logistic_model.fit(X_train, y_train)\n",
    "\n",
    "y_train_pred = logistic_model.predict(X_train)\n",
    "training_accuracy = accuracy_score(y_train, y_train_pred)\n",
    "print(\"Training Accuracy:\", training_accuracy)\n",
    "\n",
    "logistic_scores = cross_val_score(logistic_model, X_train, y_train, cv=5)\n",
    "\n",
    "avg_cv_score = np.mean(logistic_scores)\n",
    "print(\"Average Cross-Validation Score:\", avg_cv_score)"
   ]
  },
  {
   "cell_type": "markdown",
   "id": "dfa2765a",
   "metadata": {},
   "source": [
    "## Check confusion matrix"
   ]
  },
  {
   "cell_type": "code",
   "execution_count": 74,
   "id": "3c7f5c5e",
   "metadata": {
    "scrolled": true
   },
   "outputs": [
    {
     "data": {
      "image/png": "[encoded data removed]",
      "text/plain": [
       "<Figure size 800x600 with 2 Axes>"
      ]
     },
     "metadata": {},
     "output_type": "display_data"
    }
   ],
   "source": [
    "conf_matrix = confusion_matrix(y_train, y_train_pred)\n",
    "\n",
    "plt.figure(figsize=(8, 6))\n",
    "sns.heatmap(conf_matrix, annot=True, fmt=\"d\", cmap=\"Blues\")\n",
    "plt.title(\"Confusion Matrix\")\n",
    "plt.xlabel(\"Predicted Label\")\n",
    "plt.ylabel(\"True Label\")\n",
    "plt.show()"
   ]
  },
  {
   "cell_type": "markdown",
   "id": "fbc8e4d5",
   "metadata": {},
   "source": [
    "## Balance dataset"
   ]
  },
  {
   "cell_type": "code",
   "execution_count": 75,
   "id": "de073ab6",
   "metadata": {},
   "outputs": [
    {
     "data": {
      "text/plain": [
       "PARTY\n",
       "REPUBLICAN    2067\n",
       "DEMOCRAT       422\n",
       "Name: count, dtype: int64"
      ]
     },
     "execution_count": 75,
     "metadata": {},
     "output_type": "execute_result"
    }
   ],
   "source": [
    "y_train.value_counts()"
   ]
  },
  {
   "cell_type": "code",
   "execution_count": 77,
   "id": "34fb0919",
   "metadata": {},
   "outputs": [],
   "source": [
    "smote = SMOTE(random_state=42)\n",
    "\n",
    "X_sm, y_sm = smote.fit_resample(X_train, y_train)"
   ]
  },
  {
   "cell_type": "code",
   "execution_count": 84,
   "id": "f25b4160",
   "metadata": {},
   "outputs": [
    {
     "data": {
      "text/plain": [
       "PARTY\n",
       "REPUBLICAN    2067\n",
       "DEMOCRAT      2067\n",
       "Name: count, dtype: int64"
      ]
     },
     "execution_count": 84,
     "metadata": {},
     "output_type": "execute_result"
    }
   ],
   "source": [
    "y_sm.value_counts()"
   ]
  },
  {
   "cell_type": "code",
   "execution_count": 107,
   "id": "3f0ae8a0",
   "metadata": {},
   "outputs": [
    {
     "data": {
      "text/html": [
       "<style>#sk-container-id-6 {\n",
       "  /* Definition of color scheme common for light and dark mode */\n",
       "  --sklearn-color-text: black;\n",
       "  --sklearn-color-line: gray;\n",
       "  /* Definition of color scheme for unfitted estimators */\n",
       "  --sklearn-color-unfitted-level-0: #fff5e6;\n",
       "  --sklearn-color-unfitted-level-1: #f6e4d2;\n",
       "  --sklearn-color-unfitted-level-2: #ffe0b3;\n",
       "  --sklearn-color-unfitted-level-3: chocolate;\n",
       "  /* Definition of color scheme for fitted estimators */\n",
       "  --sklearn-color-fitted-level-0: #f0f8ff;\n",
       "  --sklearn-color-fitted-level-1: #d4ebff;\n",
       "  --sklearn-color-fitted-level-2: #b3dbfd;\n",
       "  --sklearn-color-fitted-level-3: cornflowerblue;\n",
       "\n",
       "  /* Specific color for light theme */\n",
       "  --sklearn-color-text-on-default-background: var(--sg-text-color, var(--theme-code-foreground, var(--jp-content-font-color1, black)));\n",
       "  --sklearn-color-background: var(--sg-background-color, var(--theme-background, var(--jp-layout-color0, white)));\n",
       "  --sklearn-color-border-box: var(--sg-text-color, var(--theme-code-foreground, var(--jp-content-font-color1, black)));\n",
       "  --sklearn-color-icon: #696969;\n",
       "\n",
       "  @media (prefers-color-scheme: dark) {\n",
       "    /* Redefinition of color scheme for dark theme */\n",
       "    --sklearn-color-text-on-default-background: var(--sg-text-color, var(--theme-code-foreground, var(--jp-content-font-color1, white)));\n",
       "    --sklearn-color-background: var(--sg-background-color, var(--theme-background, var(--jp-layout-color0, #111)));\n",
       "    --sklearn-color-border-box: var(--sg-text-color, var(--theme-code-foreground, var(--jp-content-font-color1, white)));\n",
       "    --sklearn-color-icon: #878787;\n",
       "  }\n",
       "}\n",
       "\n",
       "#sk-container-id-6 {\n",
       "  color: var(--sklearn-color-text);\n",
       "}\n",
       "\n",
       "#sk-container-id-6 pre {\n",
       "  padding: 0;\n",
       "}\n",
       "\n",
       "#sk-container-id-6 input.sk-hidden--visually {\n",
       "  border: 0;\n",
       "  clip: rect(1px 1px 1px 1px);\n",
       "  clip: rect(1px, 1px, 1px, 1px);\n",
       "  height: 1px;\n",
       "  margin: -1px;\n",
       "  overflow: hidden;\n",
       "  padding: 0;\n",
       "  position: absolute;\n",
       "  width: 1px;\n",
       "}\n",
       "\n",
       "#sk-container-id-6 div.sk-dashed-wrapped {\n",
       "  border: 1px dashed var(--sklearn-color-line);\n",
       "  margin: 0 0.4em 0.5em 0.4em;\n",
       "  box-sizing: border-box;\n",
       "  padding-bottom: 0.4em;\n",
       "  background-color: var(--sklearn-color-background);\n",
       "}\n",
       "\n",
       "#sk-container-id-6 div.sk-container {\n",
       "  /* jupyter's `normalize.less` sets `[hidden] { display: none; }`\n",
       "     but bootstrap.min.css set `[hidden] { display: none !important; }`\n",
       "     so we also need the `!important` here to be able to override the\n",
       "     default hidden behavior on the sphinx rendered scikit-learn.org.\n",
       "     See: https://github.com/scikit-learn/scikit-learn/issues/21755 */\n",
       "  display: inline-block !important;\n",
       "  position: relative;\n",
       "}\n",
       "\n",
       "#sk-container-id-6 div.sk-text-repr-fallback {\n",
       "  display: none;\n",
       "}\n",
       "\n",
       "div.sk-parallel-item,\n",
       "div.sk-serial,\n",
       "div.sk-item {\n",
       "  /* draw centered vertical line to link estimators */\n",
       "  background-image: linear-gradient(var(--sklearn-color-text-on-default-background), var(--sklearn-color-text-on-default-background));\n",
       "  background-size: 2px 100%;\n",
       "  background-repeat: no-repeat;\n",
       "  background-position: center center;\n",
       "}\n",
       "\n",
       "/* Parallel-specific style estimator block */\n",
       "\n",
       "#sk-container-id-6 div.sk-parallel-item::after {\n",
       "  content: \"\";\n",
       "  width: 100%;\n",
       "  border-bottom: 2px solid var(--sklearn-color-text-on-default-background);\n",
       "  flex-grow: 1;\n",
       "}\n",
       "\n",
       "#sk-container-id-6 div.sk-parallel {\n",
       "  display: flex;\n",
       "  align-items: stretch;\n",
       "  justify-content: center;\n",
       "  background-color: var(--sklearn-color-background);\n",
       "  position: relative;\n",
       "}\n",
       "\n",
       "#sk-container-id-6 div.sk-parallel-item {\n",
       "  display: flex;\n",
       "  flex-direction: column;\n",
       "}\n",
       "\n",
       "#sk-container-id-6 div.sk-parallel-item:first-child::after {\n",
       "  align-self: flex-end;\n",
       "  width: 50%;\n",
       "}\n",
       "\n",
       "#sk-container-id-6 div.sk-parallel-item:last-child::after {\n",
       "  align-self: flex-start;\n",
       "  width: 50%;\n",
       "}\n",
       "\n",
       "#sk-container-id-6 div.sk-parallel-item:only-child::after {\n",
       "  width: 0;\n",
       "}\n",
       "\n",
       "/* Serial-specific style estimator block */\n",
       "\n",
       "#sk-container-id-6 div.sk-serial {\n",
       "  display: flex;\n",
       "  flex-direction: column;\n",
       "  align-items: center;\n",
       "  background-color: var(--sklearn-color-background);\n",
       "  padding-right: 1em;\n",
       "  padding-left: 1em;\n",
       "}\n",
       "\n",
       "\n",
       "/* Toggleable style: style used for estimator/Pipeline/ColumnTransformer box that is\n",
       "clickable and can be expanded/collapsed.\n",
       "- Pipeline and ColumnTransformer use this feature and define the default style\n",
       "- Estimators will overwrite some part of the style using the `sk-estimator` class\n",
       "*/\n",
       "\n",
       "/* Pipeline and ColumnTransformer style (default) */\n",
       "\n",
       "#sk-container-id-6 div.sk-toggleable {\n",
       "  /* Default theme specific background. It is overwritten whether we have a\n",
       "  specific estimator or a Pipeline/ColumnTransformer */\n",
       "  background-color: var(--sklearn-color-background);\n",
       "}\n",
       "\n",
       "/* Toggleable label */\n",
       "#sk-container-id-6 label.sk-toggleable__label {\n",
       "  cursor: pointer;\n",
       "  display: block;\n",
       "  width: 100%;\n",
       "  margin-bottom: 0;\n",
       "  padding: 0.5em;\n",
       "  box-sizing: border-box;\n",
       "  text-align: center;\n",
       "}\n",
       "\n",
       "#sk-container-id-6 label.sk-toggleable__label-arrow:before {\n",
       "  /* Arrow on the left of the label */\n",
       "  content: \"▸\";\n",
       "  float: left;\n",
       "  margin-right: 0.25em;\n",
       "  color: var(--sklearn-color-icon);\n",
       "}\n",
       "\n",
       "#sk-container-id-6 label.sk-toggleable__label-arrow:hover:before {\n",
       "  color: var(--sklearn-color-text);\n",
       "}\n",
       "\n",
       "/* Toggleable content - dropdown */\n",
       "\n",
       "#sk-container-id-6 div.sk-toggleable__content {\n",
       "  max-height: 0;\n",
       "  max-width: 0;\n",
       "  overflow: hidden;\n",
       "  text-align: left;\n",
       "  /* unfitted */\n",
       "  background-color: var(--sklearn-color-unfitted-level-0);\n",
       "}\n",
       "\n",
       "#sk-container-id-6 div.sk-toggleable__content.fitted {\n",
       "  /* fitted */\n",
       "  background-color: var(--sklearn-color-fitted-level-0);\n",
       "}\n",
       "\n",
       "#sk-container-id-6 div.sk-toggleable__content pre {\n",
       "  margin: 0.2em;\n",
       "  border-radius: 0.25em;\n",
       "  color: var(--sklearn-color-text);\n",
       "  /* unfitted */\n",
       "  background-color: var(--sklearn-color-unfitted-level-0);\n",
       "}\n",
       "\n",
       "#sk-container-id-6 div.sk-toggleable__content.fitted pre {\n",
       "  /* unfitted */\n",
       "  background-color: var(--sklearn-color-fitted-level-0);\n",
       "}\n",
       "\n",
       "#sk-container-id-6 input.sk-toggleable__control:checked~div.sk-toggleable__content {\n",
       "  /* Expand drop-down */\n",
       "  max-height: 200px;\n",
       "  max-width: 100%;\n",
       "  overflow: auto;\n",
       "}\n",
       "\n",
       "#sk-container-id-6 input.sk-toggleable__control:checked~label.sk-toggleable__label-arrow:before {\n",
       "  content: \"▾\";\n",
       "}\n",
       "\n",
       "/* Pipeline/ColumnTransformer-specific style */\n",
       "\n",
       "#sk-container-id-6 div.sk-label input.sk-toggleable__control:checked~label.sk-toggleable__label {\n",
       "  color: var(--sklearn-color-text);\n",
       "  background-color: var(--sklearn-color-unfitted-level-2);\n",
       "}\n",
       "\n",
       "#sk-container-id-6 div.sk-label.fitted input.sk-toggleable__control:checked~label.sk-toggleable__label {\n",
       "  background-color: var(--sklearn-color-fitted-level-2);\n",
       "}\n",
       "\n",
       "/* Estimator-specific style */\n",
       "\n",
       "/* Colorize estimator box */\n",
       "#sk-container-id-6 div.sk-estimator input.sk-toggleable__control:checked~label.sk-toggleable__label {\n",
       "  /* unfitted */\n",
       "  background-color: var(--sklearn-color-unfitted-level-2);\n",
       "}\n",
       "\n",
       "#sk-container-id-6 div.sk-estimator.fitted input.sk-toggleable__control:checked~label.sk-toggleable__label {\n",
       "  /* fitted */\n",
       "  background-color: var(--sklearn-color-fitted-level-2);\n",
       "}\n",
       "\n",
       "#sk-container-id-6 div.sk-label label.sk-toggleable__label,\n",
       "#sk-container-id-6 div.sk-label label {\n",
       "  /* The background is the default theme color */\n",
       "  color: var(--sklearn-color-text-on-default-background);\n",
       "}\n",
       "\n",
       "/* On hover, darken the color of the background */\n",
       "#sk-container-id-6 div.sk-label:hover label.sk-toggleable__label {\n",
       "  color: var(--sklearn-color-text);\n",
       "  background-color: var(--sklearn-color-unfitted-level-2);\n",
       "}\n",
       "\n",
       "/* Label box, darken color on hover, fitted */\n",
       "#sk-container-id-6 div.sk-label.fitted:hover label.sk-toggleable__label.fitted {\n",
       "  color: var(--sklearn-color-text);\n",
       "  background-color: var(--sklearn-color-fitted-level-2);\n",
       "}\n",
       "\n",
       "/* Estimator label */\n",
       "\n",
       "#sk-container-id-6 div.sk-label label {\n",
       "  font-family: monospace;\n",
       "  font-weight: bold;\n",
       "  display: inline-block;\n",
       "  line-height: 1.2em;\n",
       "}\n",
       "\n",
       "#sk-container-id-6 div.sk-label-container {\n",
       "  text-align: center;\n",
       "}\n",
       "\n",
       "/* Estimator-specific */\n",
       "#sk-container-id-6 div.sk-estimator {\n",
       "  font-family: monospace;\n",
       "  border: 1px dotted var(--sklearn-color-border-box);\n",
       "  border-radius: 0.25em;\n",
       "  box-sizing: border-box;\n",
       "  margin-bottom: 0.5em;\n",
       "  /* unfitted */\n",
       "  background-color: var(--sklearn-color-unfitted-level-0);\n",
       "}\n",
       "\n",
       "#sk-container-id-6 div.sk-estimator.fitted {\n",
       "  /* fitted */\n",
       "  background-color: var(--sklearn-color-fitted-level-0);\n",
       "}\n",
       "\n",
       "/* on hover */\n",
       "#sk-container-id-6 div.sk-estimator:hover {\n",
       "  /* unfitted */\n",
       "  background-color: var(--sklearn-color-unfitted-level-2);\n",
       "}\n",
       "\n",
       "#sk-container-id-6 div.sk-estimator.fitted:hover {\n",
       "  /* fitted */\n",
       "  background-color: var(--sklearn-color-fitted-level-2);\n",
       "}\n",
       "\n",
       "/* Specification for estimator info (e.g. \"i\" and \"?\") */\n",
       "\n",
       "/* Common style for \"i\" and \"?\" */\n",
       "\n",
       ".sk-estimator-doc-link,\n",
       "a:link.sk-estimator-doc-link,\n",
       "a:visited.sk-estimator-doc-link {\n",
       "  float: right;\n",
       "  font-size: smaller;\n",
       "  line-height: 1em;\n",
       "  font-family: monospace;\n",
       "  background-color: var(--sklearn-color-background);\n",
       "  border-radius: 1em;\n",
       "  height: 1em;\n",
       "  width: 1em;\n",
       "  text-decoration: none !important;\n",
       "  margin-left: 1ex;\n",
       "  /* unfitted */\n",
       "  border: var(--sklearn-color-unfitted-level-1) 1pt solid;\n",
       "  color: var(--sklearn-color-unfitted-level-1);\n",
       "}\n",
       "\n",
       ".sk-estimator-doc-link.fitted,\n",
       "a:link.sk-estimator-doc-link.fitted,\n",
       "a:visited.sk-estimator-doc-link.fitted {\n",
       "  /* fitted */\n",
       "  border: var(--sklearn-color-fitted-level-1) 1pt solid;\n",
       "  color: var(--sklearn-color-fitted-level-1);\n",
       "}\n",
       "\n",
       "/* On hover */\n",
       "div.sk-estimator:hover .sk-estimator-doc-link:hover,\n",
       ".sk-estimator-doc-link:hover,\n",
       "div.sk-label-container:hover .sk-estimator-doc-link:hover,\n",
       ".sk-estimator-doc-link:hover {\n",
       "  /* unfitted */\n",
       "  background-color: var(--sklearn-color-unfitted-level-3);\n",
       "  color: var(--sklearn-color-background);\n",
       "  text-decoration: none;\n",
       "}\n",
       "\n",
       "div.sk-estimator.fitted:hover .sk-estimator-doc-link.fitted:hover,\n",
       ".sk-estimator-doc-link.fitted:hover,\n",
       "div.sk-label-container:hover .sk-estimator-doc-link.fitted:hover,\n",
       ".sk-estimator-doc-link.fitted:hover {\n",
       "  /* fitted */\n",
       "  background-color: var(--sklearn-color-fitted-level-3);\n",
       "  color: var(--sklearn-color-background);\n",
       "  text-decoration: none;\n",
       "}\n",
       "\n",
       "/* Span, style for the box shown on hovering the info icon */\n",
       ".sk-estimator-doc-link span {\n",
       "  display: none;\n",
       "  z-index: 9999;\n",
       "  position: relative;\n",
       "  font-weight: normal;\n",
       "  right: .2ex;\n",
       "  padding: .5ex;\n",
       "  margin: .5ex;\n",
       "  width: min-content;\n",
       "  min-width: 20ex;\n",
       "  max-width: 50ex;\n",
       "  color: var(--sklearn-color-text);\n",
       "  box-shadow: 2pt 2pt 4pt #999;\n",
       "  /* unfitted */\n",
       "  background: var(--sklearn-color-unfitted-level-0);\n",
       "  border: .5pt solid var(--sklearn-color-unfitted-level-3);\n",
       "}\n",
       "\n",
       ".sk-estimator-doc-link.fitted span {\n",
       "  /* fitted */\n",
       "  background: var(--sklearn-color-fitted-level-0);\n",
       "  border: var(--sklearn-color-fitted-level-3);\n",
       "}\n",
       "\n",
       ".sk-estimator-doc-link:hover span {\n",
       "  display: block;\n",
       "}\n",
       "\n",
       "/* \"?\"-specific style due to the `<a>` HTML tag */\n",
       "\n",
       "#sk-container-id-6 a.estimator_doc_link {\n",
       "  float: right;\n",
       "  font-size: 1rem;\n",
       "  line-height: 1em;\n",
       "  font-family: monospace;\n",
       "  background-color: var(--sklearn-color-background);\n",
       "  border-radius: 1rem;\n",
       "  height: 1rem;\n",
       "  width: 1rem;\n",
       "  text-decoration: none;\n",
       "  /* unfitted */\n",
       "  color: var(--sklearn-color-unfitted-level-1);\n",
       "  border: var(--sklearn-color-unfitted-level-1) 1pt solid;\n",
       "}\n",
       "\n",
       "#sk-container-id-6 a.estimator_doc_link.fitted {\n",
       "  /* fitted */\n",
       "  border: var(--sklearn-color-fitted-level-1) 1pt solid;\n",
       "  color: var(--sklearn-color-fitted-level-1);\n",
       "}\n",
       "\n",
       "/* On hover */\n",
       "#sk-container-id-6 a.estimator_doc_link:hover {\n",
       "  /* unfitted */\n",
       "  background-color: var(--sklearn-color-unfitted-level-3);\n",
       "  color: var(--sklearn-color-background);\n",
       "  text-decoration: none;\n",
       "}\n",
       "\n",
       "#sk-container-id-6 a.estimator_doc_link.fitted:hover {\n",
       "  /* fitted */\n",
       "  background-color: var(--sklearn-color-fitted-level-3);\n",
       "}\n",
       "</style><div id=\"sk-container-id-6\" class=\"sk-top-container\"><div class=\"sk-text-repr-fallback\"><pre>LogisticRegression()</pre><b>In a Jupyter environment, please rerun this cell to show the HTML representation or trust the notebook. <br />On GitHub, the HTML representation is unable to render, please try loading this page with nbviewer.org.</b></div><div class=\"sk-container\" hidden><div class=\"sk-item\"><div class=\"sk-estimator fitted sk-toggleable\"><input class=\"sk-toggleable__control sk-hidden--visually\" id=\"sk-estimator-id-6\" type=\"checkbox\" checked><label for=\"sk-estimator-id-6\" class=\"sk-toggleable__label fitted sk-toggleable__label-arrow fitted\">&nbsp;&nbsp;LogisticRegression<a class=\"sk-estimator-doc-link fitted\" rel=\"noreferrer\" target=\"_blank\" href=\"https://scikit-learn.org/1.4/modules/generated/sklearn.linear_model.LogisticRegression.html\">?<span>Documentation for LogisticRegression</span></a><span class=\"sk-estimator-doc-link fitted\">i<span>Fitted</span></span></label><div class=\"sk-toggleable__content fitted\"><pre>LogisticRegression()</pre></div> </div></div></div></div>"
      ],
      "text/plain": [
       "LogisticRegression()"
      ]
     },
     "execution_count": 107,
     "metadata": {},
     "output_type": "execute_result"
    }
   ],
   "source": [
    "logistic_model = LogisticRegression()\n",
    "\n",
    "logistic_model.fit(X_sm_scaled, y_sm)"
   ]
  },
  {
   "cell_type": "code",
   "execution_count": 113,
   "id": "9046fc13",
   "metadata": {},
   "outputs": [],
   "source": [
    "y_pred = logistic_model.predict(X_test_scaled)"
   ]
  },
  {
   "cell_type": "code",
   "execution_count": null,
   "id": "ac8df537",
   "metadata": {},
   "outputs": [],
   "source": [
    "accuracy = accuracy_score(y_test, y_pred)\n",
    "conf_matrix = confusion_matrix(y_test, y_pred)\n",
    "\n",
    "print(\"Accuracy:\", accuracy)\n",
    "print(\"Confusion Matrix:\")\n",
    "print(conf_matrix)"
   ]
  },
  {
   "cell_type": "markdown",
   "id": "fd685162",
   "metadata": {},
   "source": [
    "# Make it interactive"
   ]
  },
  {
   "cell_type": "markdown",
   "id": "3c5bbffb",
   "metadata": {},
   "source": [
    "## Define relevant scalers and functions"
   ]
  },
  {
   "cell_type": "code",
   "execution_count": 110,
   "id": "03f0d085",
   "metadata": {},
   "outputs": [],
   "source": [
    "scaler = StandardScaler()\n",
    "\n",
    "X_sm_scaled = scaler.fit_transform(X_sm)\n",
    "X_test_scaled = scaler.transform(X_test)\n",
    "\n",
    "def preprocess_user_input(user_input_E_MINRTY, user_input_E_MUNIT, user_input_E_NOVEH):\n",
    "    user_data = [[user_input_E_MINRTY, user_input_E_MUNIT, user_input_E_NOVEH]]\n",
    "    user_data_scaled = scaler.transform(user_data)\n",
    "    return user_data_scaled"
   ]
  },
  {
   "cell_type": "markdown",
   "id": "a5e44e28",
   "metadata": {},
   "source": [
    "## It is 2028. The U.S. has expanded due to Emperor Trump's aggressive war against NATO. You are the government representative of Ardenia, a county in the state of Covfefe.\n",
    "\n",
    "## You have hired a political consulting firm to assess whether the majority of your county are Democrat sympathizers or not. They have a machine learning model that will tell you which political party would win given an election...if that were still an option."
   ]
  },
  {
   "cell_type": "code",
   "execution_count": null,
   "id": "dff19371",
   "metadata": {},
   "outputs": [
    {
     "name": "stdout",
     "output_type": "stream",
     "text": [
      "Refrain from using commas or periods while entering the following numerical data requested.\n"
     ]
    }
   ],
   "source": [
    "print(\"Refrain from using commas or periods while entering the following numerical data requested.\")\n",
    "\n",
    "while True:\n",
    "    user_input_E_MINRTY = input(\"Enter the estimated number of non-Caucasians (Hispanic or Latino; Black and African American; American Indian and Alaska Native; Asian; Native Hawaiian and Other Pacific Islander; Two or More Races; Other Races): \")\n",
    "    if ',' in user_input_E_MINRTY or '.' in user_input_E_MINRTY:\n",
    "        print(\"Please do not enter commas or periods.\")\n",
    "        continue \n",
    "    try:\n",
    "        user_input_E_MINRTY = int(user_input_E_MINRTY)\n",
    "        break\n",
    "    except ValueError:\n",
    "        print(\"Please enter a valid integer.\")\n",
    "\n",
    "print(\"Estimated number of non-Caucasians:\", user_input_E_MINRTY)\n",
    "\n",
    "while True:\n",
    "    user_input_E_MUNIT = input(\"Enter the estimated number of buildings containing 10 or more housing units: \")\n",
    "    if ',' in user_input_E_MUNIT or '.' in user_input_E_MUNIT:\n",
    "        print(\"Please do not enter commas or periods.\")\n",
    "        continue\n",
    "    try:\n",
    "        user_input_E_MUNIT = int(user_input_E_MUNIT)\n",
    "        break\n",
    "    except ValueError:\n",
    "        print(\"Please enter a valid integer.\")\n",
    "\n",
    "print(\"Estimated number of buildings containing 10 or more housing units:\", user_input_E_MUNIT)\n",
    "\n",
    "while True:\n",
    "    user_input_E_NOVEH = input(\"Enter the estimated number of people with no vehicle: \")\n",
    "    if ',' in user_input_E_NOVEH or '.' in user_input_E_NOVEH:\n",
    "        print(\"Please do not enter commas or periods.\")\n",
    "        continue\n",
    "    try:\n",
    "        user_input_E_NOVEH = int(user_input_E_NOVEH)\n",
    "        break\n",
    "    except ValueError:\n",
    "        print(\"Please enter a valid integer.\")\n",
    "\n",
    "print(\"Estimated number of people with no vehicle:\", user_input_E_NOVEH)\n",
    "\n",
    "print(\"Calculating the probable election outcome of the old regime, given the entered data...\")\n",
    "\n",
    "user_data_scaled = preprocess_user_input(user_input_E_MINRTY, user_input_E_MUNIT, user_input_E_NOVEH)\n",
    "\n",
    "prediction = logistic_model.predict(user_data_scaled)\n",
    "prediction_prob = logistic_model.predict_proba(user_data_scaled)\n",
    "print(\"Predicted outcome:\", prediction)"
   ]
  },
  {
   "cell_type": "code",
   "execution_count": null,
   "id": "33431e76",
   "metadata": {},
   "outputs": [],
   "source": []
  }
 ],
 "metadata": {
  "kernelspec": {
   "display_name": "Python 3 (ipykernel)",
   "language": "python",
   "name": "python3"
  },
  "language_info": {
   "codemirror_mode": {
    "name": "ipython",
    "version": 3
   },
   "file_extension": ".py",
   "mimetype": "text/x-python",
   "name": "python",
   "nbconvert_exporter": "python",
   "pygments_lexer": "ipython3",
   "version": "3.11.5"
  }
 },
 "nbformat": 4,
 "nbformat_minor": 5
}
